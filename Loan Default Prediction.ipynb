{
 "cells": [
  {
   "cell_type": "markdown",
   "metadata": {},
   "source": [
    "### Table of contents:\n",
    "1. [Downloading Data](#downloading)\n",
    "2. [EDA and preprocessing](#eda)\n",
    "3. [Modeling](#modeling)\n",
    "4. [2nd Pass - EDA and preprocessing](#eda2)\n",
    "5. [2nd Pass - Modeling](#model2)\n",
    "6. [Summary](#summary)"
   ]
  },
  {
   "cell_type": "markdown",
   "metadata": {},
   "source": [
    "Imports:"
   ]
  },
  {
   "cell_type": "code",
   "execution_count": 8,
   "metadata": {},
   "outputs": [],
   "source": [
    "import pandas as pd\n",
    "import numpy as np\n",
    "\n",
    "from matplotlib import pyplot as plt\n",
    "import seaborn as sns\n",
    "\n",
    "from sklearn.impute import SimpleImputer\n",
    "from sklearn.preprocessing import LabelEncoder\n",
    "from sklearn.pipeline import Pipeline\n",
    "\n",
    "import warnings\n",
    "import gc\n",
    "\n",
    "warnings.simplefilter(action='ignore', category='DeprecationWarning')\n",
    "warnings.simplefilter(action='ignore', category='FutureWarning')\n",
    "\n",
    "sns.set_style('white')\n",
    "%matplotlib inline\n",
    "\n",
    "np.random.seed(42)\n",
    "\n",
    "pd.set_option('display.max_colwidth', 1000)\n",
    "pd.set_option('display.max_rows', 200)"
   ]
  },
  {
   "cell_type": "markdown",
   "metadata": {},
   "source": [
    "<a name=\"downloading\"></a>\n",
    "__1. Downloading data__"
   ]
  },
  {
   "cell_type": "code",
   "execution_count": 6,
   "metadata": {
    "collapsed": true
   },
   "outputs": [
    {
     "name": "stdout",
     "output_type": "stream",
     "text": [
      "--2019-04-11 20:45:57--  https://www.kaggle.com/wendykan/lending-club-loan-data/downloads/lending-club-loan-data.zip\n",
      "Loaded CA certificate '/etc/ssl/certs/ca-certificates.crt'\n",
      "Resolving www.kaggle.com (www.kaggle.com)... 35.244.233.98\n",
      "Connecting to www.kaggle.com (www.kaggle.com)|35.244.233.98|:443... connected.\n",
      "HTTP request sent, awaiting response... 302 Found\n",
      "Location: /account/login?returnUrl=%2Fwendykan%2Flending-club-loan-data%2Fdata [following]\n",
      "--2019-04-11 20:45:58--  https://www.kaggle.com/account/login?returnUrl=%2Fwendykan%2Flending-club-loan-data%2Fdata\n",
      "Reusing existing connection to www.kaggle.com:443.\n",
      "HTTP request sent, awaiting response... 200 OK\n",
      "Length: unspecified [text/html]\n",
      "Saving to: ‘lending-club-loan-data.zip’\n",
      "\n",
      "lending-club-loan-d     [ <=>                ]   8,33K  --.-KB/s    in 0,003s  \n",
      "\n",
      "2019-04-11 20:45:58 (2,82 MB/s) - ‘lending-club-loan-data.zip’ saved [8535]\n",
      "\n"
     ]
    }
   ],
   "source": [
    "!wget 'https://www.kaggle.com/wendykan/lending-club-loan-data/downloads/lending-club-loan-data.zip'"
   ]
  },
  {
   "cell_type": "code",
   "execution_count": 13,
   "metadata": {
    "collapsed": true
   },
   "outputs": [
    {
     "name": "stdout",
     "output_type": "stream",
     "text": [
      "total 719244\r\n",
      "drwxr-xr-x  3 karol karol      4096 04-11 20:57  .\r\n",
      "drwxr-xr-x 11 karol karol      4096 04-11 20:41  ..\r\n",
      "drwxr-xr-x  2 karol karol      4096 04-11 20:42  .ipynb_checkpoints\r\n",
      "-rw-r--r--  1 karol karol 736483000 04-11 20:57  lending-club-loan-data.zip\r\n",
      "-rw-r--r--  1 karol karol      3773 04-11 20:50 'Loan Default Prediction.ipynb'\r\n"
     ]
    }
   ],
   "source": [
    "!ls -la"
   ]
  },
  {
   "cell_type": "code",
   "execution_count": 14,
   "metadata": {
    "collapsed": true
   },
   "outputs": [
    {
     "name": "stdout",
     "output_type": "stream",
     "text": [
      "Archive:  lending-club-loan-data.zip\n",
      "  inflating: LCDataDictionary.xlsx   \n",
      "  inflating: database.sqlite         \n",
      "  inflating: loan.csv                \n"
     ]
    }
   ],
   "source": [
    "!unzip lending-club-loan-data.zip"
   ]
  },
  {
   "cell_type": "code",
   "execution_count": 15,
   "metadata": {
    "collapsed": true
   },
   "outputs": [
    {
     "name": "stdout",
     "output_type": "stream",
     "text": [
      "total 3162180\r\n",
      "drwxr-xr-x  3 karol karol       4096 04-11 20:57  \u001b[0m\u001b[01;34m.\u001b[0m/\r\n",
      "drwxr-xr-x 11 karol karol       4096 04-11 20:41  \u001b[01;34m..\u001b[0m/\r\n",
      "----------  1 karol karol 1312145408 03-18 18:44  database.sqlite\r\n",
      "drwxr-xr-x  2 karol karol       4096 04-11 20:42  \u001b[01;34m.ipynb_checkpoints\u001b[0m/\r\n",
      "----------  1 karol karol      23582 03-18 18:44  LCDataDictionary.xlsx\r\n",
      "-rw-r--r--  1 karol karol  736483000 04-11 20:57  \u001b[01;31mlending-club-loan-data.zip\u001b[0m\r\n",
      "----------  1 karol karol 1189395649 03-18 18:45  loan.csv\r\n",
      "-rw-r--r--  1 karol karol       3773 04-11 20:50 'Loan Default Prediction.ipynb'\r\n"
     ]
    }
   ],
   "source": [
    "!ls -la"
   ]
  },
  {
   "cell_type": "code",
   "execution_count": 19,
   "metadata": {},
   "outputs": [],
   "source": [
    "!chmod 700 loan.csv LCDataDictionary.xlsx database.sqlite"
   ]
  },
  {
   "cell_type": "markdown",
   "metadata": {},
   "source": [
    "Loading CSV"
   ]
  },
  {
   "cell_type": "code",
   "execution_count": 9,
   "metadata": {},
   "outputs": [],
   "source": [
    "data = pd.read_csv('loan.csv', low_memory=False)"
   ]
  },
  {
   "cell_type": "code",
   "execution_count": 3,
   "metadata": {},
   "outputs": [],
   "source": [
    "data_dict = pd.read_excel('LCDataDictionary.xlsx')"
   ]
  },
  {
   "cell_type": "code",
   "execution_count": 4,
   "metadata": {},
   "outputs": [
    {
     "data": {
      "text/plain": [
       "(153, 2)"
      ]
     },
     "execution_count": 4,
     "metadata": {},
     "output_type": "execute_result"
    }
   ],
   "source": [
    "data_dict.shape"
   ]
  },
  {
   "cell_type": "code",
   "execution_count": 5,
   "metadata": {},
   "outputs": [
    {
     "data": {
      "text/plain": [
       "Index(['LoanStatNew', 'Description'], dtype='object')"
      ]
     },
     "execution_count": 5,
     "metadata": {},
     "output_type": "execute_result"
    }
   ],
   "source": [
    "data_dict.columns"
   ]
  },
  {
   "cell_type": "code",
   "execution_count": 20,
   "metadata": {
    "collapsed": true
   },
   "outputs": [
    {
     "data": {
      "text/html": [
       "<div>\n",
       "<style scoped>\n",
       "    .dataframe tbody tr th:only-of-type {\n",
       "        vertical-align: middle;\n",
       "    }\n",
       "\n",
       "    .dataframe tbody tr th {\n",
       "        vertical-align: top;\n",
       "    }\n",
       "\n",
       "    .dataframe thead th {\n",
       "        text-align: right;\n",
       "    }\n",
       "</style>\n",
       "<table border=\"1\" class=\"dataframe\">\n",
       "  <thead>\n",
       "    <tr style=\"text-align: right;\">\n",
       "      <th></th>\n",
       "      <th>LoanStatNew</th>\n",
       "      <th>Description</th>\n",
       "    </tr>\n",
       "  </thead>\n",
       "  <tbody>\n",
       "    <tr>\n",
       "      <th>0</th>\n",
       "      <td>acc_now_delinq</td>\n",
       "      <td>The number of accounts on which the borrower is now delinquent.</td>\n",
       "    </tr>\n",
       "    <tr>\n",
       "      <th>1</th>\n",
       "      <td>acc_open_past_24mths</td>\n",
       "      <td>Number of trades opened in past 24 months.</td>\n",
       "    </tr>\n",
       "    <tr>\n",
       "      <th>2</th>\n",
       "      <td>addr_state</td>\n",
       "      <td>The state provided by the borrower in the loan application</td>\n",
       "    </tr>\n",
       "    <tr>\n",
       "      <th>3</th>\n",
       "      <td>all_util</td>\n",
       "      <td>Balance to credit limit on all trades</td>\n",
       "    </tr>\n",
       "    <tr>\n",
       "      <th>4</th>\n",
       "      <td>annual_inc</td>\n",
       "      <td>The self-reported annual income provided by the borrower during registration.</td>\n",
       "    </tr>\n",
       "    <tr>\n",
       "      <th>5</th>\n",
       "      <td>annual_inc_joint</td>\n",
       "      <td>The combined self-reported annual income provided by the co-borrowers during registration</td>\n",
       "    </tr>\n",
       "    <tr>\n",
       "      <th>6</th>\n",
       "      <td>application_type</td>\n",
       "      <td>Indicates whether the loan is an individual application or a joint application with two co-borrowers</td>\n",
       "    </tr>\n",
       "    <tr>\n",
       "      <th>7</th>\n",
       "      <td>avg_cur_bal</td>\n",
       "      <td>Average current balance of all accounts</td>\n",
       "    </tr>\n",
       "    <tr>\n",
       "      <th>8</th>\n",
       "      <td>bc_open_to_buy</td>\n",
       "      <td>Total open to buy on revolving bankcards.</td>\n",
       "    </tr>\n",
       "    <tr>\n",
       "      <th>9</th>\n",
       "      <td>bc_util</td>\n",
       "      <td>Ratio of total current balance to high credit/credit limit for all bankcard accounts.</td>\n",
       "    </tr>\n",
       "    <tr>\n",
       "      <th>10</th>\n",
       "      <td>chargeoff_within_12_mths</td>\n",
       "      <td>Number of charge-offs within 12 months</td>\n",
       "    </tr>\n",
       "    <tr>\n",
       "      <th>11</th>\n",
       "      <td>collection_recovery_fee</td>\n",
       "      <td>post charge off collection fee</td>\n",
       "    </tr>\n",
       "    <tr>\n",
       "      <th>12</th>\n",
       "      <td>collections_12_mths_ex_med</td>\n",
       "      <td>Number of collections in 12 months excluding medical collections</td>\n",
       "    </tr>\n",
       "    <tr>\n",
       "      <th>13</th>\n",
       "      <td>delinq_2yrs</td>\n",
       "      <td>The number of 30+ days past-due incidences of delinquency in the borrower's credit file for the past 2 years</td>\n",
       "    </tr>\n",
       "    <tr>\n",
       "      <th>14</th>\n",
       "      <td>delinq_amnt</td>\n",
       "      <td>The past-due amount owed for the accounts on which the borrower is now delinquent.</td>\n",
       "    </tr>\n",
       "    <tr>\n",
       "      <th>15</th>\n",
       "      <td>desc</td>\n",
       "      <td>Loan description provided by the borrower</td>\n",
       "    </tr>\n",
       "    <tr>\n",
       "      <th>16</th>\n",
       "      <td>dti</td>\n",
       "      <td>A ratio calculated using the borrower’s total monthly debt payments on the total debt obligations, excluding mortgage and the requested LC loan, divided by the borrower’s self-reported monthly income.</td>\n",
       "    </tr>\n",
       "    <tr>\n",
       "      <th>17</th>\n",
       "      <td>dti_joint</td>\n",
       "      <td>A ratio calculated using the co-borrowers' total monthly payments on the total debt obligations, excluding mortgages and the requested LC loan, divided by the co-borrowers' combined self-reported monthly income</td>\n",
       "    </tr>\n",
       "    <tr>\n",
       "      <th>18</th>\n",
       "      <td>earliest_cr_line</td>\n",
       "      <td>The month the borrower's earliest reported credit line was opened</td>\n",
       "    </tr>\n",
       "    <tr>\n",
       "      <th>19</th>\n",
       "      <td>emp_length</td>\n",
       "      <td>Employment length in years. Possible values are between 0 and 10 where 0 means less than one year and 10 means ten or more years.</td>\n",
       "    </tr>\n",
       "    <tr>\n",
       "      <th>20</th>\n",
       "      <td>emp_title</td>\n",
       "      <td>The job title supplied by the Borrower when applying for the loan.*</td>\n",
       "    </tr>\n",
       "    <tr>\n",
       "      <th>21</th>\n",
       "      <td>fico_range_high</td>\n",
       "      <td>The upper boundary range the borrower’s FICO at loan origination belongs to.</td>\n",
       "    </tr>\n",
       "    <tr>\n",
       "      <th>22</th>\n",
       "      <td>fico_range_low</td>\n",
       "      <td>The lower boundary range the borrower’s FICO at loan origination belongs to.</td>\n",
       "    </tr>\n",
       "    <tr>\n",
       "      <th>23</th>\n",
       "      <td>funded_amnt</td>\n",
       "      <td>The total amount committed to that loan at that point in time.</td>\n",
       "    </tr>\n",
       "    <tr>\n",
       "      <th>24</th>\n",
       "      <td>funded_amnt_inv</td>\n",
       "      <td>The total amount committed by investors for that loan at that point in time.</td>\n",
       "    </tr>\n",
       "    <tr>\n",
       "      <th>25</th>\n",
       "      <td>grade</td>\n",
       "      <td>LC assigned loan grade</td>\n",
       "    </tr>\n",
       "    <tr>\n",
       "      <th>26</th>\n",
       "      <td>home_ownership</td>\n",
       "      <td>The home ownership status provided by the borrower during registration or obtained from the credit report. Our values are: RENT, OWN, MORTGAGE, OTHER</td>\n",
       "    </tr>\n",
       "    <tr>\n",
       "      <th>27</th>\n",
       "      <td>id</td>\n",
       "      <td>A unique LC assigned ID for the loan listing.</td>\n",
       "    </tr>\n",
       "    <tr>\n",
       "      <th>28</th>\n",
       "      <td>il_util</td>\n",
       "      <td>Ratio of total current balance to high credit/credit limit on all install acct</td>\n",
       "    </tr>\n",
       "    <tr>\n",
       "      <th>29</th>\n",
       "      <td>initial_list_status</td>\n",
       "      <td>The initial listing status of the loan. Possible values are – W, F</td>\n",
       "    </tr>\n",
       "    <tr>\n",
       "      <th>30</th>\n",
       "      <td>inq_fi</td>\n",
       "      <td>Number of personal finance inquiries</td>\n",
       "    </tr>\n",
       "    <tr>\n",
       "      <th>31</th>\n",
       "      <td>inq_last_12m</td>\n",
       "      <td>Number of credit inquiries in past 12 months</td>\n",
       "    </tr>\n",
       "    <tr>\n",
       "      <th>32</th>\n",
       "      <td>inq_last_6mths</td>\n",
       "      <td>The number of inquiries in past 6 months (excluding auto and mortgage inquiries)</td>\n",
       "    </tr>\n",
       "    <tr>\n",
       "      <th>33</th>\n",
       "      <td>installment</td>\n",
       "      <td>The monthly payment owed by the borrower if the loan originates.</td>\n",
       "    </tr>\n",
       "    <tr>\n",
       "      <th>34</th>\n",
       "      <td>int_rate</td>\n",
       "      <td>Interest Rate on the loan</td>\n",
       "    </tr>\n",
       "    <tr>\n",
       "      <th>35</th>\n",
       "      <td>issue_d</td>\n",
       "      <td>The month which the loan was funded</td>\n",
       "    </tr>\n",
       "    <tr>\n",
       "      <th>36</th>\n",
       "      <td>last_credit_pull_d</td>\n",
       "      <td>The most recent month LC pulled credit for this loan</td>\n",
       "    </tr>\n",
       "    <tr>\n",
       "      <th>37</th>\n",
       "      <td>last_fico_range_high</td>\n",
       "      <td>The upper boundary range the borrower’s last FICO pulled belongs to.</td>\n",
       "    </tr>\n",
       "    <tr>\n",
       "      <th>38</th>\n",
       "      <td>last_fico_range_low</td>\n",
       "      <td>The lower boundary range the borrower’s last FICO pulled belongs to.</td>\n",
       "    </tr>\n",
       "    <tr>\n",
       "      <th>39</th>\n",
       "      <td>last_pymnt_amnt</td>\n",
       "      <td>Last total payment amount received</td>\n",
       "    </tr>\n",
       "    <tr>\n",
       "      <th>40</th>\n",
       "      <td>last_pymnt_d</td>\n",
       "      <td>Last month payment was received</td>\n",
       "    </tr>\n",
       "    <tr>\n",
       "      <th>41</th>\n",
       "      <td>loan_amnt</td>\n",
       "      <td>The listed amount of the loan applied for by the borrower. If at some point in time, the credit department reduces the loan amount, then it will be reflected in this value.</td>\n",
       "    </tr>\n",
       "    <tr>\n",
       "      <th>42</th>\n",
       "      <td>loan_status</td>\n",
       "      <td>Current status of the loan</td>\n",
       "    </tr>\n",
       "    <tr>\n",
       "      <th>43</th>\n",
       "      <td>max_bal_bc</td>\n",
       "      <td>Maximum current balance owed on all revolving accounts</td>\n",
       "    </tr>\n",
       "    <tr>\n",
       "      <th>44</th>\n",
       "      <td>member_id</td>\n",
       "      <td>A unique LC assigned Id for the borrower member.</td>\n",
       "    </tr>\n",
       "    <tr>\n",
       "      <th>45</th>\n",
       "      <td>mo_sin_old_il_acct</td>\n",
       "      <td>Months since oldest bank installment account opened</td>\n",
       "    </tr>\n",
       "    <tr>\n",
       "      <th>46</th>\n",
       "      <td>mo_sin_old_rev_tl_op</td>\n",
       "      <td>Months since oldest revolving account opened</td>\n",
       "    </tr>\n",
       "    <tr>\n",
       "      <th>47</th>\n",
       "      <td>mo_sin_rcnt_rev_tl_op</td>\n",
       "      <td>Months since most recent revolving account opened</td>\n",
       "    </tr>\n",
       "    <tr>\n",
       "      <th>48</th>\n",
       "      <td>mo_sin_rcnt_tl</td>\n",
       "      <td>Months since most recent account opened</td>\n",
       "    </tr>\n",
       "    <tr>\n",
       "      <th>49</th>\n",
       "      <td>mort_acc</td>\n",
       "      <td>Number of mortgage accounts.</td>\n",
       "    </tr>\n",
       "    <tr>\n",
       "      <th>50</th>\n",
       "      <td>mths_since_last_delinq</td>\n",
       "      <td>The number of months since the borrower's last delinquency.</td>\n",
       "    </tr>\n",
       "    <tr>\n",
       "      <th>51</th>\n",
       "      <td>mths_since_last_major_derog</td>\n",
       "      <td>Months since most recent 90-day or worse rating</td>\n",
       "    </tr>\n",
       "    <tr>\n",
       "      <th>52</th>\n",
       "      <td>mths_since_last_record</td>\n",
       "      <td>The number of months since the last public record.</td>\n",
       "    </tr>\n",
       "    <tr>\n",
       "      <th>53</th>\n",
       "      <td>mths_since_rcnt_il</td>\n",
       "      <td>Months since most recent installment accounts opened</td>\n",
       "    </tr>\n",
       "    <tr>\n",
       "      <th>54</th>\n",
       "      <td>mths_since_recent_bc</td>\n",
       "      <td>Months since most recent bankcard account opened.</td>\n",
       "    </tr>\n",
       "    <tr>\n",
       "      <th>55</th>\n",
       "      <td>mths_since_recent_bc_dlq</td>\n",
       "      <td>Months since most recent bankcard delinquency</td>\n",
       "    </tr>\n",
       "    <tr>\n",
       "      <th>56</th>\n",
       "      <td>mths_since_recent_inq</td>\n",
       "      <td>Months since most recent inquiry.</td>\n",
       "    </tr>\n",
       "    <tr>\n",
       "      <th>57</th>\n",
       "      <td>mths_since_recent_revol_delinq</td>\n",
       "      <td>Months since most recent revolving delinquency.</td>\n",
       "    </tr>\n",
       "    <tr>\n",
       "      <th>58</th>\n",
       "      <td>next_pymnt_d</td>\n",
       "      <td>Next scheduled payment date</td>\n",
       "    </tr>\n",
       "    <tr>\n",
       "      <th>59</th>\n",
       "      <td>num_accts_ever_120_pd</td>\n",
       "      <td>Number of accounts ever 120 or more days past due</td>\n",
       "    </tr>\n",
       "    <tr>\n",
       "      <th>60</th>\n",
       "      <td>num_actv_bc_tl</td>\n",
       "      <td>Number of currently active bankcard accounts</td>\n",
       "    </tr>\n",
       "    <tr>\n",
       "      <th>61</th>\n",
       "      <td>num_actv_rev_tl</td>\n",
       "      <td>Number of currently active revolving trades</td>\n",
       "    </tr>\n",
       "    <tr>\n",
       "      <th>62</th>\n",
       "      <td>num_bc_sats</td>\n",
       "      <td>Number of satisfactory bankcard accounts</td>\n",
       "    </tr>\n",
       "    <tr>\n",
       "      <th>63</th>\n",
       "      <td>num_bc_tl</td>\n",
       "      <td>Number of bankcard accounts</td>\n",
       "    </tr>\n",
       "    <tr>\n",
       "      <th>64</th>\n",
       "      <td>num_il_tl</td>\n",
       "      <td>Number of installment accounts</td>\n",
       "    </tr>\n",
       "    <tr>\n",
       "      <th>65</th>\n",
       "      <td>num_op_rev_tl</td>\n",
       "      <td>Number of open revolving accounts</td>\n",
       "    </tr>\n",
       "    <tr>\n",
       "      <th>66</th>\n",
       "      <td>num_rev_accts</td>\n",
       "      <td>Number of revolving accounts</td>\n",
       "    </tr>\n",
       "    <tr>\n",
       "      <th>67</th>\n",
       "      <td>num_rev_tl_bal_gt_0</td>\n",
       "      <td>Number of revolving trades with balance &gt;0</td>\n",
       "    </tr>\n",
       "    <tr>\n",
       "      <th>68</th>\n",
       "      <td>num_sats</td>\n",
       "      <td>Number of satisfactory accounts</td>\n",
       "    </tr>\n",
       "    <tr>\n",
       "      <th>69</th>\n",
       "      <td>num_tl_120dpd_2m</td>\n",
       "      <td>Number of accounts currently 120 days past due (updated in past 2 months)</td>\n",
       "    </tr>\n",
       "    <tr>\n",
       "      <th>70</th>\n",
       "      <td>num_tl_30dpd</td>\n",
       "      <td>Number of accounts currently 30 days past due (updated in past 2 months)</td>\n",
       "    </tr>\n",
       "    <tr>\n",
       "      <th>71</th>\n",
       "      <td>num_tl_90g_dpd_24m</td>\n",
       "      <td>Number of accounts 90 or more days past due in last 24 months</td>\n",
       "    </tr>\n",
       "    <tr>\n",
       "      <th>72</th>\n",
       "      <td>num_tl_op_past_12m</td>\n",
       "      <td>Number of accounts opened in past 12 months</td>\n",
       "    </tr>\n",
       "    <tr>\n",
       "      <th>73</th>\n",
       "      <td>open_acc</td>\n",
       "      <td>The number of open credit lines in the borrower's credit file.</td>\n",
       "    </tr>\n",
       "    <tr>\n",
       "      <th>74</th>\n",
       "      <td>open_acc_6m</td>\n",
       "      <td>Number of open trades in last 6 months</td>\n",
       "    </tr>\n",
       "    <tr>\n",
       "      <th>75</th>\n",
       "      <td>open_il_12m</td>\n",
       "      <td>Number of installment accounts opened in past 12 months</td>\n",
       "    </tr>\n",
       "    <tr>\n",
       "      <th>76</th>\n",
       "      <td>open_il_24m</td>\n",
       "      <td>Number of installment accounts opened in past 24 months</td>\n",
       "    </tr>\n",
       "    <tr>\n",
       "      <th>77</th>\n",
       "      <td>open_act_il</td>\n",
       "      <td>Number of currently active installment trades</td>\n",
       "    </tr>\n",
       "    <tr>\n",
       "      <th>78</th>\n",
       "      <td>open_rv_12m</td>\n",
       "      <td>Number of revolving trades opened in past 12 months</td>\n",
       "    </tr>\n",
       "    <tr>\n",
       "      <th>79</th>\n",
       "      <td>open_rv_24m</td>\n",
       "      <td>Number of revolving trades opened in past 24 months</td>\n",
       "    </tr>\n",
       "    <tr>\n",
       "      <th>80</th>\n",
       "      <td>out_prncp</td>\n",
       "      <td>Remaining outstanding principal for total amount funded</td>\n",
       "    </tr>\n",
       "    <tr>\n",
       "      <th>81</th>\n",
       "      <td>out_prncp_inv</td>\n",
       "      <td>Remaining outstanding principal for portion of total amount funded by investors</td>\n",
       "    </tr>\n",
       "    <tr>\n",
       "      <th>82</th>\n",
       "      <td>pct_tl_nvr_dlq</td>\n",
       "      <td>Percent of trades never delinquent</td>\n",
       "    </tr>\n",
       "    <tr>\n",
       "      <th>83</th>\n",
       "      <td>percent_bc_gt_75</td>\n",
       "      <td>Percentage of all bankcard accounts &gt; 75% of limit.</td>\n",
       "    </tr>\n",
       "    <tr>\n",
       "      <th>84</th>\n",
       "      <td>policy_code</td>\n",
       "      <td>publicly available policy_code=1\\nnew products not publicly available policy_code=2</td>\n",
       "    </tr>\n",
       "    <tr>\n",
       "      <th>85</th>\n",
       "      <td>pub_rec</td>\n",
       "      <td>Number of derogatory public records</td>\n",
       "    </tr>\n",
       "    <tr>\n",
       "      <th>86</th>\n",
       "      <td>pub_rec_bankruptcies</td>\n",
       "      <td>Number of public record bankruptcies</td>\n",
       "    </tr>\n",
       "    <tr>\n",
       "      <th>87</th>\n",
       "      <td>purpose</td>\n",
       "      <td>A category provided by the borrower for the loan request.</td>\n",
       "    </tr>\n",
       "    <tr>\n",
       "      <th>88</th>\n",
       "      <td>pymnt_plan</td>\n",
       "      <td>Indicates if a payment plan has been put in place for the loan</td>\n",
       "    </tr>\n",
       "    <tr>\n",
       "      <th>89</th>\n",
       "      <td>recoveries</td>\n",
       "      <td>post charge off gross recovery</td>\n",
       "    </tr>\n",
       "    <tr>\n",
       "      <th>90</th>\n",
       "      <td>revol_bal</td>\n",
       "      <td>Total credit revolving balance</td>\n",
       "    </tr>\n",
       "    <tr>\n",
       "      <th>91</th>\n",
       "      <td>revol_util</td>\n",
       "      <td>Revolving line utilization rate, or the amount of credit the borrower is using relative to all available revolving credit.</td>\n",
       "    </tr>\n",
       "    <tr>\n",
       "      <th>92</th>\n",
       "      <td>sub_grade</td>\n",
       "      <td>LC assigned loan subgrade</td>\n",
       "    </tr>\n",
       "    <tr>\n",
       "      <th>93</th>\n",
       "      <td>tax_liens</td>\n",
       "      <td>Number of tax liens</td>\n",
       "    </tr>\n",
       "    <tr>\n",
       "      <th>94</th>\n",
       "      <td>term</td>\n",
       "      <td>The number of payments on the loan. Values are in months and can be either 36 or 60.</td>\n",
       "    </tr>\n",
       "    <tr>\n",
       "      <th>95</th>\n",
       "      <td>title</td>\n",
       "      <td>The loan title provided by the borrower</td>\n",
       "    </tr>\n",
       "    <tr>\n",
       "      <th>96</th>\n",
       "      <td>tot_coll_amt</td>\n",
       "      <td>Total collection amounts ever owed</td>\n",
       "    </tr>\n",
       "    <tr>\n",
       "      <th>97</th>\n",
       "      <td>tot_cur_bal</td>\n",
       "      <td>Total current balance of all accounts</td>\n",
       "    </tr>\n",
       "    <tr>\n",
       "      <th>98</th>\n",
       "      <td>tot_hi_cred_lim</td>\n",
       "      <td>Total high credit/credit limit</td>\n",
       "    </tr>\n",
       "    <tr>\n",
       "      <th>99</th>\n",
       "      <td>total_acc</td>\n",
       "      <td>The total number of credit lines currently in the borrower's credit file</td>\n",
       "    </tr>\n",
       "    <tr>\n",
       "      <th>100</th>\n",
       "      <td>total_bal_ex_mort</td>\n",
       "      <td>Total credit balance excluding mortgage</td>\n",
       "    </tr>\n",
       "    <tr>\n",
       "      <th>101</th>\n",
       "      <td>total_bal_il</td>\n",
       "      <td>Total current balance of all installment accounts</td>\n",
       "    </tr>\n",
       "    <tr>\n",
       "      <th>102</th>\n",
       "      <td>total_bc_limit</td>\n",
       "      <td>Total bankcard high credit/credit limit</td>\n",
       "    </tr>\n",
       "    <tr>\n",
       "      <th>103</th>\n",
       "      <td>total_cu_tl</td>\n",
       "      <td>Number of finance trades</td>\n",
       "    </tr>\n",
       "    <tr>\n",
       "      <th>104</th>\n",
       "      <td>total_il_high_credit_limit</td>\n",
       "      <td>Total installment high credit/credit limit</td>\n",
       "    </tr>\n",
       "    <tr>\n",
       "      <th>105</th>\n",
       "      <td>total_pymnt</td>\n",
       "      <td>Payments received to date for total amount funded</td>\n",
       "    </tr>\n",
       "    <tr>\n",
       "      <th>106</th>\n",
       "      <td>total_pymnt_inv</td>\n",
       "      <td>Payments received to date for portion of total amount funded by investors</td>\n",
       "    </tr>\n",
       "    <tr>\n",
       "      <th>107</th>\n",
       "      <td>total_rec_int</td>\n",
       "      <td>Interest received to date</td>\n",
       "    </tr>\n",
       "    <tr>\n",
       "      <th>108</th>\n",
       "      <td>total_rec_late_fee</td>\n",
       "      <td>Late fees received to date</td>\n",
       "    </tr>\n",
       "    <tr>\n",
       "      <th>109</th>\n",
       "      <td>total_rec_prncp</td>\n",
       "      <td>Principal received to date</td>\n",
       "    </tr>\n",
       "    <tr>\n",
       "      <th>110</th>\n",
       "      <td>total_rev_hi_lim</td>\n",
       "      <td>Total revolving high credit/credit limit</td>\n",
       "    </tr>\n",
       "    <tr>\n",
       "      <th>111</th>\n",
       "      <td>url</td>\n",
       "      <td>URL for the LC page with listing data.</td>\n",
       "    </tr>\n",
       "    <tr>\n",
       "      <th>112</th>\n",
       "      <td>verification_status</td>\n",
       "      <td>Indicates if income was verified by LC, not verified, or if the income source was verified</td>\n",
       "    </tr>\n",
       "    <tr>\n",
       "      <th>113</th>\n",
       "      <td>verified_status_joint</td>\n",
       "      <td>Indicates if the co-borrowers' joint income was verified by LC, not verified, or if the income source was verified</td>\n",
       "    </tr>\n",
       "    <tr>\n",
       "      <th>114</th>\n",
       "      <td>zip_code</td>\n",
       "      <td>The first 3 numbers of the zip code provided by the borrower in the loan application.</td>\n",
       "    </tr>\n",
       "    <tr>\n",
       "      <th>115</th>\n",
       "      <td>revol_bal_joint</td>\n",
       "      <td>Sum of revolving credit balance of the co-borrowers, net of duplicate balances</td>\n",
       "    </tr>\n",
       "    <tr>\n",
       "      <th>116</th>\n",
       "      <td>sec_app_fico_range_low</td>\n",
       "      <td>FICO range (high) for the secondary applicant</td>\n",
       "    </tr>\n",
       "    <tr>\n",
       "      <th>117</th>\n",
       "      <td>sec_app_fico_range_high</td>\n",
       "      <td>FICO range (low) for the secondary applicant</td>\n",
       "    </tr>\n",
       "    <tr>\n",
       "      <th>118</th>\n",
       "      <td>sec_app_earliest_cr_line</td>\n",
       "      <td>Earliest credit line at time of application for the secondary applicant</td>\n",
       "    </tr>\n",
       "    <tr>\n",
       "      <th>119</th>\n",
       "      <td>sec_app_inq_last_6mths</td>\n",
       "      <td>Credit inquiries in the last 6 months at time of application for the secondary applicant</td>\n",
       "    </tr>\n",
       "    <tr>\n",
       "      <th>120</th>\n",
       "      <td>sec_app_mort_acc</td>\n",
       "      <td>Number of mortgage accounts at time of application for the secondary applicant</td>\n",
       "    </tr>\n",
       "    <tr>\n",
       "      <th>121</th>\n",
       "      <td>sec_app_open_acc</td>\n",
       "      <td>Number of open trades at time of application for the secondary applicant</td>\n",
       "    </tr>\n",
       "    <tr>\n",
       "      <th>122</th>\n",
       "      <td>sec_app_revol_util</td>\n",
       "      <td>Ratio of total current balance to high credit/credit limit for all revolving accounts</td>\n",
       "    </tr>\n",
       "    <tr>\n",
       "      <th>123</th>\n",
       "      <td>sec_app_open_act_il</td>\n",
       "      <td>Number of currently active installment trades at time of application for the secondary applicant</td>\n",
       "    </tr>\n",
       "    <tr>\n",
       "      <th>124</th>\n",
       "      <td>sec_app_num_rev_accts</td>\n",
       "      <td>Number of revolving accounts at time of application for the secondary applicant</td>\n",
       "    </tr>\n",
       "    <tr>\n",
       "      <th>125</th>\n",
       "      <td>sec_app_chargeoff_within_12_mths</td>\n",
       "      <td>Number of charge-offs within last 12 months at time of application for the secondary applicant</td>\n",
       "    </tr>\n",
       "    <tr>\n",
       "      <th>126</th>\n",
       "      <td>sec_app_collections_12_mths_ex_med</td>\n",
       "      <td>Number of collections within last 12 months excluding medical collections at time of application for the secondary applicant</td>\n",
       "    </tr>\n",
       "    <tr>\n",
       "      <th>127</th>\n",
       "      <td>sec_app_mths_since_last_major_derog</td>\n",
       "      <td>Months since most recent 90-day or worse rating at time of application for the secondary applicant</td>\n",
       "    </tr>\n",
       "    <tr>\n",
       "      <th>128</th>\n",
       "      <td>hardship_flag</td>\n",
       "      <td>Flags whether or not the borrower is on a hardship plan</td>\n",
       "    </tr>\n",
       "    <tr>\n",
       "      <th>129</th>\n",
       "      <td>hardship_type</td>\n",
       "      <td>Describes the hardship plan offering</td>\n",
       "    </tr>\n",
       "    <tr>\n",
       "      <th>130</th>\n",
       "      <td>hardship_reason</td>\n",
       "      <td>Describes the reason the hardship plan was offered</td>\n",
       "    </tr>\n",
       "    <tr>\n",
       "      <th>131</th>\n",
       "      <td>hardship_status</td>\n",
       "      <td>Describes if the hardship plan is active, pending, canceled, completed, or broken</td>\n",
       "    </tr>\n",
       "    <tr>\n",
       "      <th>132</th>\n",
       "      <td>deferral_term</td>\n",
       "      <td>Amount of months that the borrower is expected to pay less than the contractual monthly payment amount due to a hardship plan</td>\n",
       "    </tr>\n",
       "    <tr>\n",
       "      <th>133</th>\n",
       "      <td>hardship_amount</td>\n",
       "      <td>The interest payment that the borrower has committed to make each month while they are on a hardship plan</td>\n",
       "    </tr>\n",
       "    <tr>\n",
       "      <th>134</th>\n",
       "      <td>hardship_start_date</td>\n",
       "      <td>The start date of the hardship plan period</td>\n",
       "    </tr>\n",
       "    <tr>\n",
       "      <th>135</th>\n",
       "      <td>hardship_end_date</td>\n",
       "      <td>The end date of the hardship plan period</td>\n",
       "    </tr>\n",
       "    <tr>\n",
       "      <th>136</th>\n",
       "      <td>payment_plan_start_date</td>\n",
       "      <td>The day the first hardship plan payment is due. For example, if a borrower has a hardship plan period of 3 months, the start date is the start of the three-month period in which the borrower is allowed to make interest-only payments.</td>\n",
       "    </tr>\n",
       "    <tr>\n",
       "      <th>137</th>\n",
       "      <td>hardship_length</td>\n",
       "      <td>The number of months the borrower will make smaller payments than normally obligated due to a hardship plan</td>\n",
       "    </tr>\n",
       "    <tr>\n",
       "      <th>138</th>\n",
       "      <td>hardship_dpd</td>\n",
       "      <td>Account days past due as of the hardship plan start date</td>\n",
       "    </tr>\n",
       "    <tr>\n",
       "      <th>139</th>\n",
       "      <td>hardship_loan_status</td>\n",
       "      <td>Loan Status as of the hardship plan start date</td>\n",
       "    </tr>\n",
       "    <tr>\n",
       "      <th>140</th>\n",
       "      <td>orig_projected_additional_accrued_interest</td>\n",
       "      <td>The original projected additional interest amount that will accrue for the given hardship payment plan as of the Hardship Start Date. This field will be null if the borrower has broken their hardship payment plan.</td>\n",
       "    </tr>\n",
       "    <tr>\n",
       "      <th>141</th>\n",
       "      <td>hardship_payoff_balance_amount</td>\n",
       "      <td>The payoff balance amount as of the hardship plan start date</td>\n",
       "    </tr>\n",
       "    <tr>\n",
       "      <th>142</th>\n",
       "      <td>hardship_last_payment_amount</td>\n",
       "      <td>The last payment amount as of the hardship plan start date</td>\n",
       "    </tr>\n",
       "    <tr>\n",
       "      <th>143</th>\n",
       "      <td>disbursement_method</td>\n",
       "      <td>The method by which the borrower receives their loan. Possible values are: CASH, DIRECT_PAY</td>\n",
       "    </tr>\n",
       "    <tr>\n",
       "      <th>144</th>\n",
       "      <td>debt_settlement_flag</td>\n",
       "      <td>Flags whether or not the borrower, who has charged-off, is working with a debt-settlement company.</td>\n",
       "    </tr>\n",
       "    <tr>\n",
       "      <th>145</th>\n",
       "      <td>debt_settlement_flag_date</td>\n",
       "      <td>The most recent date that the Debt_Settlement_Flag has been set</td>\n",
       "    </tr>\n",
       "    <tr>\n",
       "      <th>146</th>\n",
       "      <td>settlement_status</td>\n",
       "      <td>The status of the borrower’s settlement plan. Possible values are: COMPLETE, ACTIVE, BROKEN, CANCELLED, DENIED, DRAFT</td>\n",
       "    </tr>\n",
       "    <tr>\n",
       "      <th>147</th>\n",
       "      <td>settlement_date</td>\n",
       "      <td>The date that the borrower agrees to the settlement plan</td>\n",
       "    </tr>\n",
       "    <tr>\n",
       "      <th>148</th>\n",
       "      <td>settlement_amount</td>\n",
       "      <td>The loan amount that the borrower has agreed to settle for</td>\n",
       "    </tr>\n",
       "    <tr>\n",
       "      <th>149</th>\n",
       "      <td>settlement_percentage</td>\n",
       "      <td>The settlement amount as a percentage of the payoff balance amount on the loan</td>\n",
       "    </tr>\n",
       "    <tr>\n",
       "      <th>150</th>\n",
       "      <td>settlement_term</td>\n",
       "      <td>The number of months that the borrower will be on the settlement plan</td>\n",
       "    </tr>\n",
       "    <tr>\n",
       "      <th>151</th>\n",
       "      <td>NaN</td>\n",
       "      <td>NaN</td>\n",
       "    </tr>\n",
       "    <tr>\n",
       "      <th>152</th>\n",
       "      <td>NaN</td>\n",
       "      <td>* Employer Title replaces Employer Name for all loans listed after 9/23/2013</td>\n",
       "    </tr>\n",
       "  </tbody>\n",
       "</table>\n",
       "</div>"
      ],
      "text/plain": [
       "                                    LoanStatNew  \\\n",
       "0                                acc_now_delinq   \n",
       "1                          acc_open_past_24mths   \n",
       "2                                    addr_state   \n",
       "3                                      all_util   \n",
       "4                                    annual_inc   \n",
       "5                              annual_inc_joint   \n",
       "6                              application_type   \n",
       "7                                   avg_cur_bal   \n",
       "8                                bc_open_to_buy   \n",
       "9                                       bc_util   \n",
       "10                     chargeoff_within_12_mths   \n",
       "11                      collection_recovery_fee   \n",
       "12                   collections_12_mths_ex_med   \n",
       "13                                  delinq_2yrs   \n",
       "14                                  delinq_amnt   \n",
       "15                                         desc   \n",
       "16                                          dti   \n",
       "17                                    dti_joint   \n",
       "18                             earliest_cr_line   \n",
       "19                                   emp_length   \n",
       "20                                    emp_title   \n",
       "21                              fico_range_high   \n",
       "22                               fico_range_low   \n",
       "23                                  funded_amnt   \n",
       "24                              funded_amnt_inv   \n",
       "25                                        grade   \n",
       "26                               home_ownership   \n",
       "27                                           id   \n",
       "28                                      il_util   \n",
       "29                          initial_list_status   \n",
       "30                                       inq_fi   \n",
       "31                                 inq_last_12m   \n",
       "32                               inq_last_6mths   \n",
       "33                                  installment   \n",
       "34                                     int_rate   \n",
       "35                                      issue_d   \n",
       "36                           last_credit_pull_d   \n",
       "37                         last_fico_range_high   \n",
       "38                          last_fico_range_low   \n",
       "39                              last_pymnt_amnt   \n",
       "40                                 last_pymnt_d   \n",
       "41                                    loan_amnt   \n",
       "42                                  loan_status   \n",
       "43                                   max_bal_bc   \n",
       "44                                    member_id   \n",
       "45                           mo_sin_old_il_acct   \n",
       "46                         mo_sin_old_rev_tl_op   \n",
       "47                        mo_sin_rcnt_rev_tl_op   \n",
       "48                               mo_sin_rcnt_tl   \n",
       "49                                     mort_acc   \n",
       "50                       mths_since_last_delinq   \n",
       "51                  mths_since_last_major_derog   \n",
       "52                       mths_since_last_record   \n",
       "53                           mths_since_rcnt_il   \n",
       "54                         mths_since_recent_bc   \n",
       "55                     mths_since_recent_bc_dlq   \n",
       "56                        mths_since_recent_inq   \n",
       "57               mths_since_recent_revol_delinq   \n",
       "58                                 next_pymnt_d   \n",
       "59                        num_accts_ever_120_pd   \n",
       "60                               num_actv_bc_tl   \n",
       "61                              num_actv_rev_tl   \n",
       "62                                  num_bc_sats   \n",
       "63                                    num_bc_tl   \n",
       "64                                    num_il_tl   \n",
       "65                                num_op_rev_tl   \n",
       "66                                num_rev_accts   \n",
       "67                          num_rev_tl_bal_gt_0   \n",
       "68                                     num_sats   \n",
       "69                             num_tl_120dpd_2m   \n",
       "70                                 num_tl_30dpd   \n",
       "71                           num_tl_90g_dpd_24m   \n",
       "72                           num_tl_op_past_12m   \n",
       "73                                     open_acc   \n",
       "74                                  open_acc_6m   \n",
       "75                                  open_il_12m   \n",
       "76                                  open_il_24m   \n",
       "77                                  open_act_il   \n",
       "78                                  open_rv_12m   \n",
       "79                                  open_rv_24m   \n",
       "80                                    out_prncp   \n",
       "81                                out_prncp_inv   \n",
       "82                               pct_tl_nvr_dlq   \n",
       "83                             percent_bc_gt_75   \n",
       "84                                  policy_code   \n",
       "85                                      pub_rec   \n",
       "86                         pub_rec_bankruptcies   \n",
       "87                                      purpose   \n",
       "88                                   pymnt_plan   \n",
       "89                                   recoveries   \n",
       "90                                    revol_bal   \n",
       "91                                   revol_util   \n",
       "92                                    sub_grade   \n",
       "93                                    tax_liens   \n",
       "94                                         term   \n",
       "95                                        title   \n",
       "96                                 tot_coll_amt   \n",
       "97                                  tot_cur_bal   \n",
       "98                              tot_hi_cred_lim   \n",
       "99                                    total_acc   \n",
       "100                           total_bal_ex_mort   \n",
       "101                                total_bal_il   \n",
       "102                              total_bc_limit   \n",
       "103                                 total_cu_tl   \n",
       "104                  total_il_high_credit_limit   \n",
       "105                                 total_pymnt   \n",
       "106                             total_pymnt_inv   \n",
       "107                               total_rec_int   \n",
       "108                          total_rec_late_fee   \n",
       "109                             total_rec_prncp   \n",
       "110                          total_rev_hi_lim     \n",
       "111                                         url   \n",
       "112                         verification_status   \n",
       "113                       verified_status_joint   \n",
       "114                                    zip_code   \n",
       "115                            revol_bal_joint    \n",
       "116                     sec_app_fico_range_low    \n",
       "117                    sec_app_fico_range_high    \n",
       "118                   sec_app_earliest_cr_line    \n",
       "119                     sec_app_inq_last_6mths    \n",
       "120                           sec_app_mort_acc    \n",
       "121                           sec_app_open_acc    \n",
       "122                         sec_app_revol_util    \n",
       "123                         sec_app_open_act_il   \n",
       "124                      sec_app_num_rev_accts    \n",
       "125           sec_app_chargeoff_within_12_mths    \n",
       "126         sec_app_collections_12_mths_ex_med    \n",
       "127        sec_app_mths_since_last_major_derog    \n",
       "128                               hardship_flag   \n",
       "129                               hardship_type   \n",
       "130                             hardship_reason   \n",
       "131                             hardship_status   \n",
       "132                               deferral_term   \n",
       "133                             hardship_amount   \n",
       "134                         hardship_start_date   \n",
       "135                           hardship_end_date   \n",
       "136                     payment_plan_start_date   \n",
       "137                             hardship_length   \n",
       "138                                hardship_dpd   \n",
       "139                        hardship_loan_status   \n",
       "140  orig_projected_additional_accrued_interest   \n",
       "141              hardship_payoff_balance_amount   \n",
       "142                hardship_last_payment_amount   \n",
       "143                         disbursement_method   \n",
       "144                        debt_settlement_flag   \n",
       "145                   debt_settlement_flag_date   \n",
       "146                           settlement_status   \n",
       "147                             settlement_date   \n",
       "148                           settlement_amount   \n",
       "149                       settlement_percentage   \n",
       "150                             settlement_term   \n",
       "151                                         NaN   \n",
       "152                                         NaN   \n",
       "\n",
       "                                                                                                                                                                                                                                   Description  \n",
       "0                                                                                                                                                                              The number of accounts on which the borrower is now delinquent.  \n",
       "1                                                                                                                                                                                                   Number of trades opened in past 24 months.  \n",
       "2                                                                                                                                                                                   The state provided by the borrower in the loan application  \n",
       "3                                                                                                                                                                                                        Balance to credit limit on all trades  \n",
       "4                                                                                                                                                                The self-reported annual income provided by the borrower during registration.  \n",
       "5                                                                                                                                                    The combined self-reported annual income provided by the co-borrowers during registration  \n",
       "6                                                                                                                                         Indicates whether the loan is an individual application or a joint application with two co-borrowers  \n",
       "7                                                                                                                                                                                                      Average current balance of all accounts  \n",
       "8                                                                                                                                                                                                    Total open to buy on revolving bankcards.  \n",
       "9                                                                                                                                                        Ratio of total current balance to high credit/credit limit for all bankcard accounts.  \n",
       "10                                                                                                                                                                                                      Number of charge-offs within 12 months  \n",
       "11                                                                                                                                                                                                              post charge off collection fee  \n",
       "12                                                                                                                                                                            Number of collections in 12 months excluding medical collections  \n",
       "13                                                                                                                                The number of 30+ days past-due incidences of delinquency in the borrower's credit file for the past 2 years  \n",
       "14                                                                                                                                                          The past-due amount owed for the accounts on which the borrower is now delinquent.  \n",
       "15                                                                                                                                                                                                   Loan description provided by the borrower  \n",
       "16                                    A ratio calculated using the borrower’s total monthly debt payments on the total debt obligations, excluding mortgage and the requested LC loan, divided by the borrower’s self-reported monthly income.  \n",
       "17                          A ratio calculated using the co-borrowers' total monthly payments on the total debt obligations, excluding mortgages and the requested LC loan, divided by the co-borrowers' combined self-reported monthly income  \n",
       "18                                                                                                                                                                           The month the borrower's earliest reported credit line was opened  \n",
       "19                                                                                                          Employment length in years. Possible values are between 0 and 10 where 0 means less than one year and 10 means ten or more years.   \n",
       "20                                                                                                                                                                         The job title supplied by the Borrower when applying for the loan.*  \n",
       "21                                                                                                                                                                The upper boundary range the borrower’s FICO at loan origination belongs to.  \n",
       "22                                                                                                                                                                The lower boundary range the borrower’s FICO at loan origination belongs to.  \n",
       "23                                                                                                                                                                              The total amount committed to that loan at that point in time.  \n",
       "24                                                                                                                                                                The total amount committed by investors for that loan at that point in time.  \n",
       "25                                                                                                                                                                                                                      LC assigned loan grade  \n",
       "26                                                                                       The home ownership status provided by the borrower during registration or obtained from the credit report. Our values are: RENT, OWN, MORTGAGE, OTHER  \n",
       "27                                                                                                                                                                                               A unique LC assigned ID for the loan listing.  \n",
       "28                                                                                                                                                              Ratio of total current balance to high credit/credit limit on all install acct  \n",
       "29                                                                                                                                                                          The initial listing status of the loan. Possible values are – W, F  \n",
       "30                                                                                                                                                                                                        Number of personal finance inquiries  \n",
       "31                                                                                                                                                                                                Number of credit inquiries in past 12 months  \n",
       "32                                                                                                                                                            The number of inquiries in past 6 months (excluding auto and mortgage inquiries)  \n",
       "33                                                                                                                                                                            The monthly payment owed by the borrower if the loan originates.  \n",
       "34                                                                                                                                                                                                                   Interest Rate on the loan  \n",
       "35                                                                                                                                                                                                         The month which the loan was funded  \n",
       "36                                                                                                                                                                                        The most recent month LC pulled credit for this loan  \n",
       "37                                                                                                                                                                        The upper boundary range the borrower’s last FICO pulled belongs to.  \n",
       "38                                                                                                                                                                        The lower boundary range the borrower’s last FICO pulled belongs to.  \n",
       "39                                                                                                                                                                                                          Last total payment amount received  \n",
       "40                                                                                                                                                                                                             Last month payment was received  \n",
       "41                                                                The listed amount of the loan applied for by the borrower. If at some point in time, the credit department reduces the loan amount, then it will be reflected in this value.  \n",
       "42                                                                                                                                                                                                                  Current status of the loan  \n",
       "43                                                                                                                                                                                      Maximum current balance owed on all revolving accounts  \n",
       "44                                                                                                                                                                                            A unique LC assigned Id for the borrower member.  \n",
       "45                                                                                                                                                                                         Months since oldest bank installment account opened  \n",
       "46                                                                                                                                                                                                Months since oldest revolving account opened  \n",
       "47                                                                                                                                                                                           Months since most recent revolving account opened  \n",
       "48                                                                                                                                                                                                     Months since most recent account opened  \n",
       "49                                                                                                                                                                                                                Number of mortgage accounts.  \n",
       "50                                                                                                                                                                                 The number of months since the borrower's last delinquency.  \n",
       "51                                                                                                                                                                                             Months since most recent 90-day or worse rating  \n",
       "52                                                                                                                                                                                          The number of months since the last public record.  \n",
       "53                                                                                                                                                                                        Months since most recent installment accounts opened  \n",
       "54                                                                                                                                                                                           Months since most recent bankcard account opened.  \n",
       "55                                                                                                                                                                                               Months since most recent bankcard delinquency  \n",
       "56                                                                                                                                                                                                           Months since most recent inquiry.  \n",
       "57                                                                                                                                                                                             Months since most recent revolving delinquency.  \n",
       "58                                                                                                                                                                                                                 Next scheduled payment date  \n",
       "59                                                                                                                                                                                           Number of accounts ever 120 or more days past due  \n",
       "60                                                                                                                                                                                                Number of currently active bankcard accounts  \n",
       "61                                                                                                                                                                                                 Number of currently active revolving trades  \n",
       "62                                                                                                                                                                                                    Number of satisfactory bankcard accounts  \n",
       "63                                                                                                                                                                                                                 Number of bankcard accounts  \n",
       "64                                                                                                                                                                                                              Number of installment accounts  \n",
       "65                                                                                                                                                                                                           Number of open revolving accounts  \n",
       "66                                                                                                                                                                                                                Number of revolving accounts  \n",
       "67                                                                                                                                                                                                  Number of revolving trades with balance >0  \n",
       "68                                                                                                                                                                                                             Number of satisfactory accounts  \n",
       "69                                                                                                                                                                   Number of accounts currently 120 days past due (updated in past 2 months)  \n",
       "70                                                                                                                                                                    Number of accounts currently 30 days past due (updated in past 2 months)  \n",
       "71                                                                                                                                                                               Number of accounts 90 or more days past due in last 24 months  \n",
       "72                                                                                                                                                                                                 Number of accounts opened in past 12 months  \n",
       "73                                                                                                                                                                              The number of open credit lines in the borrower's credit file.  \n",
       "74                                                                                                                                                                                                      Number of open trades in last 6 months  \n",
       "75                                                                                                                                                                                     Number of installment accounts opened in past 12 months  \n",
       "76                                                                                                                                                                                     Number of installment accounts opened in past 24 months  \n",
       "77                                                                                                                                                                                               Number of currently active installment trades  \n",
       "78                                                                                                                                                                                         Number of revolving trades opened in past 12 months  \n",
       "79                                                                                                                                                                                         Number of revolving trades opened in past 24 months  \n",
       "80                                                                                                                                                                                     Remaining outstanding principal for total amount funded  \n",
       "81                                                                                                                                                             Remaining outstanding principal for portion of total amount funded by investors  \n",
       "82                                                                                                                                                                                                          Percent of trades never delinquent  \n",
       "83                                                                                                                                                                                         Percentage of all bankcard accounts > 75% of limit.  \n",
       "84                                                                                                                                                         publicly available policy_code=1\\nnew products not publicly available policy_code=2  \n",
       "85                                                                                                                                                                                                         Number of derogatory public records  \n",
       "86                                                                                                                                                                                                        Number of public record bankruptcies  \n",
       "87                                                                                                                                                                                  A category provided by the borrower for the loan request.   \n",
       "88                                                                                                                                                                              Indicates if a payment plan has been put in place for the loan  \n",
       "89                                                                                                                                                                                                              post charge off gross recovery  \n",
       "90                                                                                                                                                                                                              Total credit revolving balance  \n",
       "91                                                                                                                  Revolving line utilization rate, or the amount of credit the borrower is using relative to all available revolving credit.  \n",
       "92                                                                                                                                                                                                                   LC assigned loan subgrade  \n",
       "93                                                                                                                                                                                                                         Number of tax liens  \n",
       "94                                                                                                                                                        The number of payments on the loan. Values are in months and can be either 36 or 60.  \n",
       "95                                                                                                                                                                                                     The loan title provided by the borrower  \n",
       "96                                                                                                                                                                                                          Total collection amounts ever owed  \n",
       "97                                                                                                                                                                                                       Total current balance of all accounts  \n",
       "98                                                                                                                                                                                                              Total high credit/credit limit  \n",
       "99                                                                                                                                                                    The total number of credit lines currently in the borrower's credit file  \n",
       "100                                                                                                                                                                                                    Total credit balance excluding mortgage  \n",
       "101                                                                                                                                                                                          Total current balance of all installment accounts  \n",
       "102                                                                                                                                                                                                    Total bankcard high credit/credit limit  \n",
       "103                                                                                                                                                                                                                   Number of finance trades  \n",
       "104                                                                                                                                                                                                 Total installment high credit/credit limit  \n",
       "105                                                                                                                                                                                          Payments received to date for total amount funded  \n",
       "106                                                                                                                                                                  Payments received to date for portion of total amount funded by investors  \n",
       "107                                                                                                                                                                                                                  Interest received to date  \n",
       "108                                                                                                                                                                                                                 Late fees received to date  \n",
       "109                                                                                                                                                                                                                 Principal received to date  \n",
       "110                                                                                                                                                                                                   Total revolving high credit/credit limit  \n",
       "111                                                                                                                                                                                                     URL for the LC page with listing data.  \n",
       "112                                                                                                                                                 Indicates if income was verified by LC, not verified, or if the income source was verified  \n",
       "113                                                                                                                         Indicates if the co-borrowers' joint income was verified by LC, not verified, or if the income source was verified  \n",
       "114                                                                                                                                                      The first 3 numbers of the zip code provided by the borrower in the loan application.  \n",
       "115                                                                                                                                                             Sum of revolving credit balance of the co-borrowers, net of duplicate balances  \n",
       "116                                                                                                                                                                                              FICO range (high) for the secondary applicant  \n",
       "117                                                                                                                                                                                               FICO range (low) for the secondary applicant  \n",
       "118                                                                                                                                                                    Earliest credit line at time of application for the secondary applicant  \n",
       "119                                                                                                                                                   Credit inquiries in the last 6 months at time of application for the secondary applicant  \n",
       "120                                                                                                                                                             Number of mortgage accounts at time of application for the secondary applicant  \n",
       "121                                                                                                                                                                   Number of open trades at time of application for the secondary applicant  \n",
       "122                                                                                                                                                      Ratio of total current balance to high credit/credit limit for all revolving accounts  \n",
       "123                                                                                                                                           Number of currently active installment trades at time of application for the secondary applicant  \n",
       "124                                                                                                                                                            Number of revolving accounts at time of application for the secondary applicant  \n",
       "125                                                                                                                                             Number of charge-offs within last 12 months at time of application for the secondary applicant  \n",
       "126                                                                                                               Number of collections within last 12 months excluding medical collections at time of application for the secondary applicant  \n",
       "127                                                                                                                                         Months since most recent 90-day or worse rating at time of application for the secondary applicant  \n",
       "128                                                                                                                                                                                    Flags whether or not the borrower is on a hardship plan  \n",
       "129                                                                                                                                                                                                       Describes the hardship plan offering  \n",
       "130                                                                                                                                                                                         Describes the reason the hardship plan was offered  \n",
       "131                                                                                                                                                          Describes if the hardship plan is active, pending, canceled, completed, or broken  \n",
       "132                                                                                                              Amount of months that the borrower is expected to pay less than the contractual monthly payment amount due to a hardship plan  \n",
       "133                                                                                                                                  The interest payment that the borrower has committed to make each month while they are on a hardship plan  \n",
       "134                                                                                                                                                                                                 The start date of the hardship plan period  \n",
       "135                                                                                                                                                                                                   The end date of the hardship plan period  \n",
       "136  The day the first hardship plan payment is due. For example, if a borrower has a hardship plan period of 3 months, the start date is the start of the three-month period in which the borrower is allowed to make interest-only payments.  \n",
       "137                                                                                                                                The number of months the borrower will make smaller payments than normally obligated due to a hardship plan  \n",
       "138                                                                                                                                                                                   Account days past due as of the hardship plan start date  \n",
       "139                                                                                                                                                                                             Loan Status as of the hardship plan start date  \n",
       "140                      The original projected additional interest amount that will accrue for the given hardship payment plan as of the Hardship Start Date. This field will be null if the borrower has broken their hardship payment plan.  \n",
       "141                                                                                                                                                                               The payoff balance amount as of the hardship plan start date  \n",
       "142                                                                                                                                                                                 The last payment amount as of the hardship plan start date  \n",
       "143                                                                                                                                                The method by which the borrower receives their loan. Possible values are: CASH, DIRECT_PAY  \n",
       "144                                                                                                                                         Flags whether or not the borrower, who has charged-off, is working with a debt-settlement company.  \n",
       "145                                                                                                                                                                          The most recent date that the Debt_Settlement_Flag has been set    \n",
       "146                                                                                                                      The status of the borrower’s settlement plan. Possible values are: COMPLETE, ACTIVE, BROKEN, CANCELLED, DENIED, DRAFT  \n",
       "147                                                                                                                                                                                   The date that the borrower agrees to the settlement plan  \n",
       "148                                                                                                                                                                                 The loan amount that the borrower has agreed to settle for  \n",
       "149                                                                                                                                                             The settlement amount as a percentage of the payoff balance amount on the loan  \n",
       "150                                                                                                                                                                      The number of months that the borrower will be on the settlement plan  \n",
       "151                                                                                                                                                                                                                                        NaN  \n",
       "152                                                                                                                                                               * Employer Title replaces Employer Name for all loans listed after 9/23/2013  "
      ]
     },
     "execution_count": 20,
     "metadata": {},
     "output_type": "execute_result"
    }
   ],
   "source": [
    "data_dict"
   ]
  },
  {
   "cell_type": "code",
   "execution_count": 3,
   "metadata": {},
   "outputs": [
    {
     "data": {
      "text/plain": [
       "(2260668, 145)"
      ]
     },
     "execution_count": 3,
     "metadata": {},
     "output_type": "execute_result"
    }
   ],
   "source": [
    "data.shape"
   ]
  },
  {
   "cell_type": "markdown",
   "metadata": {},
   "source": [
    "Checking Database"
   ]
  },
  {
   "cell_type": "code",
   "execution_count": 51,
   "metadata": {},
   "outputs": [],
   "source": [
    "import sqlite3"
   ]
  },
  {
   "cell_type": "code",
   "execution_count": 53,
   "metadata": {},
   "outputs": [],
   "source": [
    "conn = sqlite3.connect('database.sqlite')\n",
    "c = conn.cursor()"
   ]
  },
  {
   "cell_type": "code",
   "execution_count": 56,
   "metadata": {},
   "outputs": [
    {
     "name": "stdout",
     "output_type": "stream",
     "text": [
      "[('loan',)]\n"
     ]
    }
   ],
   "source": [
    "print(c.execute(\"SELECT name FROM sqlite_master\").fetchall())"
   ]
  },
  {
   "cell_type": "code",
   "execution_count": 59,
   "metadata": {
    "collapsed": true
   },
   "outputs": [
    {
     "data": {
      "text/plain": [
       "[(0, 'id', '', 0, None, 0),\n",
       " (1, 'member_id', '', 0, None, 0),\n",
       " (2, 'loan_amnt', '', 0, None, 0),\n",
       " (3, 'funded_amnt', '', 0, None, 0),\n",
       " (4, 'funded_amnt_inv', '', 0, None, 0),\n",
       " (5, 'term', '', 0, None, 0),\n",
       " (6, 'int_rate', '', 0, None, 0),\n",
       " (7, 'installment', '', 0, None, 0),\n",
       " (8, 'grade', '', 0, None, 0),\n",
       " (9, 'sub_grade', '', 0, None, 0),\n",
       " (10, 'emp_title', '', 0, None, 0),\n",
       " (11, 'emp_length', '', 0, None, 0),\n",
       " (12, 'home_ownership', '', 0, None, 0),\n",
       " (13, 'annual_inc', '', 0, None, 0),\n",
       " (14, 'verification_status', '', 0, None, 0),\n",
       " (15, 'issue_d', '', 0, None, 0),\n",
       " (16, 'loan_status', '', 0, None, 0),\n",
       " (17, 'pymnt_plan', '', 0, None, 0),\n",
       " (18, 'url', '', 0, None, 0),\n",
       " (19, 'desc', '', 0, None, 0),\n",
       " (20, 'purpose', '', 0, None, 0),\n",
       " (21, 'title', '', 0, None, 0),\n",
       " (22, 'zip_code', '', 0, None, 0),\n",
       " (23, 'addr_state', '', 0, None, 0),\n",
       " (24, 'dti', '', 0, None, 0),\n",
       " (25, 'delinq_2yrs', '', 0, None, 0),\n",
       " (26, 'earliest_cr_line', '', 0, None, 0),\n",
       " (27, 'inq_last_6mths', '', 0, None, 0),\n",
       " (28, 'mths_since_last_delinq', '', 0, None, 0),\n",
       " (29, 'mths_since_last_record', '', 0, None, 0),\n",
       " (30, 'open_acc', '', 0, None, 0),\n",
       " (31, 'pub_rec', '', 0, None, 0),\n",
       " (32, 'revol_bal', '', 0, None, 0),\n",
       " (33, 'revol_util', '', 0, None, 0),\n",
       " (34, 'total_acc', '', 0, None, 0),\n",
       " (35, 'initial_list_status', '', 0, None, 0),\n",
       " (36, 'out_prncp', '', 0, None, 0),\n",
       " (37, 'out_prncp_inv', '', 0, None, 0),\n",
       " (38, 'total_pymnt', '', 0, None, 0),\n",
       " (39, 'total_pymnt_inv', '', 0, None, 0),\n",
       " (40, 'total_rec_prncp', '', 0, None, 0),\n",
       " (41, 'total_rec_int', '', 0, None, 0),\n",
       " (42, 'total_rec_late_fee', '', 0, None, 0),\n",
       " (43, 'recoveries', '', 0, None, 0),\n",
       " (44, 'collection_recovery_fee', '', 0, None, 0),\n",
       " (45, 'last_pymnt_d', '', 0, None, 0),\n",
       " (46, 'last_pymnt_amnt', '', 0, None, 0),\n",
       " (47, 'next_pymnt_d', '', 0, None, 0),\n",
       " (48, 'last_credit_pull_d', '', 0, None, 0),\n",
       " (49, 'collections_12_mths_ex_med', '', 0, None, 0),\n",
       " (50, 'mths_since_last_major_derog', '', 0, None, 0),\n",
       " (51, 'policy_code', '', 0, None, 0),\n",
       " (52, 'application_type', '', 0, None, 0),\n",
       " (53, 'annual_inc_joint', '', 0, None, 0),\n",
       " (54, 'dti_joint', '', 0, None, 0),\n",
       " (55, 'verification_status_joint', '', 0, None, 0),\n",
       " (56, 'acc_now_delinq', '', 0, None, 0),\n",
       " (57, 'tot_coll_amt', '', 0, None, 0),\n",
       " (58, 'tot_cur_bal', '', 0, None, 0),\n",
       " (59, 'open_acc_6m', '', 0, None, 0),\n",
       " (60, 'open_act_il', '', 0, None, 0),\n",
       " (61, 'open_il_12m', '', 0, None, 0),\n",
       " (62, 'open_il_24m', '', 0, None, 0),\n",
       " (63, 'mths_since_rcnt_il', '', 0, None, 0),\n",
       " (64, 'total_bal_il', '', 0, None, 0),\n",
       " (65, 'il_util', '', 0, None, 0),\n",
       " (66, 'open_rv_12m', '', 0, None, 0),\n",
       " (67, 'open_rv_24m', '', 0, None, 0),\n",
       " (68, 'max_bal_bc', '', 0, None, 0),\n",
       " (69, 'all_util', '', 0, None, 0),\n",
       " (70, 'total_rev_hi_lim', '', 0, None, 0),\n",
       " (71, 'inq_fi', '', 0, None, 0),\n",
       " (72, 'total_cu_tl', '', 0, None, 0),\n",
       " (73, 'inq_last_12m', '', 0, None, 0),\n",
       " (74, 'acc_open_past_24mths', '', 0, None, 0),\n",
       " (75, 'avg_cur_bal', '', 0, None, 0),\n",
       " (76, 'bc_open_to_buy', '', 0, None, 0),\n",
       " (77, 'bc_util', '', 0, None, 0),\n",
       " (78, 'chargeoff_within_12_mths', '', 0, None, 0),\n",
       " (79, 'delinq_amnt', '', 0, None, 0),\n",
       " (80, 'mo_sin_old_il_acct', '', 0, None, 0),\n",
       " (81, 'mo_sin_old_rev_tl_op', '', 0, None, 0),\n",
       " (82, 'mo_sin_rcnt_rev_tl_op', '', 0, None, 0),\n",
       " (83, 'mo_sin_rcnt_tl', '', 0, None, 0),\n",
       " (84, 'mort_acc', '', 0, None, 0),\n",
       " (85, 'mths_since_recent_bc', '', 0, None, 0),\n",
       " (86, 'mths_since_recent_bc_dlq', '', 0, None, 0),\n",
       " (87, 'mths_since_recent_inq', '', 0, None, 0),\n",
       " (88, 'mths_since_recent_revol_delinq', '', 0, None, 0),\n",
       " (89, 'num_accts_ever_120_pd', '', 0, None, 0),\n",
       " (90, 'num_actv_bc_tl', '', 0, None, 0),\n",
       " (91, 'num_actv_rev_tl', '', 0, None, 0),\n",
       " (92, 'num_bc_sats', '', 0, None, 0),\n",
       " (93, 'num_bc_tl', '', 0, None, 0),\n",
       " (94, 'num_il_tl', '', 0, None, 0),\n",
       " (95, 'num_op_rev_tl', '', 0, None, 0),\n",
       " (96, 'num_rev_accts', '', 0, None, 0),\n",
       " (97, 'num_rev_tl_bal_gt_0', '', 0, None, 0),\n",
       " (98, 'num_sats', '', 0, None, 0),\n",
       " (99, 'num_tl_120dpd_2m', '', 0, None, 0),\n",
       " (100, 'num_tl_30dpd', '', 0, None, 0),\n",
       " (101, 'num_tl_90g_dpd_24m', '', 0, None, 0),\n",
       " (102, 'num_tl_op_past_12m', '', 0, None, 0),\n",
       " (103, 'pct_tl_nvr_dlq', '', 0, None, 0),\n",
       " (104, 'percent_bc_gt_75', '', 0, None, 0),\n",
       " (105, 'pub_rec_bankruptcies', '', 0, None, 0),\n",
       " (106, 'tax_liens', '', 0, None, 0),\n",
       " (107, 'tot_hi_cred_lim', '', 0, None, 0),\n",
       " (108, 'total_bal_ex_mort', '', 0, None, 0),\n",
       " (109, 'total_bc_limit', '', 0, None, 0),\n",
       " (110, 'total_il_high_credit_limit', '', 0, None, 0),\n",
       " (111, 'revol_bal_joint', '', 0, None, 0),\n",
       " (112, 'sec_app_earliest_cr_line', '', 0, None, 0),\n",
       " (113, 'sec_app_inq_last_6mths', '', 0, None, 0),\n",
       " (114, 'sec_app_mort_acc', '', 0, None, 0),\n",
       " (115, 'sec_app_open_acc', '', 0, None, 0),\n",
       " (116, 'sec_app_revol_util', '', 0, None, 0),\n",
       " (117, 'sec_app_open_act_il', '', 0, None, 0),\n",
       " (118, 'sec_app_num_rev_accts', '', 0, None, 0),\n",
       " (119, 'sec_app_chargeoff_within_12_mths', '', 0, None, 0),\n",
       " (120, 'sec_app_collections_12_mths_ex_med', '', 0, None, 0),\n",
       " (121, 'sec_app_mths_since_last_major_derog', '', 0, None, 0),\n",
       " (122, 'hardship_flag', '', 0, None, 0),\n",
       " (123, 'hardship_type', '', 0, None, 0),\n",
       " (124, 'hardship_reason', '', 0, None, 0),\n",
       " (125, 'hardship_status', '', 0, None, 0),\n",
       " (126, 'deferral_term', '', 0, None, 0),\n",
       " (127, 'hardship_amount', '', 0, None, 0),\n",
       " (128, 'hardship_start_date', '', 0, None, 0),\n",
       " (129, 'hardship_end_date', '', 0, None, 0),\n",
       " (130, 'payment_plan_start_date', '', 0, None, 0),\n",
       " (131, 'hardship_length', '', 0, None, 0),\n",
       " (132, 'hardship_dpd', '', 0, None, 0),\n",
       " (133, 'hardship_loan_status', '', 0, None, 0),\n",
       " (134, 'orig_projected_additional_accrued_interest', '', 0, None, 0),\n",
       " (135, 'hardship_payoff_balance_amount', '', 0, None, 0),\n",
       " (136, 'hardship_last_payment_amount', '', 0, None, 0),\n",
       " (137, 'disbursement_method', '', 0, None, 0),\n",
       " (138, 'debt_settlement_flag', '', 0, None, 0),\n",
       " (139, 'debt_settlement_flag_date', '', 0, None, 0),\n",
       " (140, 'settlement_status', '', 0, None, 0),\n",
       " (141, 'settlement_date', '', 0, None, 0),\n",
       " (142, 'settlement_amount', '', 0, None, 0),\n",
       " (143, 'settlement_percentage', '', 0, None, 0),\n",
       " (144, 'settlement_term', '', 0, None, 0)]"
      ]
     },
     "execution_count": 59,
     "metadata": {},
     "output_type": "execute_result"
    }
   ],
   "source": [
    "c.execute(\"PRAGMA TABLE_INFO (loan)\").fetchall()"
   ]
  },
  {
   "cell_type": "markdown",
   "metadata": {},
   "source": [
    "Looks like it's the same data as in csv file."
   ]
  },
  {
   "cell_type": "code",
   "execution_count": 60,
   "metadata": {},
   "outputs": [],
   "source": [
    "!rm database.sqlite"
   ]
  },
  {
   "cell_type": "markdown",
   "metadata": {},
   "source": [
    "<a name=\"eda\"></a>\n",
    "__2. EDA__"
   ]
  },
  {
   "cell_type": "code",
   "execution_count": 11,
   "metadata": {},
   "outputs": [
    {
     "data": {
      "text/plain": [
       "(2260668, 145)"
      ]
     },
     "execution_count": 11,
     "metadata": {},
     "output_type": "execute_result"
    }
   ],
   "source": [
    "data.shape"
   ]
  },
  {
   "cell_type": "code",
   "execution_count": 12,
   "metadata": {},
   "outputs": [
    {
     "data": {
      "text/html": [
       "<div>\n",
       "<style scoped>\n",
       "    .dataframe tbody tr th:only-of-type {\n",
       "        vertical-align: middle;\n",
       "    }\n",
       "\n",
       "    .dataframe tbody tr th {\n",
       "        vertical-align: top;\n",
       "    }\n",
       "\n",
       "    .dataframe thead th {\n",
       "        text-align: right;\n",
       "    }\n",
       "</style>\n",
       "<table border=\"1\" class=\"dataframe\">\n",
       "  <thead>\n",
       "    <tr style=\"text-align: right;\">\n",
       "      <th></th>\n",
       "      <th>id</th>\n",
       "      <th>member_id</th>\n",
       "      <th>loan_amnt</th>\n",
       "      <th>funded_amnt</th>\n",
       "      <th>funded_amnt_inv</th>\n",
       "      <th>term</th>\n",
       "      <th>int_rate</th>\n",
       "      <th>installment</th>\n",
       "      <th>grade</th>\n",
       "      <th>sub_grade</th>\n",
       "      <th>...</th>\n",
       "      <th>hardship_payoff_balance_amount</th>\n",
       "      <th>hardship_last_payment_amount</th>\n",
       "      <th>disbursement_method</th>\n",
       "      <th>debt_settlement_flag</th>\n",
       "      <th>debt_settlement_flag_date</th>\n",
       "      <th>settlement_status</th>\n",
       "      <th>settlement_date</th>\n",
       "      <th>settlement_amount</th>\n",
       "      <th>settlement_percentage</th>\n",
       "      <th>settlement_term</th>\n",
       "    </tr>\n",
       "  </thead>\n",
       "  <tbody>\n",
       "    <tr>\n",
       "      <th>0</th>\n",
       "      <td>NaN</td>\n",
       "      <td>NaN</td>\n",
       "      <td>2500</td>\n",
       "      <td>2500</td>\n",
       "      <td>2500.0</td>\n",
       "      <td>36 months</td>\n",
       "      <td>13.56</td>\n",
       "      <td>84.92</td>\n",
       "      <td>C</td>\n",
       "      <td>C1</td>\n",
       "      <td>...</td>\n",
       "      <td>NaN</td>\n",
       "      <td>NaN</td>\n",
       "      <td>Cash</td>\n",
       "      <td>N</td>\n",
       "      <td>NaN</td>\n",
       "      <td>NaN</td>\n",
       "      <td>NaN</td>\n",
       "      <td>NaN</td>\n",
       "      <td>NaN</td>\n",
       "      <td>NaN</td>\n",
       "    </tr>\n",
       "    <tr>\n",
       "      <th>1</th>\n",
       "      <td>NaN</td>\n",
       "      <td>NaN</td>\n",
       "      <td>30000</td>\n",
       "      <td>30000</td>\n",
       "      <td>30000.0</td>\n",
       "      <td>60 months</td>\n",
       "      <td>18.94</td>\n",
       "      <td>777.23</td>\n",
       "      <td>D</td>\n",
       "      <td>D2</td>\n",
       "      <td>...</td>\n",
       "      <td>NaN</td>\n",
       "      <td>NaN</td>\n",
       "      <td>Cash</td>\n",
       "      <td>N</td>\n",
       "      <td>NaN</td>\n",
       "      <td>NaN</td>\n",
       "      <td>NaN</td>\n",
       "      <td>NaN</td>\n",
       "      <td>NaN</td>\n",
       "      <td>NaN</td>\n",
       "    </tr>\n",
       "    <tr>\n",
       "      <th>2</th>\n",
       "      <td>NaN</td>\n",
       "      <td>NaN</td>\n",
       "      <td>5000</td>\n",
       "      <td>5000</td>\n",
       "      <td>5000.0</td>\n",
       "      <td>36 months</td>\n",
       "      <td>17.97</td>\n",
       "      <td>180.69</td>\n",
       "      <td>D</td>\n",
       "      <td>D1</td>\n",
       "      <td>...</td>\n",
       "      <td>NaN</td>\n",
       "      <td>NaN</td>\n",
       "      <td>Cash</td>\n",
       "      <td>N</td>\n",
       "      <td>NaN</td>\n",
       "      <td>NaN</td>\n",
       "      <td>NaN</td>\n",
       "      <td>NaN</td>\n",
       "      <td>NaN</td>\n",
       "      <td>NaN</td>\n",
       "    </tr>\n",
       "    <tr>\n",
       "      <th>3</th>\n",
       "      <td>NaN</td>\n",
       "      <td>NaN</td>\n",
       "      <td>4000</td>\n",
       "      <td>4000</td>\n",
       "      <td>4000.0</td>\n",
       "      <td>36 months</td>\n",
       "      <td>18.94</td>\n",
       "      <td>146.51</td>\n",
       "      <td>D</td>\n",
       "      <td>D2</td>\n",
       "      <td>...</td>\n",
       "      <td>NaN</td>\n",
       "      <td>NaN</td>\n",
       "      <td>Cash</td>\n",
       "      <td>N</td>\n",
       "      <td>NaN</td>\n",
       "      <td>NaN</td>\n",
       "      <td>NaN</td>\n",
       "      <td>NaN</td>\n",
       "      <td>NaN</td>\n",
       "      <td>NaN</td>\n",
       "    </tr>\n",
       "    <tr>\n",
       "      <th>4</th>\n",
       "      <td>NaN</td>\n",
       "      <td>NaN</td>\n",
       "      <td>30000</td>\n",
       "      <td>30000</td>\n",
       "      <td>30000.0</td>\n",
       "      <td>60 months</td>\n",
       "      <td>16.14</td>\n",
       "      <td>731.78</td>\n",
       "      <td>C</td>\n",
       "      <td>C4</td>\n",
       "      <td>...</td>\n",
       "      <td>NaN</td>\n",
       "      <td>NaN</td>\n",
       "      <td>Cash</td>\n",
       "      <td>N</td>\n",
       "      <td>NaN</td>\n",
       "      <td>NaN</td>\n",
       "      <td>NaN</td>\n",
       "      <td>NaN</td>\n",
       "      <td>NaN</td>\n",
       "      <td>NaN</td>\n",
       "    </tr>\n",
       "  </tbody>\n",
       "</table>\n",
       "<p>5 rows × 145 columns</p>\n",
       "</div>"
      ],
      "text/plain": [
       "   id  member_id  loan_amnt  funded_amnt  funded_amnt_inv        term  \\\n",
       "0 NaN        NaN       2500         2500           2500.0   36 months   \n",
       "1 NaN        NaN      30000        30000          30000.0   60 months   \n",
       "2 NaN        NaN       5000         5000           5000.0   36 months   \n",
       "3 NaN        NaN       4000         4000           4000.0   36 months   \n",
       "4 NaN        NaN      30000        30000          30000.0   60 months   \n",
       "\n",
       "   int_rate  installment grade sub_grade       ...        \\\n",
       "0     13.56        84.92     C        C1       ...         \n",
       "1     18.94       777.23     D        D2       ...         \n",
       "2     17.97       180.69     D        D1       ...         \n",
       "3     18.94       146.51     D        D2       ...         \n",
       "4     16.14       731.78     C        C4       ...         \n",
       "\n",
       "  hardship_payoff_balance_amount hardship_last_payment_amount  \\\n",
       "0                            NaN                          NaN   \n",
       "1                            NaN                          NaN   \n",
       "2                            NaN                          NaN   \n",
       "3                            NaN                          NaN   \n",
       "4                            NaN                          NaN   \n",
       "\n",
       "  disbursement_method  debt_settlement_flag debt_settlement_flag_date  \\\n",
       "0                Cash                     N                       NaN   \n",
       "1                Cash                     N                       NaN   \n",
       "2                Cash                     N                       NaN   \n",
       "3                Cash                     N                       NaN   \n",
       "4                Cash                     N                       NaN   \n",
       "\n",
       "  settlement_status settlement_date settlement_amount  settlement_percentage  \\\n",
       "0               NaN             NaN               NaN                    NaN   \n",
       "1               NaN             NaN               NaN                    NaN   \n",
       "2               NaN             NaN               NaN                    NaN   \n",
       "3               NaN             NaN               NaN                    NaN   \n",
       "4               NaN             NaN               NaN                    NaN   \n",
       "\n",
       "  settlement_term  \n",
       "0             NaN  \n",
       "1             NaN  \n",
       "2             NaN  \n",
       "3             NaN  \n",
       "4             NaN  \n",
       "\n",
       "[5 rows x 145 columns]"
      ]
     },
     "execution_count": 12,
     "metadata": {},
     "output_type": "execute_result"
    }
   ],
   "source": [
    "data.head()"
   ]
  },
  {
   "cell_type": "code",
   "execution_count": 13,
   "metadata": {},
   "outputs": [
    {
     "data": {
      "text/html": [
       "<div>\n",
       "<style scoped>\n",
       "    .dataframe tbody tr th:only-of-type {\n",
       "        vertical-align: middle;\n",
       "    }\n",
       "\n",
       "    .dataframe tbody tr th {\n",
       "        vertical-align: top;\n",
       "    }\n",
       "\n",
       "    .dataframe thead th {\n",
       "        text-align: right;\n",
       "    }\n",
       "</style>\n",
       "<table border=\"1\" class=\"dataframe\">\n",
       "  <thead>\n",
       "    <tr style=\"text-align: right;\">\n",
       "      <th></th>\n",
       "      <th>id</th>\n",
       "      <th>member_id</th>\n",
       "      <th>loan_amnt</th>\n",
       "      <th>funded_amnt</th>\n",
       "      <th>funded_amnt_inv</th>\n",
       "      <th>term</th>\n",
       "      <th>int_rate</th>\n",
       "      <th>installment</th>\n",
       "      <th>grade</th>\n",
       "      <th>sub_grade</th>\n",
       "      <th>...</th>\n",
       "      <th>hardship_payoff_balance_amount</th>\n",
       "      <th>hardship_last_payment_amount</th>\n",
       "      <th>disbursement_method</th>\n",
       "      <th>debt_settlement_flag</th>\n",
       "      <th>debt_settlement_flag_date</th>\n",
       "      <th>settlement_status</th>\n",
       "      <th>settlement_date</th>\n",
       "      <th>settlement_amount</th>\n",
       "      <th>settlement_percentage</th>\n",
       "      <th>settlement_term</th>\n",
       "    </tr>\n",
       "  </thead>\n",
       "  <tbody>\n",
       "    <tr>\n",
       "      <th>2260663</th>\n",
       "      <td>NaN</td>\n",
       "      <td>NaN</td>\n",
       "      <td>12000</td>\n",
       "      <td>12000</td>\n",
       "      <td>12000.0</td>\n",
       "      <td>60 months</td>\n",
       "      <td>14.08</td>\n",
       "      <td>279.72</td>\n",
       "      <td>C</td>\n",
       "      <td>C3</td>\n",
       "      <td>...</td>\n",
       "      <td>NaN</td>\n",
       "      <td>NaN</td>\n",
       "      <td>Cash</td>\n",
       "      <td>N</td>\n",
       "      <td>NaN</td>\n",
       "      <td>NaN</td>\n",
       "      <td>NaN</td>\n",
       "      <td>NaN</td>\n",
       "      <td>NaN</td>\n",
       "      <td>NaN</td>\n",
       "    </tr>\n",
       "    <tr>\n",
       "      <th>2260664</th>\n",
       "      <td>NaN</td>\n",
       "      <td>NaN</td>\n",
       "      <td>12000</td>\n",
       "      <td>12000</td>\n",
       "      <td>12000.0</td>\n",
       "      <td>60 months</td>\n",
       "      <td>25.82</td>\n",
       "      <td>358.01</td>\n",
       "      <td>E</td>\n",
       "      <td>E4</td>\n",
       "      <td>...</td>\n",
       "      <td>NaN</td>\n",
       "      <td>NaN</td>\n",
       "      <td>Cash</td>\n",
       "      <td>N</td>\n",
       "      <td>NaN</td>\n",
       "      <td>NaN</td>\n",
       "      <td>NaN</td>\n",
       "      <td>NaN</td>\n",
       "      <td>NaN</td>\n",
       "      <td>NaN</td>\n",
       "    </tr>\n",
       "    <tr>\n",
       "      <th>2260665</th>\n",
       "      <td>NaN</td>\n",
       "      <td>NaN</td>\n",
       "      <td>10000</td>\n",
       "      <td>10000</td>\n",
       "      <td>10000.0</td>\n",
       "      <td>36 months</td>\n",
       "      <td>11.99</td>\n",
       "      <td>332.10</td>\n",
       "      <td>B</td>\n",
       "      <td>B5</td>\n",
       "      <td>...</td>\n",
       "      <td>NaN</td>\n",
       "      <td>NaN</td>\n",
       "      <td>Cash</td>\n",
       "      <td>N</td>\n",
       "      <td>NaN</td>\n",
       "      <td>NaN</td>\n",
       "      <td>NaN</td>\n",
       "      <td>NaN</td>\n",
       "      <td>NaN</td>\n",
       "      <td>NaN</td>\n",
       "    </tr>\n",
       "    <tr>\n",
       "      <th>2260666</th>\n",
       "      <td>NaN</td>\n",
       "      <td>NaN</td>\n",
       "      <td>12000</td>\n",
       "      <td>12000</td>\n",
       "      <td>12000.0</td>\n",
       "      <td>60 months</td>\n",
       "      <td>21.45</td>\n",
       "      <td>327.69</td>\n",
       "      <td>D</td>\n",
       "      <td>D5</td>\n",
       "      <td>...</td>\n",
       "      <td>NaN</td>\n",
       "      <td>NaN</td>\n",
       "      <td>Cash</td>\n",
       "      <td>N</td>\n",
       "      <td>NaN</td>\n",
       "      <td>NaN</td>\n",
       "      <td>NaN</td>\n",
       "      <td>NaN</td>\n",
       "      <td>NaN</td>\n",
       "      <td>NaN</td>\n",
       "    </tr>\n",
       "    <tr>\n",
       "      <th>2260667</th>\n",
       "      <td>NaN</td>\n",
       "      <td>NaN</td>\n",
       "      <td>16550</td>\n",
       "      <td>16550</td>\n",
       "      <td>16550.0</td>\n",
       "      <td>60 months</td>\n",
       "      <td>21.45</td>\n",
       "      <td>451.94</td>\n",
       "      <td>D</td>\n",
       "      <td>D5</td>\n",
       "      <td>...</td>\n",
       "      <td>NaN</td>\n",
       "      <td>NaN</td>\n",
       "      <td>Cash</td>\n",
       "      <td>N</td>\n",
       "      <td>NaN</td>\n",
       "      <td>NaN</td>\n",
       "      <td>NaN</td>\n",
       "      <td>NaN</td>\n",
       "      <td>NaN</td>\n",
       "      <td>NaN</td>\n",
       "    </tr>\n",
       "  </tbody>\n",
       "</table>\n",
       "<p>5 rows × 145 columns</p>\n",
       "</div>"
      ],
      "text/plain": [
       "         id  member_id  loan_amnt  funded_amnt  funded_amnt_inv        term  \\\n",
       "2260663 NaN        NaN      12000        12000          12000.0   60 months   \n",
       "2260664 NaN        NaN      12000        12000          12000.0   60 months   \n",
       "2260665 NaN        NaN      10000        10000          10000.0   36 months   \n",
       "2260666 NaN        NaN      12000        12000          12000.0   60 months   \n",
       "2260667 NaN        NaN      16550        16550          16550.0   60 months   \n",
       "\n",
       "         int_rate  installment grade sub_grade       ...        \\\n",
       "2260663     14.08       279.72     C        C3       ...         \n",
       "2260664     25.82       358.01     E        E4       ...         \n",
       "2260665     11.99       332.10     B        B5       ...         \n",
       "2260666     21.45       327.69     D        D5       ...         \n",
       "2260667     21.45       451.94     D        D5       ...         \n",
       "\n",
       "        hardship_payoff_balance_amount hardship_last_payment_amount  \\\n",
       "2260663                            NaN                          NaN   \n",
       "2260664                            NaN                          NaN   \n",
       "2260665                            NaN                          NaN   \n",
       "2260666                            NaN                          NaN   \n",
       "2260667                            NaN                          NaN   \n",
       "\n",
       "        disbursement_method  debt_settlement_flag debt_settlement_flag_date  \\\n",
       "2260663                Cash                     N                       NaN   \n",
       "2260664                Cash                     N                       NaN   \n",
       "2260665                Cash                     N                       NaN   \n",
       "2260666                Cash                     N                       NaN   \n",
       "2260667                Cash                     N                       NaN   \n",
       "\n",
       "        settlement_status settlement_date settlement_amount  \\\n",
       "2260663               NaN             NaN               NaN   \n",
       "2260664               NaN             NaN               NaN   \n",
       "2260665               NaN             NaN               NaN   \n",
       "2260666               NaN             NaN               NaN   \n",
       "2260667               NaN             NaN               NaN   \n",
       "\n",
       "         settlement_percentage settlement_term  \n",
       "2260663                    NaN             NaN  \n",
       "2260664                    NaN             NaN  \n",
       "2260665                    NaN             NaN  \n",
       "2260666                    NaN             NaN  \n",
       "2260667                    NaN             NaN  \n",
       "\n",
       "[5 rows x 145 columns]"
      ]
     },
     "execution_count": 13,
     "metadata": {},
     "output_type": "execute_result"
    }
   ],
   "source": [
    "data.tail()"
   ]
  },
  {
   "cell_type": "code",
   "execution_count": 15,
   "metadata": {
    "scrolled": true
   },
   "outputs": [
    {
     "data": {
      "image/png": "[encoded data removed]",
      "text/plain": [
       "<Figure size 432x288 with 1 Axes>"
      ]
     },
     "metadata": {
      "needs_background": "light"
     },
     "output_type": "display_data"
    }
   ],
   "source": [
    "data.dtypes.value_counts().sort_values().plot(kind='bar')\n",
    "plt.title('Column distribution by types')\n",
    "plt.xlabel('Data Type')\n",
    "plt.ylabel('Count')\n",
    "plt.show()"
   ]
  },
  {
   "cell_type": "markdown",
   "metadata": {},
   "source": [
    "Initial exploratory data analysis. Starting with predicted variable - 'loan_status'."
   ]
  },
  {
   "cell_type": "code",
   "execution_count": 9,
   "metadata": {},
   "outputs": [
    {
     "data": {
      "text/plain": [
       "count        2260668\n",
       "unique             9\n",
       "top       Fully Paid\n",
       "freq         1041952\n",
       "Name: loan_status, dtype: object"
      ]
     },
     "execution_count": 9,
     "metadata": {},
     "output_type": "execute_result"
    }
   ],
   "source": [
    "data.loan_status.describe()"
   ]
  },
  {
   "cell_type": "code",
   "execution_count": 10,
   "metadata": {},
   "outputs": [
    {
     "data": {
      "text/plain": [
       "Fully Paid                                             1041952\n",
       "Current                                                 919695\n",
       "Charged Off                                             261655\n",
       "Late (31-120 days)                                       21897\n",
       "In Grace Period                                           8952\n",
       "Late (16-30 days)                                         3737\n",
       "Does not meet the credit policy. Status:Fully Paid        1988\n",
       "Does not meet the credit policy. Status:Charged Off        761\n",
       "Default                                                     31\n",
       "Name: loan_status, dtype: int64"
      ]
     },
     "execution_count": 10,
     "metadata": {},
     "output_type": "execute_result"
    }
   ],
   "source": [
    "data.loan_status.value_counts()"
   ]
  },
  {
   "cell_type": "code",
   "execution_count": 3,
   "metadata": {},
   "outputs": [
    {
     "name": "stdout",
     "output_type": "stream",
     "text": [
      "Percentage of events (defaults) in dataset: 12.578%\n"
     ]
    }
   ],
   "source": [
    "d_1 = 'Default'\n",
    "d_2 = 'Does not meet the credit policy. Status:Charged Off'\n",
    "d_3 = 'Late (31-120 days)'\n",
    "d_4 = 'Charged Off'\n",
    "\n",
    "ones = data.query('loan_status == [\"{}\", \"{}\", \"{}\", \"{}\"]'.format(d_1, d_2, d_3, d_4)).shape[0]\n",
    "zeros = data.shape[0] - ones\n",
    "\n",
    "print(\"Percentage of events (defaults) in dataset: {:.3f}%\".format(ones/data.shape[0]*100))"
   ]
  },
  {
   "cell_type": "markdown",
   "metadata": {},
   "source": [
    "Looks like a slighlty imbalanced dataset, however a lot better than most datasets for banking, which usually have somewhere around 0.5 - 1 percent events (churns, defaults etc.)"
   ]
  },
  {
   "cell_type": "markdown",
   "metadata": {},
   "source": [
    "__Missing values:__"
   ]
  },
  {
   "cell_type": "code",
   "execution_count": 27,
   "metadata": {
    "collapsed": true
   },
   "outputs": [
    {
     "data": {
      "text/plain": [
       "id                                            2260668\n",
       "member_id                                     2260668\n",
       "url                                           2260668\n",
       "orig_projected_additional_accrued_interest    2252242\n",
       "hardship_start_date                           2250055\n",
       "hardship_end_date                             2250055\n",
       "payment_plan_start_date                       2250055\n",
       "hardship_length                               2250055\n",
       "hardship_dpd                                  2250055\n",
       "hardship_loan_status                          2250055\n",
       "hardship_payoff_balance_amount                2250055\n",
       "deferral_term                                 2250055\n",
       "hardship_last_payment_amount                  2250055\n",
       "hardship_status                               2250055\n",
       "hardship_reason                               2250055\n",
       "hardship_type                                 2250055\n",
       "hardship_amount                               2250055\n",
       "settlement_percentage                         2227612\n",
       "settlement_term                               2227612\n",
       "settlement_status                             2227612\n",
       "debt_settlement_flag_date                     2227612\n",
       "settlement_amount                             2227612\n",
       "settlement_date                               2227612\n",
       "sec_app_mths_since_last_major_derog           2224726\n",
       "sec_app_revol_util                            2154484\n",
       "revol_bal_joint                               2152648\n",
       "sec_app_mort_acc                              2152647\n",
       "sec_app_collections_12_mths_ex_med            2152647\n",
       "sec_app_chargeoff_within_12_mths              2152647\n",
       "sec_app_num_rev_accts                         2152647\n",
       "sec_app_open_act_il                           2152647\n",
       "sec_app_open_acc                              2152647\n",
       "sec_app_inq_last_6mths                        2152647\n",
       "sec_app_earliest_cr_line                      2152647\n",
       "verification_status_joint                     2144938\n",
       "dti_joint                                     2139962\n",
       "annual_inc_joint                              2139958\n",
       "desc                                          2134601\n",
       "mths_since_last_record                        1901512\n",
       "mths_since_recent_bc_dlq                      1740967\n",
       "mths_since_last_major_derog                   1679893\n",
       "mths_since_recent_revol_delinq                1520309\n",
       "next_pymnt_d                                  1303607\n",
       "mths_since_last_delinq                        1158502\n",
       "il_util                                       1068850\n",
       "mths_since_rcnt_il                             909924\n",
       "all_util                                       866348\n",
       "open_acc_6m                                    866130\n",
       "inq_last_12m                                   866130\n",
       "total_cu_tl                                    866130\n",
       "open_act_il                                    866129\n",
       "open_il_12m                                    866129\n",
       "total_bal_il                                   866129\n",
       "open_rv_12m                                    866129\n",
       "open_rv_24m                                    866129\n",
       "max_bal_bc                                     866129\n",
       "inq_fi                                         866129\n",
       "open_il_24m                                    866129\n",
       "mths_since_recent_inq                          295435\n",
       "emp_title                                      166969\n",
       "num_tl_120dpd_2m                               153657\n",
       "emp_length                                     146907\n",
       "mo_sin_old_il_acct                             139071\n",
       "bc_util                                         76071\n",
       "percent_bc_gt_75                                75379\n",
       "bc_open_to_buy                                  74935\n",
       "mths_since_recent_bc                            73412\n",
       "pct_tl_nvr_dlq                                  70431\n",
       "avg_cur_bal                                     70346\n",
       "mo_sin_old_rev_tl_op                            70277\n",
       "num_rev_accts                                   70277\n",
       "mo_sin_rcnt_rev_tl_op                           70277\n",
       "num_tl_op_past_12m                              70276\n",
       "tot_coll_amt                                    70276\n",
       "tot_cur_bal                                     70276\n",
       "num_tl_90g_dpd_24m                              70276\n",
       "num_tl_30dpd                                    70276\n",
       "tot_hi_cred_lim                                 70276\n",
       "num_rev_tl_bal_gt_0                             70276\n",
       "total_il_high_credit_limit                      70276\n",
       "num_op_rev_tl                                   70276\n",
       "total_rev_hi_lim                                70276\n",
       "mo_sin_rcnt_tl                                  70276\n",
       "num_actv_bc_tl                                  70276\n",
       "num_actv_rev_tl                                 70276\n",
       "num_accts_ever_120_pd                           70276\n",
       "num_bc_tl                                       70276\n",
       "num_il_tl                                       70276\n",
       "num_bc_sats                                     58590\n",
       "num_sats                                        58590\n",
       "total_bal_ex_mort                               50030\n",
       "acc_open_past_24mths                            50030\n",
       "total_bc_limit                                  50030\n",
       "mort_acc                                        50030\n",
       "title                                           23325\n",
       "last_pymnt_d                                     2426\n",
       "revol_util                                       1802\n",
       "dti                                              1711\n",
       "pub_rec_bankruptcies                             1365\n",
       "chargeoff_within_12_mths                          145\n",
       "collections_12_mths_ex_med                        145\n",
       "tax_liens                                         105\n",
       "last_credit_pull_d                                 73\n",
       "inq_last_6mths                                     30\n",
       "delinq_2yrs                                        29\n",
       "earliest_cr_line                                   29\n",
       "delinq_amnt                                        29\n",
       "total_acc                                          29\n",
       "acc_now_delinq                                     29\n",
       "pub_rec                                            29\n",
       "open_acc                                           29\n",
       "annual_inc                                          4\n",
       "zip_code                                            1\n",
       "issue_d                                             0\n",
       "loan_status                                         0\n",
       "installment                                         0\n",
       "verification_status                                 0\n",
       "home_ownership                                      0\n",
       "sub_grade                                           0\n",
       "grade                                               0\n",
       "int_rate                                            0\n",
       "term                                                0\n",
       "funded_amnt_inv                                     0\n",
       "funded_amnt                                         0\n",
       "pymnt_plan                                          0\n",
       "hardship_flag                                       0\n",
       "loan_amnt                                           0\n",
       "recoveries                                          0\n",
       "purpose                                             0\n",
       "total_rec_int                                       0\n",
       "debt_settlement_flag                                0\n",
       "application_type                                    0\n",
       "policy_code                                         0\n",
       "last_pymnt_amnt                                     0\n",
       "collection_recovery_fee                             0\n",
       "total_rec_late_fee                                  0\n",
       "total_rec_prncp                                     0\n",
       "addr_state                                          0\n",
       "total_pymnt_inv                                     0\n",
       "total_pymnt                                         0\n",
       "out_prncp_inv                                       0\n",
       "out_prncp                                           0\n",
       "initial_list_status                                 0\n",
       "revol_bal                                           0\n",
       "disbursement_method                                 0\n",
       "dtype: int64"
      ]
     },
     "execution_count": 27,
     "metadata": {},
     "output_type": "execute_result"
    }
   ],
   "source": [
    "data.isnull().sum().sort_values(ascending=False)"
   ]
  },
  {
   "cell_type": "code",
   "execution_count": 15,
   "metadata": {},
   "outputs": [],
   "source": [
    "missing_columns = data.isnull().any(axis=0).sort_values(ascending=False)"
   ]
  },
  {
   "cell_type": "code",
   "execution_count": 29,
   "metadata": {},
   "outputs": [
    {
     "data": {
      "text/plain": [
       "Index(['settlement_term', 'inq_fi', 'open_acc_6m', 'open_act_il',\n",
       "       'open_il_12m', 'open_il_24m', 'mths_since_rcnt_il', 'total_bal_il',\n",
       "       'il_util', 'open_rv_12m',\n",
       "       ...\n",
       "       'pct_tl_nvr_dlq', 'num_tl_120dpd_2m', 'tax_liens',\n",
       "       'sec_app_earliest_cr_line', 'total_bc_limit',\n",
       "       'total_il_high_credit_limit', 'pub_rec_bankruptcies',\n",
       "       'total_bal_ex_mort', 'revol_bal_joint', 'tot_hi_cred_lim'],\n",
       "      dtype='object', length=113)"
      ]
     },
     "execution_count": 29,
     "metadata": {},
     "output_type": "execute_result"
    }
   ],
   "source": [
    "missing_columns[missing_columns == True].index"
   ]
  },
  {
   "cell_type": "markdown",
   "metadata": {},
   "source": [
    "Well, that's a lot of missing data.  \n",
    "Columns ID, MEMBER_ID and URL are completely missing - they are unique identifiers, most likely generated from sequence and wouldn't add any value anyways. Can be safely dropped.  \n",
    "\n",
    "Next set of values pertains to hardship plan - period of paying only interests instead of full monthly amount. Makes sense that if most customers don't have to use this option there will be plenty of missing values. Indicator variable HARDSHIP_FLAG (which has no missing values) may be useful but other variables describing this state may be dropped.  \n",
    "\n",
    "At this point looking at all other variables, one by one, is a waste of time. If I will need to improve models I may come back to careful inspection of these variables but for the time being I will drop all columns that have more than 65% of missing values and impute missing values for the rest of remaining columns."
   ]
  },
  {
   "cell_type": "code",
   "execution_count": 10,
   "metadata": {},
   "outputs": [],
   "source": [
    "# making copy of dataframe\n",
    "df = data.copy()"
   ]
  },
  {
   "cell_type": "code",
   "execution_count": 11,
   "metadata": {},
   "outputs": [],
   "source": [
    "df = df.dropna(thresh=0.65 * df.shape[0], axis=1)"
   ]
  },
  {
   "cell_type": "code",
   "execution_count": 31,
   "metadata": {},
   "outputs": [
    {
     "data": {
      "text/plain": [
       "(2260668, 87)"
      ]
     },
     "execution_count": 31,
     "metadata": {},
     "output_type": "execute_result"
    }
   ],
   "source": [
    "df.shape"
   ]
  },
  {
   "cell_type": "markdown",
   "metadata": {},
   "source": [
    "__Encoding target variable__"
   ]
  },
  {
   "cell_type": "code",
   "execution_count": 42,
   "metadata": {},
   "outputs": [
    {
     "data": {
      "text/plain": [
       "Fully Paid                                             1041952\n",
       "Current                                                 919695\n",
       "Charged Off                                             261655\n",
       "Late (31-120 days)                                       21897\n",
       "In Grace Period                                           8952\n",
       "Late (16-30 days)                                         3737\n",
       "Does not meet the credit policy. Status:Fully Paid        1988\n",
       "Does not meet the credit policy. Status:Charged Off        761\n",
       "Default                                                     31\n",
       "Name: loan_status, dtype: int64"
      ]
     },
     "execution_count": 42,
     "metadata": {},
     "output_type": "execute_result"
    }
   ],
   "source": [
    "df.loan_status.value_counts()"
   ]
  },
  {
   "cell_type": "code",
   "execution_count": 12,
   "metadata": {},
   "outputs": [],
   "source": [
    "d_1 = 'Default'\n",
    "d_2 = 'Does not meet the credit policy. Status:Charged Off'\n",
    "d_3 = 'Late (31-120 days)'\n",
    "d_4 = 'Charged Off'\n",
    "\n",
    "n_1 = 'Fully Paid'\n",
    "n_2 = 'Current'\n",
    "n_3 = 'In Grace Period'\n",
    "n_4 = 'Late (16-30 days)'\n",
    "n_5 = 'Does not meet the credit policy. Status:Fully Paid'\n",
    "\n",
    "df['target'] = df.loan_status.map({d_1:1, d_2:1, d_3:1, d_4:1, n_1:0, n_2:0, n_3:0, n_4:0, n_5:0})"
   ]
  },
  {
   "cell_type": "code",
   "execution_count": 45,
   "metadata": {
    "scrolled": true
   },
   "outputs": [
    {
     "data": {
      "text/plain": [
       "0.1257787521210545"
      ]
     },
     "execution_count": 45,
     "metadata": {},
     "output_type": "execute_result"
    }
   ],
   "source": [
    "df.target.value_counts()[1] / df.shape[0]"
   ]
  },
  {
   "cell_type": "code",
   "execution_count": 13,
   "metadata": {},
   "outputs": [],
   "source": [
    "df.drop('loan_status', axis=1, inplace=True)"
   ]
  },
  {
   "cell_type": "code",
   "execution_count": 78,
   "metadata": {},
   "outputs": [
    {
     "name": "stdout",
     "output_type": "stream",
     "text": [
      "term 2\n",
      "grade 7\n",
      "sub_grade 35\n",
      "emp_title 512694\n",
      "emp_length 11\n",
      "home_ownership 6\n",
      "verification_status 3\n",
      "issue_d 139\n",
      "pymnt_plan 2\n",
      "purpose 14\n",
      "title 63155\n",
      "zip_code 956\n",
      "addr_state 51\n",
      "earliest_cr_line 754\n",
      "initial_list_status 2\n",
      "last_pymnt_d 135\n",
      "last_credit_pull_d 140\n",
      "application_type 2\n",
      "hardship_flag 2\n",
      "disbursement_method 2\n",
      "debt_settlement_flag 2\n"
     ]
    }
   ],
   "source": [
    "for c, t in zip(df.columns, df.dtypes):\n",
    "    if t=='object':\n",
    "        print(c, df[c].nunique())"
   ]
  },
  {
   "cell_type": "markdown",
   "metadata": {},
   "source": [
    "I will be dropping columns with lots of unique values, since they can't be converted to label encoding or one-hot encoding without creating insane amount of empty columns. I will also check columns with more than 100 values since they seem to be datetime objects.\n",
    "\n",
    "I will take a look at grade since that means overall quality of loan and risk of default."
   ]
  },
  {
   "cell_type": "code",
   "execution_count": 14,
   "metadata": {},
   "outputs": [],
   "source": [
    "df.drop(['sub_grade', 'emp_title', 'title', 'zip_code', 'addr_state'], axis=1, inplace=True)"
   ]
  },
  {
   "cell_type": "code",
   "execution_count": 24,
   "metadata": {},
   "outputs": [
    {
     "data": {
      "text/plain": [
       "A    433027\n",
       "B    663557\n",
       "C    650053\n",
       "D    324424\n",
       "E    135639\n",
       "F     41800\n",
       "G     12168\n",
       "Name: grade, dtype: int64"
      ]
     },
     "execution_count": 24,
     "metadata": {},
     "output_type": "execute_result"
    }
   ],
   "source": [
    "df.grade.value_counts().sort_index()"
   ]
  },
  {
   "cell_type": "code",
   "execution_count": 29,
   "metadata": {},
   "outputs": [
    {
     "data": {
      "image/png": "[encoded data removed]",
      "text/plain": [
       "<Figure size 1296x576 with 1 Axes>"
      ]
     },
     "metadata": {
      "needs_background": "light"
     },
     "output_type": "display_data"
    }
   ],
   "source": [
    "fig = plt.figure(figsize=(18,8))\n",
    "sns.boxplot(y='int_rate', x='grade', data=df, order=['A', 'B', 'C', 'D', 'E', 'F', 'G'])\n",
    "plt.show()"
   ]
  },
  {
   "cell_type": "markdown",
   "metadata": {},
   "source": [
    "Encoding grade with numeric values"
   ]
  },
  {
   "cell_type": "code",
   "execution_count": 15,
   "metadata": {},
   "outputs": [],
   "source": [
    "grades = df.grade.unique()\n",
    "grades.sort()\n",
    "grade_dict = dict(zip(grades, np.arange(len(grades))[::-1]))"
   ]
  },
  {
   "cell_type": "code",
   "execution_count": 16,
   "metadata": {},
   "outputs": [],
   "source": [
    "df['grade'] = df.grade.map(grade_dict)"
   ]
  },
  {
   "cell_type": "markdown",
   "metadata": {},
   "source": [
    "Converting months to numeric value - number of months from earliest credit line to date of issuance of credit by Lending Club."
   ]
  },
  {
   "cell_type": "code",
   "execution_count": 86,
   "metadata": {
    "scrolled": true
   },
   "outputs": [
    {
     "data": {
      "text/plain": [
       "29"
      ]
     },
     "execution_count": 86,
     "metadata": {},
     "output_type": "execute_result"
    }
   ],
   "source": [
    "df.earliest_cr_line.isnull().sum()"
   ]
  },
  {
   "cell_type": "code",
   "execution_count": 79,
   "metadata": {
    "collapsed": true
   },
   "outputs": [
    {
     "data": {
      "text/plain": [
       "Sep-2004    15400\n",
       "Sep-2003    15215\n",
       "Sep-2005    14780\n",
       "Aug-2003    14669\n",
       "Aug-2004    14413\n",
       "Aug-2001    14355\n",
       "Aug-2002    14322\n",
       "Aug-2005    14207\n",
       "Aug-2006    14143\n",
       "Oct-2003    14108\n",
       "Sep-2002    13823\n",
       "Oct-2004    13602\n",
       "Aug-2000    13497\n",
       "Oct-2002    13437\n",
       "Oct-2001    13424\n",
       "Jul-2003    13243\n",
       "Oct-2000    12909\n",
       "Nov-2004    12527\n",
       "Jul-2004    12376\n",
       "Sep-2000    12252\n",
       "Nov-1999    12209\n",
       "Nov-2000    12135\n",
       "Oct-2005    12128\n",
       "Sep-2001    12066\n",
       "Nov-2001    11880\n",
       "Mar-2004    11854\n",
       "Sep-2006    11842\n",
       "Jun-2005    11783\n",
       "Nov-2003    11728\n",
       "Oct-1999    11665\n",
       "Jul-2002    11606\n",
       "Aug-1999    11541\n",
       "Nov-2002    11452\n",
       "Dec-2004    11371\n",
       "Nov-2005    11354\n",
       "May-2003    11336\n",
       "Sep-1999    11330\n",
       "Aug-2007    11313\n",
       "Jul-2001    11225\n",
       "May-2004    11148\n",
       "Mar-2005    11141\n",
       "Dec-2001    11108\n",
       "Jul-2005    11075\n",
       "Jun-2004    11075\n",
       "Mar-2001    11051\n",
       "Dec-2003    10943\n",
       "Jun-2003    10890\n",
       "Mar-2003    10780\n",
       "May-2005    10733\n",
       "Apr-2004    10633\n",
       "Mar-2006    10632\n",
       "May-2001    10612\n",
       "Dec-2000    10609\n",
       "Jun-2001    10598\n",
       "May-2002    10597\n",
       "Jun-2006    10525\n",
       "Apr-2002    10510\n",
       "May-2006    10492\n",
       "Mar-2002    10448\n",
       "Apr-2003    10432\n",
       "Sep-1998    10426\n",
       "Jul-2006    10420\n",
       "Mar-2000    10407\n",
       "Apr-2001    10400\n",
       "Dec-2002    10398\n",
       "Feb-2005    10374\n",
       "Apr-2005    10272\n",
       "Feb-2004    10261\n",
       "Jul-2000    10216\n",
       "Jan-2005    10214\n",
       "Dec-1999    10209\n",
       "Oct-2006    10202\n",
       "Jun-2000    10081\n",
       "Dec-2005    10068\n",
       "Jan-2001     9962\n",
       "Oct-1998     9927\n",
       "May-2000     9843\n",
       "Apr-2006     9773\n",
       "Feb-2002     9750\n",
       "Jan-2002     9739\n",
       "Jan-2003     9640\n",
       "Jun-2002     9600\n",
       "Mar-1999     9581\n",
       "Feb-2003     9552\n",
       "Jan-2004     9511\n",
       "Aug-1998     9505\n",
       "Feb-2000     9491\n",
       "Nov-2006     9472\n",
       "Feb-2006     9453\n",
       "Dec-1998     9388\n",
       "Jan-2006     9362\n",
       "Nov-1998     9307\n",
       "Jul-1999     9209\n",
       "Oct-1997     9163\n",
       "Feb-2001     9127\n",
       "Apr-2000     9038\n",
       "Jan-2000     8822\n",
       "Jun-1999     8812\n",
       "Dec-2006     8740\n",
       "Sep-2007     8664\n",
       "            ...  \n",
       "Mar-1962        9\n",
       "Nov-1959        9\n",
       "Feb-1963        9\n",
       "Jun-1958        9\n",
       "Jul-1962        8\n",
       "Jan-1955        8\n",
       "Jun-1960        8\n",
       "Dec-1961        8\n",
       "Sep-1961        8\n",
       "Jun-1959        7\n",
       "Jun-1961        7\n",
       "Oct-1959        7\n",
       "Nov-1962        7\n",
       "Dec-1959        7\n",
       "Aug-1960        7\n",
       "Aug-1961        7\n",
       "Apr-1961        7\n",
       "Jul-1959        7\n",
       "Mar-1961        7\n",
       "May-1962        7\n",
       "May-1961        7\n",
       "Jan-1954        6\n",
       "Jan-1953        6\n",
       "Mar-1960        6\n",
       "Jul-1961        6\n",
       "Feb-1961        6\n",
       "Aug-1962        6\n",
       "Jul-1960        6\n",
       "Jan-1952        5\n",
       "Aug-1958        5\n",
       "Nov-1960        5\n",
       "Oct-1958        5\n",
       "Jun-1957        5\n",
       "Mar-1959        5\n",
       "Dec-1956        5\n",
       "Feb-1962        4\n",
       "May-1960        4\n",
       "Sep-1959        4\n",
       "Apr-1960        4\n",
       "Apr-1955        4\n",
       "Dec-1958        4\n",
       "Nov-1958        3\n",
       "Nov-1956        3\n",
       "Feb-1959        3\n",
       "Jul-1958        3\n",
       "Jul-1951        2\n",
       "Aug-1950        2\n",
       "May-1958        2\n",
       "Nov-1957        2\n",
       "May-1955        2\n",
       "Sep-1960        2\n",
       "Apr-1958        2\n",
       "Apr-1934        2\n",
       "Nov-1954        2\n",
       "Feb-1958        2\n",
       "Jun-1956        2\n",
       "Mar-1954        2\n",
       "Feb-1960        2\n",
       "Jan-1944        2\n",
       "Jun-1949        2\n",
       "Sep-1956        2\n",
       "Jan-1948        2\n",
       "May-1957        2\n",
       "Mar-1955        2\n",
       "Jun-1952        2\n",
       "Sep-1953        2\n",
       "Nov-1950        1\n",
       "Aug-1955        1\n",
       "Dec-1951        1\n",
       "Aug-1957        1\n",
       "Sep-1957        1\n",
       "May-1950        1\n",
       "Dec-1946        1\n",
       "Mar-1957        1\n",
       "Sep-1951        1\n",
       "Apr-1957        1\n",
       "Jul-1952        1\n",
       "Oct-1950        1\n",
       "Jul-1955        1\n",
       "Jan-1946        1\n",
       "Nov-1955        1\n",
       "Feb-1957        1\n",
       "Feb-1934        1\n",
       "Apr-1959        1\n",
       "Mar-1958        1\n",
       "Oct-1957        1\n",
       "Jul-1950        1\n",
       "Feb-1945        1\n",
       "Nov-1953        1\n",
       "Aug-1953        1\n",
       "Nov-1952        1\n",
       "Dec-1950        1\n",
       "Aug-1951        1\n",
       "Aug-1946        1\n",
       "Oct-1954        1\n",
       "Dec-1947        1\n",
       "Aug-1941        1\n",
       "Jun-1955        1\n",
       "May-1953        1\n",
       "Mar-1933        1\n",
       "Name: earliest_cr_line, Length: 754, dtype: int64"
      ]
     },
     "execution_count": 79,
     "metadata": {},
     "output_type": "execute_result"
    }
   ],
   "source": [
    "df.earliest_cr_line.value_counts()"
   ]
  },
  {
   "cell_type": "code",
   "execution_count": 88,
   "metadata": {
    "collapsed": true
   },
   "outputs": [
    {
     "data": {
      "text/plain": [
       "Mar-2016    61992\n",
       "Oct-2015    48631\n",
       "May-2018    46311\n",
       "Oct-2018    46305\n",
       "Aug-2018    46079\n",
       "Jul-2015    45962\n",
       "Dec-2015    44343\n",
       "Aug-2017    43573\n",
       "Jul-2018    43089\n",
       "Apr-2018    42928\n",
       "Nov-2017    42343\n",
       "Nov-2018    41973\n",
       "Jun-2018    41533\n",
       "Dec-2018    40134\n",
       "Sep-2017    39713\n",
       "Feb-2016    39529\n",
       "Jul-2017    39415\n",
       "Sep-2018    39026\n",
       "Oct-2014    38783\n",
       "Mar-2018    38771\n",
       "Dec-2017    38154\n",
       "Oct-2017    38151\n",
       "Jun-2017    38087\n",
       "May-2017    37681\n",
       "Nov-2015    37530\n",
       "Mar-2017    37181\n",
       "Apr-2016    36432\n",
       "Jan-2018    36347\n",
       "Aug-2016    36280\n",
       "Dec-2016    36183\n",
       "Aug-2015    35886\n",
       "Apr-2015    35427\n",
       "Jan-2015    35107\n",
       "Jul-2016    34696\n",
       "Nov-2016    34591\n",
       "Jun-2016    33019\n",
       "Oct-2016    32772\n",
       "Feb-2018    32746\n",
       "Jan-2016    32366\n",
       "May-2015    31913\n",
       "Jan-2017    31835\n",
       "Apr-2017    29683\n",
       "Jul-2014    29306\n",
       "Sep-2015    28641\n",
       "Jun-2015    28485\n",
       "May-2016    28403\n",
       "Sep-2016    28144\n",
       "Feb-2017    27763\n",
       "Mar-2015    25400\n",
       "Nov-2014    25054\n",
       "Feb-2015    23770\n",
       "May-2014    19099\n",
       "Apr-2014    19071\n",
       "Aug-2014    18814\n",
       "Jun-2014    17179\n",
       "Mar-2014    16513\n",
       "Jan-2014    15628\n",
       "Feb-2014    15269\n",
       "Dec-2013    15020\n",
       "Nov-2013    14720\n",
       "Oct-2013    14129\n",
       "Sep-2013    12987\n",
       "Aug-2013    12674\n",
       "Jul-2013    11910\n",
       "Jun-2013    10899\n",
       "Sep-2014    10606\n",
       "May-2013    10350\n",
       "Dec-2014    10307\n",
       "Apr-2013     9419\n",
       "Mar-2013     8273\n",
       "Feb-2013     7561\n",
       "Jan-2013     6872\n",
       "Nov-2012     6382\n",
       "Oct-2012     6263\n",
       "Sep-2012     6087\n",
       "Dec-2012     6066\n",
       "Aug-2012     5419\n",
       "Jul-2012     4627\n",
       "Jun-2012     3817\n",
       "May-2012     3400\n",
       "Apr-2012     3230\n",
       "Mar-2012     2914\n",
       "Jan-2012     2602\n",
       "Feb-2012     2560\n",
       "Dec-2011     2267\n",
       "Nov-2011     2232\n",
       "Oct-2011     2118\n",
       "Sep-2011     2067\n",
       "Aug-2011     1934\n",
       "Jul-2011     1875\n",
       "Jun-2011     1835\n",
       "May-2011     1704\n",
       "Apr-2011     1563\n",
       "Mar-2011     1448\n",
       "Jan-2011     1380\n",
       "Dec-2010     1335\n",
       "Feb-2011     1298\n",
       "Oct-2010     1232\n",
       "Nov-2010     1224\n",
       "Jul-2010     1204\n",
       "Sep-2010     1189\n",
       "Aug-2010     1175\n",
       "Jun-2010     1105\n",
       "May-2010      989\n",
       "Apr-2010      912\n",
       "Mar-2010      828\n",
       "Feb-2010      682\n",
       "Nov-2009      662\n",
       "Jan-2010      662\n",
       "Dec-2009      658\n",
       "Oct-2009      604\n",
       "Sep-2009      507\n",
       "Aug-2009      446\n",
       "Jul-2009      411\n",
       "Jun-2009      406\n",
       "Mar-2008      402\n",
       "May-2009      359\n",
       "Apr-2009      333\n",
       "Mar-2009      324\n",
       "Feb-2008      306\n",
       "Jan-2008      305\n",
       "Feb-2009      302\n",
       "Jan-2009      269\n",
       "Apr-2008      259\n",
       "Dec-2008      253\n",
       "Nov-2008      209\n",
       "Dec-2007      172\n",
       "Jul-2008      141\n",
       "Jun-2008      124\n",
       "Oct-2008      122\n",
       "May-2008      115\n",
       "Nov-2007      112\n",
       "Oct-2007      105\n",
       "Aug-2008      100\n",
       "Aug-2007       74\n",
       "Jul-2007       63\n",
       "Sep-2008       57\n",
       "Sep-2007       53\n",
       "Jun-2007       24\n",
       "Name: issue_d, dtype: int64"
      ]
     },
     "execution_count": 88,
     "metadata": {},
     "output_type": "execute_result"
    }
   ],
   "source": [
    "df.issue_d.value_counts()"
   ]
  },
  {
   "cell_type": "code",
   "execution_count": 37,
   "metadata": {},
   "outputs": [],
   "source": [
    "#df['cr_months'] = (pd.to_datetime(df.issue_d) - pd.to_datetime(df.earliest_cr_line))/np.timedelta64(1, 'M')"
   ]
  },
  {
   "cell_type": "code",
   "execution_count": 38,
   "metadata": {},
   "outputs": [],
   "source": [
    "#df['cr_months'] = SimpleImputer(strategy='most_frequent').fit_transform(np.array(df.cr_months).reshape(-1, 1))"
   ]
  },
  {
   "cell_type": "code",
   "execution_count": 17,
   "metadata": {},
   "outputs": [],
   "source": [
    "df.drop(['issue_d', 'earliest_cr_line'], axis=1, inplace=True)"
   ]
  },
  {
   "cell_type": "code",
   "execution_count": 161,
   "metadata": {
    "collapsed": true
   },
   "outputs": [
    {
     "data": {
      "text/plain": [
       "mths_since_recent_inq         295435\n",
       "num_tl_120dpd_2m              153657\n",
       "emp_length                    146907\n",
       "mo_sin_old_il_acct            139071\n",
       "bc_util                        76071\n",
       "percent_bc_gt_75               75379\n",
       "bc_open_to_buy                 74935\n",
       "mths_since_recent_bc           73412\n",
       "pct_tl_nvr_dlq                 70431\n",
       "avg_cur_bal                    70346\n",
       "mo_sin_rcnt_rev_tl_op          70277\n",
       "num_rev_accts                  70277\n",
       "mo_sin_old_rev_tl_op           70277\n",
       "num_actv_rev_tl                70276\n",
       "num_actv_bc_tl                 70276\n",
       "mo_sin_rcnt_tl                 70276\n",
       "num_accts_ever_120_pd          70276\n",
       "num_il_tl                      70276\n",
       "total_rev_hi_lim               70276\n",
       "tot_coll_amt                   70276\n",
       "num_bc_tl                      70276\n",
       "tot_cur_bal                    70276\n",
       "num_op_rev_tl                  70276\n",
       "num_rev_tl_bal_gt_0            70276\n",
       "num_tl_30dpd                   70276\n",
       "num_tl_90g_dpd_24m             70276\n",
       "num_tl_op_past_12m             70276\n",
       "tot_hi_cred_lim                70276\n",
       "total_il_high_credit_limit     70276\n",
       "num_sats                       58590\n",
       "num_bc_sats                    58590\n",
       "total_bc_limit                 50030\n",
       "mort_acc                       50030\n",
       "acc_open_past_24mths           50030\n",
       "total_bal_ex_mort              50030\n",
       "last_pymnt_d                    2426\n",
       "revol_util                      1802\n",
       "dti                             1711\n",
       "pub_rec_bankruptcies            1365\n",
       "chargeoff_within_12_mths         145\n",
       "collections_12_mths_ex_med       145\n",
       "tax_liens                        105\n",
       "last_credit_pull_d                73\n",
       "inq_last_6mths                    30\n",
       "delinq_2yrs                       29\n",
       "total_acc                         29\n",
       "open_acc                          29\n",
       "acc_now_delinq                    29\n",
       "delinq_amnt                       29\n",
       "pub_rec                           29\n",
       "annual_inc                         4\n",
       "grade                              0\n",
       "sub_grade                          0\n",
       "installment                        0\n",
       "funded_amnt                        0\n",
       "home_ownership                     0\n",
       "verification_status                0\n",
       "pymnt_plan                         0\n",
       "purpose                            0\n",
       "addr_state                         0\n",
       "int_rate                           0\n",
       "term                               0\n",
       "funded_amnt_inv                    0\n",
       "cr_months                          0\n",
       "revol_bal                          0\n",
       "collection_recovery_fee            0\n",
       "debt_settlement_flag               0\n",
       "disbursement_method                0\n",
       "hardship_flag                      0\n",
       "target                             0\n",
       "application_type                   0\n",
       "policy_code                        0\n",
       "last_pymnt_amnt                    0\n",
       "recoveries                         0\n",
       "initial_list_status                0\n",
       "total_rec_late_fee                 0\n",
       "total_rec_int                      0\n",
       "total_rec_prncp                    0\n",
       "total_pymnt_inv                    0\n",
       "total_pymnt                        0\n",
       "out_prncp_inv                      0\n",
       "out_prncp                          0\n",
       "loan_amnt                          0\n",
       "dtype: int64"
      ]
     },
     "execution_count": 161,
     "metadata": {},
     "output_type": "execute_result"
    }
   ],
   "source": [
    "df.isnull().sum().sort_values(ascending=False)"
   ]
  },
  {
   "cell_type": "code",
   "execution_count": 167,
   "metadata": {
    "scrolled": false
   },
   "outputs": [
    {
     "data": {
      "text/plain": [
       "term                         0\n",
       "grade                        0\n",
       "sub_grade                    0\n",
       "emp_length              146907\n",
       "home_ownership               0\n",
       "verification_status          0\n",
       "pymnt_plan                   0\n",
       "purpose                      0\n",
       "addr_state                   0\n",
       "initial_list_status          0\n",
       "last_pymnt_d              2426\n",
       "last_credit_pull_d          73\n",
       "application_type             0\n",
       "hardship_flag                0\n",
       "disbursement_method          0\n",
       "debt_settlement_flag         0\n",
       "dtype: int64"
      ]
     },
     "execution_count": 167,
     "metadata": {},
     "output_type": "execute_result"
    }
   ],
   "source": [
    "df.loc[:, df.dtypes == np.object].isnull().sum()"
   ]
  },
  {
   "cell_type": "code",
   "execution_count": 16,
   "metadata": {},
   "outputs": [
    {
     "data": {
      "text/plain": [
       "10+ years    748005\n",
       "2 years      203677\n",
       "< 1 year     189988\n",
       "3 years      180753\n",
       "1 year       148403\n",
       "5 years      139698\n",
       "4 years      136605\n",
       "6 years      102628\n",
       "7 years       92695\n",
       "8 years       91914\n",
       "9 years       79395\n",
       "Name: emp_length, dtype: int64"
      ]
     },
     "execution_count": 16,
     "metadata": {},
     "output_type": "execute_result"
    }
   ],
   "source": [
    "df.emp_length.value_counts().sort_values(ascending=False)"
   ]
  },
  {
   "cell_type": "code",
   "execution_count": 17,
   "metadata": {},
   "outputs": [
    {
     "data": {
      "text/plain": [
       "array(['10+ years', '6 years', '4 years', '< 1 year', '2 years',\n",
       "       '9 years', nan, '5 years', '3 years', '7 years', '1 year',\n",
       "       '8 years'], dtype=object)"
      ]
     },
     "execution_count": 17,
     "metadata": {},
     "output_type": "execute_result"
    }
   ],
   "source": [
    "df.emp_length.unique()"
   ]
  },
  {
   "cell_type": "code",
   "execution_count": 18,
   "metadata": {},
   "outputs": [],
   "source": [
    "emp_length_values = ['< 1 year', '1 year', '2 years', '3 years', '4 years', '5 years', '6 years'\\\n",
    "                     , '7 years', '8 years', '9 years', '10+ years']\n",
    "emp_length_dict = dict(zip(emp_length_values, np.arange(len(emp_length_values))))"
   ]
  },
  {
   "cell_type": "code",
   "execution_count": 21,
   "metadata": {
    "scrolled": true
   },
   "outputs": [
    {
     "data": {
      "text/plain": [
       "{'< 1 year': 0,\n",
       " '1 year': 1,\n",
       " '2 years': 2,\n",
       " '3 years': 3,\n",
       " '4 years': 4,\n",
       " '5 years': 5,\n",
       " '6 years': 6,\n",
       " '7 years': 7,\n",
       " '8 years': 8,\n",
       " '9 years': 9,\n",
       " '10+ years': 10}"
      ]
     },
     "execution_count": 21,
     "metadata": {},
     "output_type": "execute_result"
    }
   ],
   "source": [
    "emp_length_dict"
   ]
  },
  {
   "cell_type": "code",
   "execution_count": 19,
   "metadata": {},
   "outputs": [],
   "source": [
    "df['emp_length'] =  df.emp_length.map(emp_length_dict)"
   ]
  },
  {
   "cell_type": "code",
   "execution_count": 20,
   "metadata": {},
   "outputs": [],
   "source": [
    "df['emp_length'] = df.emp_length.fillna(0)"
   ]
  },
  {
   "cell_type": "markdown",
   "metadata": {},
   "source": [
    "Last payment date (last_pymnt_d) is directly correlated with Loan status - I will drop this column."
   ]
  },
  {
   "cell_type": "code",
   "execution_count": 21,
   "metadata": {},
   "outputs": [],
   "source": [
    "df.drop('last_pymnt_d', axis=1, inplace=True)"
   ]
  },
  {
   "cell_type": "code",
   "execution_count": 22,
   "metadata": {},
   "outputs": [],
   "source": [
    "df.drop('last_credit_pull_d', axis=1, inplace=True)"
   ]
  },
  {
   "cell_type": "markdown",
   "metadata": {},
   "source": [
    "Filling missing values for datetime columns with most frequent values"
   ]
  },
  {
   "cell_type": "code",
   "execution_count": 23,
   "metadata": {},
   "outputs": [],
   "source": [
    "df['mths_since_recent_inq'] = df.mths_since_recent_inq.fillna(df.mths_since_recent_inq.value_counts().index[0])"
   ]
  },
  {
   "cell_type": "code",
   "execution_count": 29,
   "metadata": {
    "collapsed": true
   },
   "outputs": [
    {
     "data": {
      "text/plain": [
       "Index(['acc_now_delinq', 'acc_open_past_24mths', 'annual_inc', 'avg_cur_bal',\n",
       "       'bc_open_to_buy', 'bc_util', 'chargeoff_within_12_mths',\n",
       "       'collection_recovery_fee', 'collections_12_mths_ex_med', 'cr_months',\n",
       "       'delinq_2yrs', 'delinq_amnt', 'dti', 'funded_amnt_inv',\n",
       "       'inq_last_6mths', 'installment', 'int_rate', 'last_pymnt_amnt',\n",
       "       'mo_sin_old_il_acct', 'mo_sin_old_rev_tl_op', 'mo_sin_rcnt_rev_tl_op',\n",
       "       'mo_sin_rcnt_tl', 'mort_acc', 'mths_since_recent_bc',\n",
       "       'mths_since_recent_inq', 'num_accts_ever_120_pd', 'num_actv_bc_tl',\n",
       "       'num_actv_rev_tl', 'num_bc_sats', 'num_bc_tl', 'num_il_tl',\n",
       "       'num_op_rev_tl', 'num_rev_accts', 'num_rev_tl_bal_gt_0', 'num_sats',\n",
       "       'num_tl_120dpd_2m', 'num_tl_30dpd', 'num_tl_90g_dpd_24m',\n",
       "       'num_tl_op_past_12m', 'open_acc', 'out_prncp', 'out_prncp_inv',\n",
       "       'pct_tl_nvr_dlq', 'percent_bc_gt_75', 'pub_rec', 'pub_rec_bankruptcies',\n",
       "       'recoveries', 'revol_util', 'tax_liens', 'tot_coll_amt', 'tot_cur_bal',\n",
       "       'tot_hi_cred_lim', 'total_acc', 'total_bal_ex_mort', 'total_bc_limit',\n",
       "       'total_il_high_credit_limit', 'total_pymnt', 'total_pymnt_inv',\n",
       "       'total_rec_int', 'total_rec_late_fee', 'total_rec_prncp',\n",
       "       'total_rev_hi_lim'],\n",
       "      dtype='object')"
      ]
     },
     "execution_count": 29,
     "metadata": {},
     "output_type": "execute_result"
    }
   ],
   "source": [
    "df.loc[:, df.dtypes=='float64'].columns.sort_values()"
   ]
  },
  {
   "cell_type": "code",
   "execution_count": 29,
   "metadata": {
    "collapsed": true
   },
   "outputs": [
    {
     "data": {
      "text/plain": [
       "num_tl_120dpd_2m              153657\n",
       "mo_sin_old_il_acct            139071\n",
       "bc_util                        76071\n",
       "percent_bc_gt_75               75379\n",
       "bc_open_to_buy                 74935\n",
       "mths_since_recent_bc           73412\n",
       "pct_tl_nvr_dlq                 70431\n",
       "avg_cur_bal                    70346\n",
       "mo_sin_rcnt_rev_tl_op          70277\n",
       "mo_sin_old_rev_tl_op           70277\n",
       "num_rev_accts                  70277\n",
       "num_rev_tl_bal_gt_0            70276\n",
       "num_actv_rev_tl                70276\n",
       "num_actv_bc_tl                 70276\n",
       "num_accts_ever_120_pd          70276\n",
       "num_bc_tl                      70276\n",
       "num_il_tl                      70276\n",
       "num_op_rev_tl                  70276\n",
       "total_rev_hi_lim               70276\n",
       "mo_sin_rcnt_tl                 70276\n",
       "num_tl_90g_dpd_24m             70276\n",
       "num_tl_op_past_12m             70276\n",
       "tot_hi_cred_lim                70276\n",
       "total_il_high_credit_limit     70276\n",
       "tot_cur_bal                    70276\n",
       "tot_coll_amt                   70276\n",
       "num_tl_30dpd                   70276\n",
       "num_sats                       58590\n",
       "num_bc_sats                    58590\n",
       "acc_open_past_24mths           50030\n",
       "mort_acc                       50030\n",
       "total_bal_ex_mort              50030\n",
       "total_bc_limit                 50030\n",
       "revol_util                      1802\n",
       "dti                             1711\n",
       "pub_rec_bankruptcies            1365\n",
       "collections_12_mths_ex_med       145\n",
       "chargeoff_within_12_mths         145\n",
       "tax_liens                        105\n",
       "inq_last_6mths                    30\n",
       "pub_rec                           29\n",
       "open_acc                          29\n",
       "delinq_2yrs                       29\n",
       "total_acc                         29\n",
       "acc_now_delinq                    29\n",
       "delinq_amnt                       29\n",
       "annual_inc                         4\n",
       "grade                              0\n",
       "int_rate                           0\n",
       "home_ownership                     0\n",
       "verification_status                0\n",
       "pymnt_plan                         0\n",
       "purpose                            0\n",
       "funded_amnt                        0\n",
       "funded_amnt_inv                    0\n",
       "installment                        0\n",
       "term                               0\n",
       "revol_bal                          0\n",
       "emp_length                         0\n",
       "cr_months                          0\n",
       "initial_list_status                0\n",
       "last_pymnt_amnt                    0\n",
       "debt_settlement_flag               0\n",
       "disbursement_method                0\n",
       "hardship_flag                      0\n",
       "mths_since_recent_inq              0\n",
       "target                             0\n",
       "application_type                   0\n",
       "policy_code                        0\n",
       "last_credit_pull_d                 0\n",
       "last_pymnt_d                       0\n",
       "out_prncp                          0\n",
       "collection_recovery_fee            0\n",
       "recoveries                         0\n",
       "total_rec_late_fee                 0\n",
       "total_rec_int                      0\n",
       "total_rec_prncp                    0\n",
       "total_pymnt_inv                    0\n",
       "total_pymnt                        0\n",
       "out_prncp_inv                      0\n",
       "loan_amnt                          0\n",
       "dtype: int64"
      ]
     },
     "execution_count": 29,
     "metadata": {},
     "output_type": "execute_result"
    }
   ],
   "source": [
    "df.isnull().sum().sort_values(ascending=False)"
   ]
  },
  {
   "cell_type": "markdown",
   "metadata": {},
   "source": [
    "All other columns missing have so little missing values that it does not really matter what they are filled with, so I will just fill them with 0, as they are all numeric. "
   ]
  },
  {
   "cell_type": "code",
   "execution_count": 24,
   "metadata": {},
   "outputs": [],
   "source": [
    "df = df.fillna(0)"
   ]
  },
  {
   "cell_type": "code",
   "execution_count": 25,
   "metadata": {},
   "outputs": [
    {
     "data": {
      "text/plain": [
       "(2260668, 78)"
      ]
     },
     "execution_count": 25,
     "metadata": {},
     "output_type": "execute_result"
    }
   ],
   "source": [
    "df.shape"
   ]
  },
  {
   "cell_type": "markdown",
   "metadata": {},
   "source": [
    "Categorical variables have to be encoded - those with only 2 unique values can be encoded with LabelEncoder, those with more than 2 will be encoded with OneHotEncoder"
   ]
  },
  {
   "cell_type": "code",
   "execution_count": 26,
   "metadata": {},
   "outputs": [
    {
     "name": "stdout",
     "output_type": "stream",
     "text": [
      "term\n",
      "pymnt_plan\n",
      "initial_list_status\n",
      "application_type\n",
      "hardship_flag\n",
      "disbursement_method\n",
      "debt_settlement_flag\n",
      "7\n"
     ]
    }
   ],
   "source": [
    "le = LabelEncoder()\n",
    "label_col_cnt = 0\n",
    "\n",
    "for col in df.columns:\n",
    "    if df[col].dtype == 'object':\n",
    "        if len(list(df[col].unique())) <= 2:\n",
    "            df[col] = le.fit_transform(df[col])\n",
    "            label_col_cnt += 1\n",
    "            print(col)\n",
    "\n",
    "print(label_col_cnt)"
   ]
  },
  {
   "cell_type": "code",
   "execution_count": 20,
   "metadata": {},
   "outputs": [
    {
     "data": {
      "text/plain": [
       "Index(['home_ownership', 'verification_status', 'purpose'], dtype='object')"
      ]
     },
     "execution_count": 20,
     "metadata": {},
     "output_type": "execute_result"
    }
   ],
   "source": [
    "df.loc[:, df.dtypes=='object'].columns"
   ]
  },
  {
   "cell_type": "code",
   "execution_count": 27,
   "metadata": {},
   "outputs": [],
   "source": [
    "df = pd.get_dummies(df)"
   ]
  },
  {
   "cell_type": "code",
   "execution_count": 28,
   "metadata": {},
   "outputs": [
    {
     "data": {
      "text/plain": [
       "(2260668, 98)"
      ]
     },
     "execution_count": 28,
     "metadata": {},
     "output_type": "execute_result"
    }
   ],
   "source": [
    "df.shape"
   ]
  },
  {
   "cell_type": "markdown",
   "metadata": {},
   "source": [
    "<a name='modeling'></a>\n",
    "3. Modeling"
   ]
  },
  {
   "cell_type": "code",
   "execution_count": 2,
   "metadata": {},
   "outputs": [],
   "source": [
    "from sklearn.model_selection import train_test_split, cross_val_score"
   ]
  },
  {
   "cell_type": "code",
   "execution_count": 1,
   "metadata": {},
   "outputs": [],
   "source": [
    "from sklearn.model_selection import train_test_split, cross_val_score\n",
    "from sklearn.metrics import roc_curve, roc_auc_score, classification_report, confusion_matrix"
   ]
  },
  {
   "cell_type": "markdown",
   "metadata": {},
   "source": [
    "Main metrics are ROC and AUC scores. I do not really care about accuracy, more important are precision and recall. "
   ]
  },
  {
   "cell_type": "code",
   "execution_count": 3,
   "metadata": {
    "scrolled": true
   },
   "outputs": [],
   "source": [
    "from sklearn.linear_model import LogisticRegression"
   ]
  },
  {
   "cell_type": "markdown",
   "metadata": {},
   "source": [
    "Reference model is logistic regression - fast to compute, easily interpretable but cannot capture non-linear relationships of variables"
   ]
  },
  {
   "cell_type": "code",
   "execution_count": 29,
   "metadata": {},
   "outputs": [],
   "source": [
    "y = df.target\n",
    "X = df.drop('target', axis=1)"
   ]
  },
  {
   "cell_type": "code",
   "execution_count": 30,
   "metadata": {},
   "outputs": [],
   "source": [
    "X_train, X_test, y_train, y_test = train_test_split(X, y, random_state=42, test_size=0.3)"
   ]
  },
  {
   "cell_type": "code",
   "execution_count": 31,
   "metadata": {
    "scrolled": true
   },
   "outputs": [
    {
     "data": {
      "text/plain": [
       "((1582467, 97), (1582467,), (678201, 97), (678201,))"
      ]
     },
     "execution_count": 31,
     "metadata": {},
     "output_type": "execute_result"
    }
   ],
   "source": [
    "X_train.shape, y_train.shape, X_test.shape, y_test.shape"
   ]
  },
  {
   "cell_type": "code",
   "execution_count": 49,
   "metadata": {},
   "outputs": [
    {
     "data": {
      "text/plain": [
       "0.12555080137532093"
      ]
     },
     "execution_count": 49,
     "metadata": {},
     "output_type": "execute_result"
    }
   ],
   "source": [
    "len(y_train[y_train==1])/len(y_train)"
   ]
  },
  {
   "cell_type": "markdown",
   "metadata": {},
   "source": [
    "Standarization"
   ]
  },
  {
   "cell_type": "code",
   "execution_count": 4,
   "metadata": {},
   "outputs": [],
   "source": [
    "from sklearn.preprocessing import StandardScaler, RobustScaler"
   ]
  },
  {
   "cell_type": "code",
   "execution_count": 5,
   "metadata": {},
   "outputs": [],
   "source": [
    "from sklearn.pipeline import Pipeline"
   ]
  },
  {
   "cell_type": "code",
   "execution_count": 32,
   "metadata": {},
   "outputs": [],
   "source": [
    "pipe = Pipeline([('rob_sc', RobustScaler())])\n",
    "\n",
    "X_train_sc = pipe.fit_transform(X_train)"
   ]
  },
  {
   "cell_type": "code",
   "execution_count": 33,
   "metadata": {},
   "outputs": [],
   "source": [
    "X_test_sc = pipe.transform(X_test)"
   ]
  },
  {
   "cell_type": "code",
   "execution_count": 6,
   "metadata": {},
   "outputs": [],
   "source": [
    "from sklearn.ensemble import RandomForestClassifier"
   ]
  },
  {
   "cell_type": "code",
   "execution_count": 57,
   "metadata": {},
   "outputs": [
    {
     "data": {
      "text/plain": [
       "RandomForestClassifier(bootstrap=True, class_weight=None, criterion='gini',\n",
       "            max_depth=None, max_features='auto', max_leaf_nodes=None,\n",
       "            min_impurity_decrease=0.0, min_impurity_split=None,\n",
       "            min_samples_leaf=1, min_samples_split=2,\n",
       "            min_weight_fraction_leaf=0.0, n_estimators=10, n_jobs=None,\n",
       "            oob_score=False, random_state=42, verbose=0, warm_start=False)"
      ]
     },
     "execution_count": 57,
     "metadata": {},
     "output_type": "execute_result"
    }
   ],
   "source": [
    "rf = RandomForestClassifier(n_estimators=10, criterion='gini', random_state=42)\n",
    "rf.fit(X_train_sc, y_train)"
   ]
  },
  {
   "cell_type": "code",
   "execution_count": 76,
   "metadata": {},
   "outputs": [],
   "source": [
    "pred = rf.predict(X_test_sc)"
   ]
  },
  {
   "cell_type": "code",
   "execution_count": 77,
   "metadata": {},
   "outputs": [
    {
     "data": {
      "text/plain": [
       "0.9931417223021768"
      ]
     },
     "execution_count": 77,
     "metadata": {},
     "output_type": "execute_result"
    }
   ],
   "source": [
    "roc_auc_score(pred, y_test)"
   ]
  },
  {
   "cell_type": "markdown",
   "metadata": {},
   "source": [
    "This seems a little too good, hmm."
   ]
  },
  {
   "cell_type": "code",
   "execution_count": 78,
   "metadata": {},
   "outputs": [
    {
     "name": "stdout",
     "output_type": "stream",
     "text": [
      "              precision    recall  f1-score   support\n",
      "\n",
      "           0       0.99      1.00      0.99    592537\n",
      "           1       1.00      0.91      0.95     85664\n",
      "\n",
      "   micro avg       0.99      0.99      0.99    678201\n",
      "   macro avg       0.99      0.96      0.97    678201\n",
      "weighted avg       0.99      0.99      0.99    678201\n",
      "\n"
     ]
    }
   ],
   "source": [
    "print(classification_report(y_test, pred))"
   ]
  },
  {
   "cell_type": "code",
   "execution_count": 7,
   "metadata": {},
   "outputs": [],
   "source": [
    "from sklearn.neural_network import MLPClassifier"
   ]
  },
  {
   "cell_type": "code",
   "execution_count": 64,
   "metadata": {},
   "outputs": [],
   "source": [
    "nn = MLPClassifier(hidden_layer_sizes=(5, 5, 5), activation='relu', alpha=0.0001, learning_rate='adaptive', random_state=42)"
   ]
  },
  {
   "cell_type": "code",
   "execution_count": 65,
   "metadata": {
    "scrolled": true
   },
   "outputs": [
    {
     "name": "stdout",
     "output_type": "stream",
     "text": [
      "0.9943490165378935\n"
     ]
    }
   ],
   "source": [
    "nn.fit(X_train, y_train)\n",
    "nn_predict = nn.predict(X_test)\n",
    "print(roc_auc_score(nn_predict, y_test))"
   ]
  },
  {
   "cell_type": "code",
   "execution_count": 66,
   "metadata": {
    "scrolled": true
   },
   "outputs": [
    {
     "name": "stdout",
     "output_type": "stream",
     "text": [
      "              precision    recall  f1-score   support\n",
      "\n",
      "           0       0.99      1.00      0.99    592537\n",
      "           1       1.00      0.92      0.96     85664\n",
      "\n",
      "   micro avg       0.99      0.99      0.99    678201\n",
      "   macro avg       0.99      0.96      0.98    678201\n",
      "weighted avg       0.99      0.99      0.99    678201\n",
      "\n"
     ]
    }
   ],
   "source": [
    "print(classification_report(y_test, nn_predict))"
   ]
  },
  {
   "cell_type": "code",
   "execution_count": 82,
   "metadata": {},
   "outputs": [],
   "source": [
    "def print_score(clf, X_train, y_train, X_test, y_test, train=True):\n",
    "    if train:\n",
    "        print(\"Train Result:\\n\")\n",
    "        print(\"Classification Report: \\n {}\\n\".format(classification_report(y_train, clf.predict(X_train))))\n",
    "        print(\"Confusion Matrix: \\n {}\\n\".format(confusion_matrix(y_train, clf.predict(X_train))))\n",
    "\n",
    "        res = cross_val_score(clf, X_train, y_train, cv=5, scoring='roc_auc', n_jobs=3)\n",
    "        print(\"Average ROC AUC score: \\t {0:.4f}\".format(np.mean(res)))\n",
    "        print(\"ROC AUC score std: \\t\\t {0:.4f}\".format(np.std(res)))\n",
    "        return res\n",
    "        \n",
    "    elif train==False:\n",
    "        print(\"Test Result:\\n\")        \n",
    "        print(\"Classification Report: \\n {}\\n\".format(classification_report(y_test, clf.predict(X_test))))\n",
    "        print(\"Confusion Matrix: \\n {}\\n\".format(confusion_matrix(y_test, clf.predict(X_test))))"
   ]
  },
  {
   "cell_type": "code",
   "execution_count": 70,
   "metadata": {},
   "outputs": [
    {
     "name": "stdout",
     "output_type": "stream",
     "text": [
      "Test Result:\n",
      "\n",
      "Classification Report: \n",
      "               precision    recall  f1-score   support\n",
      "\n",
      "           0       0.99      1.00      0.99    592537\n",
      "           1       1.00      0.92      0.96     85664\n",
      "\n",
      "   micro avg       0.99      0.99      0.99    678201\n",
      "   macro avg       0.99      0.96      0.98    678201\n",
      "weighted avg       0.99      0.99      0.99    678201\n",
      "\n",
      "\n",
      "Confusion Matrix: \n",
      " [[592535      2]\n",
      " [  6758  78906]]\n",
      "\n"
     ]
    }
   ],
   "source": [
    "print_score(nn, X_train, y_train, X_test, y_test, train=False)"
   ]
  },
  {
   "cell_type": "code",
   "execution_count": 74,
   "metadata": {
    "scrolled": true
   },
   "outputs": [
    {
     "name": "stdout",
     "output_type": "stream",
     "text": [
      "Train Result:\n",
      "\n",
      "Classification Report: \n",
      "               precision    recall  f1-score   support\n",
      "\n",
      "           0       0.99      1.00      0.99   1383787\n",
      "           1       1.00      0.92      0.96    198680\n",
      "\n",
      "   micro avg       0.99      0.99      0.99   1582467\n",
      "   macro avg       0.99      0.96      0.98   1582467\n",
      "weighted avg       0.99      0.99      0.99   1582467\n",
      "\n",
      "\n",
      "Confusion Matrix: \n",
      " [[1383778       9]\n",
      " [  15694  182986]]\n",
      "\n",
      "Average Accuracy: \t 0.5000\n",
      "Accuracy SD: \t\t 0.0000\n"
     ]
    }
   ],
   "source": [
    "print_score(nn, X_train, y_train, X_test, y_test, train=True)"
   ]
  },
  {
   "cell_type": "markdown",
   "metadata": {},
   "source": [
    "Cross-validation is goin to confirm if my model is overfitted or some variables are straight up indicative of target variable."
   ]
  },
  {
   "cell_type": "code",
   "execution_count": 79,
   "metadata": {},
   "outputs": [],
   "source": [
    "cvs = cross_val_score(rf, X_train_sc, y_train, cv=5, scoring='roc_auc', n_jobs=3)"
   ]
  },
  {
   "cell_type": "code",
   "execution_count": 80,
   "metadata": {},
   "outputs": [
    {
     "data": {
      "text/plain": [
       "array([0.97543421, 0.97514791, 0.97525071, 0.9738586 , 0.97558201])"
      ]
     },
     "execution_count": 80,
     "metadata": {},
     "output_type": "execute_result"
    }
   ],
   "source": [
    "cvs"
   ]
  },
  {
   "cell_type": "code",
   "execution_count": 82,
   "metadata": {},
   "outputs": [
    {
     "data": {
      "text/plain": [
       "0.9750546891254516"
      ]
     },
     "execution_count": 82,
     "metadata": {},
     "output_type": "execute_result"
    }
   ],
   "source": [
    "np.mean(cvs)"
   ]
  },
  {
   "cell_type": "markdown",
   "metadata": {},
   "source": [
    "Ok, time to go back to EDA and drop columns that should not be included in modelling."
   ]
  },
  {
   "cell_type": "markdown",
   "metadata": {},
   "source": [
    "<a name='eda2'></a>\n",
    "__4. 2nd Pass - Eda and preprocessing__"
   ]
  },
  {
   "cell_type": "code",
   "execution_count": 84,
   "metadata": {
    "collapsed": true
   },
   "outputs": [
    {
     "data": {
      "text/plain": [
       "Index(['loan_amnt', 'funded_amnt', 'funded_amnt_inv', 'term', 'int_rate',\n",
       "       'installment', 'grade', 'emp_length', 'annual_inc', 'pymnt_plan', 'dti',\n",
       "       'delinq_2yrs', 'inq_last_6mths', 'open_acc', 'pub_rec', 'revol_bal',\n",
       "       'revol_util', 'total_acc', 'initial_list_status', 'out_prncp',\n",
       "       'out_prncp_inv', 'total_pymnt', 'total_pymnt_inv', 'total_rec_prncp',\n",
       "       'total_rec_int', 'total_rec_late_fee', 'recoveries',\n",
       "       'collection_recovery_fee', 'last_pymnt_amnt',\n",
       "       'collections_12_mths_ex_med', 'policy_code', 'application_type',\n",
       "       'acc_now_delinq', 'tot_coll_amt', 'tot_cur_bal', 'total_rev_hi_lim',\n",
       "       'acc_open_past_24mths', 'avg_cur_bal', 'bc_open_to_buy', 'bc_util',\n",
       "       'chargeoff_within_12_mths', 'delinq_amnt', 'mo_sin_old_il_acct',\n",
       "       'mo_sin_old_rev_tl_op', 'mo_sin_rcnt_rev_tl_op', 'mo_sin_rcnt_tl',\n",
       "       'mort_acc', 'mths_since_recent_bc', 'mths_since_recent_inq',\n",
       "       'num_accts_ever_120_pd', 'num_actv_bc_tl', 'num_actv_rev_tl',\n",
       "       'num_bc_sats', 'num_bc_tl', 'num_il_tl', 'num_op_rev_tl',\n",
       "       'num_rev_accts', 'num_rev_tl_bal_gt_0', 'num_sats', 'num_tl_120dpd_2m',\n",
       "       'num_tl_30dpd', 'num_tl_90g_dpd_24m', 'num_tl_op_past_12m',\n",
       "       'pct_tl_nvr_dlq', 'percent_bc_gt_75', 'pub_rec_bankruptcies',\n",
       "       'tax_liens', 'tot_hi_cred_lim', 'total_bal_ex_mort', 'total_bc_limit',\n",
       "       'total_il_high_credit_limit', 'hardship_flag', 'disbursement_method',\n",
       "       'debt_settlement_flag', 'home_ownership_ANY', 'home_ownership_MORTGAGE',\n",
       "       'home_ownership_NONE', 'home_ownership_OTHER', 'home_ownership_OWN',\n",
       "       'home_ownership_RENT', 'verification_status_Not Verified',\n",
       "       'verification_status_Source Verified', 'verification_status_Verified',\n",
       "       'purpose_car', 'purpose_credit_card', 'purpose_debt_consolidation',\n",
       "       'purpose_educational', 'purpose_home_improvement', 'purpose_house',\n",
       "       'purpose_major_purchase', 'purpose_medical', 'purpose_moving',\n",
       "       'purpose_other', 'purpose_renewable_energy', 'purpose_small_business',\n",
       "       'purpose_vacation', 'purpose_wedding'],\n",
       "      dtype='object')"
      ]
     },
     "execution_count": 84,
     "metadata": {},
     "output_type": "execute_result"
    }
   ],
   "source": [
    "X_train.columns"
   ]
  },
  {
   "cell_type": "code",
   "execution_count": 89,
   "metadata": {
    "collapsed": true
   },
   "outputs": [
    {
     "name": "stdout",
     "output_type": "stream",
     "text": [
      "1 - collection_recovery_fee - 0.2630862832357372\n",
      "2 - recoveries - 0.11576416214567871\n",
      "3 - total_rec_prncp - 0.0827138984564524\n",
      "4 - last_pymnt_amnt - 0.06636000814194679\n",
      "5 - out_prncp_inv - 0.052518784999370974\n",
      "6 - total_pymnt_inv - 0.05154172732600112\n",
      "7 - out_prncp - 0.044626543647123304\n",
      "8 - debt_settlement_flag - 0.03835775175947966\n",
      "9 - total_pymnt - 0.030841064436299154\n",
      "10 - installment - 0.027063006189792106\n",
      "11 - funded_amnt_inv - 0.02600443778519737\n",
      "12 - loan_amnt - 0.02482526936916556\n",
      "13 - funded_amnt - 0.019217888987702856\n",
      "14 - total_rec_late_fee - 0.016208254456160885\n",
      "15 - int_rate - 0.015935874198273754\n",
      "16 - total_rec_int - 0.01432151324625379\n",
      "17 - term - 0.013944253859388567\n",
      "18 - tot_hi_cred_lim - 0.003258065939576087\n",
      "19 - total_bc_limit - 0.0031266685832748177\n",
      "20 - dti - 0.003119770473794875\n",
      "21 - mo_sin_old_rev_tl_op - 0.003097177202312571\n",
      "22 - bc_open_to_buy - 0.0030818104493351736\n",
      "23 - tot_cur_bal - 0.0029884365341744335\n",
      "24 - total_rev_hi_lim - 0.0028727841997806757\n",
      "25 - avg_cur_bal - 0.0027884650513755145\n",
      "26 - annual_inc - 0.002690807983209259\n",
      "27 - total_bal_ex_mort - 0.0026895625032805587\n",
      "28 - revol_bal - 0.0026734790742252226\n",
      "29 - revol_util - 0.0026562950824911094\n",
      "30 - bc_util - 0.002633935693726045\n",
      "31 - grade - 0.002480571634999923\n",
      "32 - mo_sin_old_il_acct - 0.0024424146200618673\n",
      "33 - verification_status_Not Verified - 0.002356817906563638\n",
      "34 - total_il_high_credit_limit - 0.002225692674600831\n",
      "35 - num_sats - 0.0021820464308124556\n",
      "36 - mths_since_recent_bc - 0.0021593646970451776\n",
      "37 - total_acc - 0.0020678702143443564\n",
      "38 - num_rev_accts - 0.001970202288115347\n",
      "39 - acc_open_past_24mths - 0.0019647651488662625\n",
      "40 - num_actv_rev_tl - 0.001935565415992788\n",
      "41 - mo_sin_rcnt_rev_tl_op - 0.0018922556553103178\n",
      "42 - num_il_tl - 0.0018768763825914158\n",
      "43 - num_bc_tl - 0.0018580353094728795\n",
      "44 - mo_sin_rcnt_tl - 0.001789111952738312\n",
      "45 - num_op_rev_tl - 0.0017523603963096397\n",
      "46 - mths_since_recent_inq - 0.0016564391794056603\n",
      "47 - percent_bc_gt_75 - 0.001630599671992842\n",
      "48 - initial_list_status - 0.0015731281546570268\n",
      "49 - open_acc - 0.001554928231397817\n",
      "50 - pct_tl_nvr_dlq - 0.001545038197709696\n",
      "51 - num_bc_sats - 0.0014848135687551185\n",
      "52 - num_rev_tl_bal_gt_0 - 0.0014574472809895215\n",
      "53 - num_tl_op_past_12m - 0.0013064983493913018\n",
      "54 - num_actv_bc_tl - 0.0012752152690963057\n",
      "55 - emp_length - 0.0011897323252735008\n",
      "56 - mort_acc - 0.0010891691168744926\n",
      "57 - pymnt_plan - 0.001079533479900137\n",
      "58 - inq_last_6mths - 0.0010409716091710818\n",
      "59 - hardship_flag - 0.000989692555024579\n",
      "60 - tot_coll_amt - 0.0009485308173753561\n",
      "61 - purpose_debt_consolidation - 0.0009138050941385869\n",
      "62 - num_accts_ever_120_pd - 0.0006992400151543681\n",
      "63 - delinq_2yrs - 0.0005694225991670275\n",
      "64 - pub_rec - 0.0005299660122306805\n",
      "65 - application_type - 0.0004946337653003386\n",
      "66 - verification_status_Verified - 0.0004899495421744681\n",
      "67 - pub_rec_bankruptcies - 0.0004029623222587278\n",
      "68 - verification_status_Source Verified - 0.0003225264776582282\n",
      "69 - num_tl_90g_dpd_24m - 0.00030968697394189907\n",
      "70 - home_ownership_OWN - 0.00030684382523454536\n",
      "71 - home_ownership_MORTGAGE - 0.00030459966223244565\n",
      "72 - tax_liens - 0.0002994890433578229\n",
      "73 - home_ownership_RENT - 0.0002928092922306743\n",
      "74 - purpose_credit_card - 0.00028914684427212644\n",
      "75 - purpose_other - 0.0002533397225177744\n",
      "76 - purpose_home_improvement - 0.0002305706672873973\n",
      "77 - disbursement_method - 0.00020683509320874464\n",
      "78 - collections_12_mths_ex_med - 0.0001870901656659455\n",
      "79 - purpose_major_purchase - 0.00015469728296017423\n",
      "80 - purpose_small_business - 0.00013445909090968003\n",
      "81 - purpose_medical - 0.00012292390118642387\n",
      "82 - chargeoff_within_12_mths - 0.00011190218648242278\n",
      "83 - purpose_car - 0.00010953180134934083\n",
      "84 - purpose_house - 9.384392564785367e-05\n",
      "85 - purpose_vacation - 8.782134048311197e-05\n",
      "86 - purpose_moving - 8.644354024884819e-05\n",
      "87 - delinq_amnt - 7.94355364968732e-05\n",
      "88 - acc_now_delinq - 4.381252986677546e-05\n",
      "89 - num_tl_30dpd - 3.545029003708105e-05\n",
      "90 - purpose_renewable_energy - 2.3157809778604606e-05\n",
      "91 - home_ownership_ANY - 1.587563705831415e-05\n",
      "92 - num_tl_120dpd_2m - 1.0980285400585707e-05\n",
      "93 - purpose_wedding - 2.3498868005542663e-06\n",
      "94 - purpose_educational - 7.282918413469746e-07\n",
      "95 - home_ownership_OTHER - 0.0\n",
      "96 - policy_code - 0.0\n",
      "97 - home_ownership_NONE - 0.0\n"
     ]
    }
   ],
   "source": [
    "feature_labels = X_train.columns\n",
    "importances = rf.feature_importances_\n",
    "indices = np.argsort(importances)[::-1]\n",
    "\n",
    "\n",
    "for f in range(len(feature_labels)):\n",
    "    print('{} - {} - {}'.format(f + 1, feature_labels[indices[f]], importances[indices[f]]))\n",
    "    "
   ]
  },
  {
   "cell_type": "code",
   "execution_count": 94,
   "metadata": {},
   "outputs": [
    {
     "data": {
      "text/plain": [
       "<matplotlib.axes._subplots.AxesSubplot at 0x7feebb42ee80>"
      ]
     },
     "execution_count": 94,
     "metadata": {},
     "output_type": "execute_result"
    },
    {
     "data": {
      "image/png": "[encoded data removed]",
      "text/plain": [
       "<Figure size 432x288 with 1 Axes>"
      ]
     },
     "metadata": {
      "needs_background": "light"
     },
     "output_type": "display_data"
    }
   ],
   "source": [
    "sns.barplot(y='collection_recovery_fee', x='target', data=df)\n",
    "plt.show()"
   ]
  },
  {
   "cell_type": "markdown",
   "metadata": {},
   "source": [
    "Well, seems like this is direct indicator if someone defaulted or not - recovery fee is charged for not paying off loan. I should drop any variables regarding to recoveries."
   ]
  },
  {
   "cell_type": "code",
   "execution_count": 29,
   "metadata": {},
   "outputs": [],
   "source": [
    "recoveries_vars = ['recoveries', 'collection_recovery_fee', 'debt_settlement_flag', 'total_rec_late_fee']"
   ]
  },
  {
   "cell_type": "code",
   "execution_count": 28,
   "metadata": {},
   "outputs": [
    {
     "data": {
      "text/plain": [
       "array([1])"
      ]
     },
     "execution_count": 28,
     "metadata": {},
     "output_type": "execute_result"
    }
   ],
   "source": [
    "df.policy_code.unique()"
   ]
  },
  {
   "cell_type": "code",
   "execution_count": 30,
   "metadata": {},
   "outputs": [],
   "source": [
    "df.drop('policy_code', axis=1, inplace=True)"
   ]
  },
  {
   "cell_type": "markdown",
   "metadata": {},
   "source": [
    "Last payment amount - is it 0 if target = 1?"
   ]
  },
  {
   "cell_type": "code",
   "execution_count": 30,
   "metadata": {},
   "outputs": [
    {
     "data": {
      "image/png": "[encoded data removed]",
      "text/plain": [
       "<Figure size 432x288 with 1 Axes>"
      ]
     },
     "metadata": {
      "needs_background": "light"
     },
     "output_type": "display_data"
    }
   ],
   "source": [
    "sns.barplot(y='last_pymnt_amnt', x='target', data=df)\n",
    "plt.show()"
   ]
  },
  {
   "cell_type": "code",
   "execution_count": 44,
   "metadata": {
    "scrolled": true
   },
   "outputs": [
    {
     "data": {
      "image/png": "[encoded data removed]",
      "text/plain": [
       "<Figure size 432x288 with 1 Axes>"
      ]
     },
     "metadata": {
      "needs_background": "light"
     },
     "output_type": "display_data"
    }
   ],
   "source": [
    "sns.distplot(df[['last_pymnt_amnt', 'target']][df['target']==1]['last_pymnt_amnt'])\n",
    "plt.show()"
   ]
  },
  {
   "cell_type": "code",
   "execution_count": 37,
   "metadata": {},
   "outputs": [],
   "source": [
    "last_pymnt_one = df.query('target==1')['last_pymnt_amnt']"
   ]
  },
  {
   "cell_type": "code",
   "execution_count": 40,
   "metadata": {},
   "outputs": [
    {
     "data": {
      "text/plain": [
       "1    281915\n",
       "0      2429\n",
       "Name: last_pymnt_amnt, dtype: int64"
      ]
     },
     "execution_count": 40,
     "metadata": {},
     "output_type": "execute_result"
    }
   ],
   "source": [
    "last_pymnt_one.apply(lambda x: 1 if x>0.00 else 0).value_counts()"
   ]
  },
  {
   "cell_type": "code",
   "execution_count": 47,
   "metadata": {},
   "outputs": [
    {
     "data": {
      "text/plain": [
       "1    281801\n",
       "0      2543\n",
       "Name: last_pymnt_amnt, dtype: int64"
      ]
     },
     "execution_count": 47,
     "metadata": {},
     "output_type": "execute_result"
    }
   ],
   "source": [
    "last_pymnt_one.apply(np.log).apply(lambda x: 1 if x>0 else 0).value_counts()"
   ]
  },
  {
   "cell_type": "code",
   "execution_count": 2,
   "metadata": {},
   "outputs": [],
   "source": [
    "from stats import skewness, kurtosis"
   ]
  },
  {
   "cell_type": "code",
   "execution_count": 51,
   "metadata": {},
   "outputs": [
    {
     "data": {
      "text/plain": [
       "(24.761747756219542, 994.2753103954642)"
      ]
     },
     "execution_count": 51,
     "metadata": {},
     "output_type": "execute_result"
    }
   ],
   "source": [
    "skewness(last_pymnt_one), kurtosis(last_pymnt_one)"
   ]
  },
  {
   "cell_type": "code",
   "execution_count": 52,
   "metadata": {},
   "outputs": [],
   "source": [
    "last_pymnt_zero = df.query('target==0')['last_pymnt_amnt']"
   ]
  },
  {
   "cell_type": "code",
   "execution_count": 53,
   "metadata": {},
   "outputs": [
    {
     "data": {
      "text/plain": [
       "(2.381196700572967, 5.995232784570369)"
      ]
     },
     "execution_count": 53,
     "metadata": {},
     "output_type": "execute_result"
    }
   ],
   "source": [
    "skewness(last_pymnt_zero), kurtosis(last_pymnt_zero)"
   ]
  },
  {
   "cell_type": "markdown",
   "metadata": {},
   "source": [
    "Incredibly skewed for 1 as well as still skewed for 0. So last payment is rarely a zero but is it lower than installment?"
   ]
  },
  {
   "cell_type": "code",
   "execution_count": 30,
   "metadata": {},
   "outputs": [
    {
     "data": {
      "image/png": "[encoded data removed]",
      "text/plain": [
       "<Figure size 360x360 with 6 Axes>"
      ]
     },
     "metadata": {
      "needs_background": "light"
     },
     "output_type": "display_data"
    }
   ],
   "source": [
    "sns.pairplot(df[['installment', 'last_pymnt_amnt']])\n",
    "plt.show()"
   ]
  },
  {
   "cell_type": "code",
   "execution_count": 35,
   "metadata": {},
   "outputs": [],
   "source": [
    "df['last_pymnt_amnt_log'] = df['last_pymnt_amnt'].apply(np.log)"
   ]
  },
  {
   "cell_type": "code",
   "execution_count": 36,
   "metadata": {},
   "outputs": [],
   "source": [
    "df.drop('last_pymnt_amnt', axis=1, inplace=True)"
   ]
  },
  {
   "cell_type": "code",
   "execution_count": 31,
   "metadata": {},
   "outputs": [],
   "source": [
    "df.drop(recoveries_vars, axis=1, inplace=True)"
   ]
  },
  {
   "cell_type": "code",
   "execution_count": 32,
   "metadata": {
    "collapsed": true
   },
   "outputs": [
    {
     "data": {
      "text/plain": [
       "Index(['loan_amnt', 'funded_amnt', 'funded_amnt_inv', 'term', 'int_rate',\n",
       "       'installment', 'grade', 'emp_length', 'annual_inc', 'pymnt_plan', 'dti',\n",
       "       'delinq_2yrs', 'inq_last_6mths', 'open_acc', 'pub_rec', 'revol_bal',\n",
       "       'revol_util', 'total_acc', 'initial_list_status', 'out_prncp',\n",
       "       'out_prncp_inv', 'total_pymnt', 'total_pymnt_inv', 'total_rec_prncp',\n",
       "       'total_rec_int', 'last_pymnt_amnt', 'collections_12_mths_ex_med',\n",
       "       'application_type', 'acc_now_delinq', 'tot_coll_amt', 'tot_cur_bal',\n",
       "       'total_rev_hi_lim', 'acc_open_past_24mths', 'avg_cur_bal',\n",
       "       'bc_open_to_buy', 'bc_util', 'chargeoff_within_12_mths', 'delinq_amnt',\n",
       "       'mo_sin_old_il_acct', 'mo_sin_old_rev_tl_op', 'mo_sin_rcnt_rev_tl_op',\n",
       "       'mo_sin_rcnt_tl', 'mort_acc', 'mths_since_recent_bc',\n",
       "       'mths_since_recent_inq', 'num_accts_ever_120_pd', 'num_actv_bc_tl',\n",
       "       'num_actv_rev_tl', 'num_bc_sats', 'num_bc_tl', 'num_il_tl',\n",
       "       'num_op_rev_tl', 'num_rev_accts', 'num_rev_tl_bal_gt_0', 'num_sats',\n",
       "       'num_tl_120dpd_2m', 'num_tl_30dpd', 'num_tl_90g_dpd_24m',\n",
       "       'num_tl_op_past_12m', 'pct_tl_nvr_dlq', 'percent_bc_gt_75',\n",
       "       'pub_rec_bankruptcies', 'tax_liens', 'tot_hi_cred_lim',\n",
       "       'total_bal_ex_mort', 'total_bc_limit', 'total_il_high_credit_limit',\n",
       "       'hardship_flag', 'disbursement_method', 'target', 'home_ownership_ANY',\n",
       "       'home_ownership_MORTGAGE', 'home_ownership_NONE',\n",
       "       'home_ownership_OTHER', 'home_ownership_OWN', 'home_ownership_RENT',\n",
       "       'verification_status_Not Verified',\n",
       "       'verification_status_Source Verified', 'verification_status_Verified',\n",
       "       'purpose_car', 'purpose_credit_card', 'purpose_debt_consolidation',\n",
       "       'purpose_educational', 'purpose_home_improvement', 'purpose_house',\n",
       "       'purpose_major_purchase', 'purpose_medical', 'purpose_moving',\n",
       "       'purpose_other', 'purpose_renewable_energy', 'purpose_small_business',\n",
       "       'purpose_vacation', 'purpose_wedding'],\n",
       "      dtype='object')"
      ]
     },
     "execution_count": 32,
     "metadata": {},
     "output_type": "execute_result"
    }
   ],
   "source": [
    "df.columns"
   ]
  },
  {
   "cell_type": "code",
   "execution_count": 41,
   "metadata": {},
   "outputs": [
    {
     "data": {
      "text/plain": [
       "<seaborn.axisgrid.PairGrid at 0x7f1bf96a4710>"
      ]
     },
     "execution_count": 41,
     "metadata": {},
     "output_type": "execute_result"
    },
    {
     "data": {
      "image/png": "[encoded data removed]",
      "text/plain": [
       "<Figure size 402.375x360 with 6 Axes>"
      ]
     },
     "metadata": {
      "needs_background": "light"
     },
     "output_type": "display_data"
    }
   ],
   "source": [
    "sns.pairplot(df, vars=['loan_amnt', 'annual_inc'], hue='target')"
   ]
  },
  {
   "cell_type": "markdown",
   "metadata": {},
   "source": [
    "Two outliers, when it comes to annual income."
   ]
  },
  {
   "cell_type": "code",
   "execution_count": 42,
   "metadata": {},
   "outputs": [],
   "source": [
    "df['annual_inc_log'] = df.annual_inc.apply(np.log)"
   ]
  },
  {
   "cell_type": "code",
   "execution_count": 43,
   "metadata": {},
   "outputs": [
    {
     "data": {
      "image/png": "[encoded data removed]",
      "text/plain": [
       "<Figure size 402.375x360 with 6 Axes>"
      ]
     },
     "metadata": {
      "needs_background": "light"
     },
     "output_type": "display_data"
    }
   ],
   "source": [
    "sns.pairplot(df, vars=['loan_amnt', 'annual_inc_log'], hue='target')\n",
    "plt.show()"
   ]
  },
  {
   "cell_type": "code",
   "execution_count": 33,
   "metadata": {},
   "outputs": [],
   "source": [
    "df['loan_to_income_ratio'] = np.divide(df.annual_inc, df.loan_amnt)"
   ]
  },
  {
   "cell_type": "code",
   "execution_count": 60,
   "metadata": {},
   "outputs": [],
   "source": [
    "df.drop('last_pymnt_amnt_log', axis=1, inplace=True)"
   ]
  },
  {
   "cell_type": "code",
   "execution_count": 63,
   "metadata": {},
   "outputs": [],
   "source": [
    "df.drop('annual_inc_log', axis=1, inplace=True)"
   ]
  },
  {
   "cell_type": "markdown",
   "metadata": {},
   "source": [
    "<a name='model2'></a>\n",
    "__5. 2nd Pass - modelling__"
   ]
  },
  {
   "cell_type": "code",
   "execution_count": 34,
   "metadata": {},
   "outputs": [],
   "source": [
    "y = df.target\n",
    "X = df.drop('target', axis=1)"
   ]
  },
  {
   "cell_type": "code",
   "execution_count": 35,
   "metadata": {},
   "outputs": [],
   "source": [
    "X_train, X_test, y_train, y_test = train_test_split(X, y, random_state=42, test_size=0.3)"
   ]
  },
  {
   "cell_type": "code",
   "execution_count": 36,
   "metadata": {},
   "outputs": [
    {
     "data": {
      "text/plain": [
       "((1582467, 93), (678201, 93), (1582467,), (678201,))"
      ]
     },
     "execution_count": 36,
     "metadata": {},
     "output_type": "execute_result"
    }
   ],
   "source": [
    "X_train.shape, X_test.shape, y_train.shape, y_test.shape"
   ]
  },
  {
   "cell_type": "code",
   "execution_count": 37,
   "metadata": {},
   "outputs": [],
   "source": [
    "pipe = Pipeline([('rb_sc', RobustScaler())])\n",
    "X_train_rs = pipe.fit_transform(X_train)"
   ]
  },
  {
   "cell_type": "code",
   "execution_count": 38,
   "metadata": {},
   "outputs": [],
   "source": [
    "X_test_rs = pipe.transform(X_test)"
   ]
  },
  {
   "cell_type": "code",
   "execution_count": 72,
   "metadata": {},
   "outputs": [
    {
     "data": {
      "text/plain": [
       "RandomForestClassifier(bootstrap=True, class_weight=None, criterion='gini',\n",
       "            max_depth=None, max_features='auto', max_leaf_nodes=None,\n",
       "            min_impurity_decrease=0.0, min_impurity_split=None,\n",
       "            min_samples_leaf=1, min_samples_split=2,\n",
       "            min_weight_fraction_leaf=0.0, n_estimators=10, n_jobs=None,\n",
       "            oob_score=False, random_state=42, verbose=0, warm_start=False)"
      ]
     },
     "execution_count": 72,
     "metadata": {},
     "output_type": "execute_result"
    }
   ],
   "source": [
    "rf = RandomForestClassifier(n_estimators=10, random_state=42)\n",
    "rf.fit(X_train_rs, y_train)"
   ]
  },
  {
   "cell_type": "code",
   "execution_count": 103,
   "metadata": {},
   "outputs": [
    {
     "data": {
      "text/plain": [
       "0.9898070083701931"
      ]
     },
     "execution_count": 103,
     "metadata": {},
     "output_type": "execute_result"
    }
   ],
   "source": [
    "roc_auc_score(y_train, rf.predict(X_train_rs))"
   ]
  },
  {
   "cell_type": "code",
   "execution_count": 73,
   "metadata": {
    "scrolled": true
   },
   "outputs": [
    {
     "name": "stdout",
     "output_type": "stream",
     "text": [
      "ROC AUC score 0.9499 \n",
      "              precision    recall  f1-score   support\n",
      "\n",
      "           0       0.99      1.00      0.99    592537\n",
      "           1       1.00      0.90      0.95     85664\n",
      "\n",
      "   micro avg       0.99      0.99      0.99    678201\n",
      "   macro avg       0.99      0.95      0.97    678201\n",
      "weighted avg       0.99      0.99      0.99    678201\n",
      "\n"
     ]
    }
   ],
   "source": [
    "pred = rf.predict(X_test_rs)\n",
    "print('ROC AUC score {:.4f} '.format(roc_auc_score(y_test, pred)))\n",
    "print(classification_report(y_test, pred))"
   ]
  },
  {
   "cell_type": "code",
   "execution_count": 87,
   "metadata": {},
   "outputs": [],
   "source": [
    "rf1_predict_proba = rf.predict_proba(X_test_rs)"
   ]
  },
  {
   "cell_type": "code",
   "execution_count": 90,
   "metadata": {},
   "outputs": [],
   "source": [
    "rf1_fpr, rf1_tpr, _ = roc_curve(y_test, rf1_predict_proba[:, 1], drop_intermediate=True)"
   ]
  },
  {
   "cell_type": "code",
   "execution_count": 39,
   "metadata": {},
   "outputs": [],
   "source": [
    "import time"
   ]
  },
  {
   "cell_type": "code",
   "execution_count": 87,
   "metadata": {
    "collapsed": true
   },
   "outputs": [
    {
     "name": "stdout",
     "output_type": "stream",
     "text": [
      "Train Result:\n",
      "\n",
      "Classification Report: \n",
      "               precision    recall  f1-score   support\n",
      "\n",
      "           0       1.00      1.00      1.00   1383787\n",
      "           1       1.00      0.98      0.99    198680\n",
      "\n",
      "   micro avg       1.00      1.00      1.00   1582467\n",
      "   macro avg       1.00      0.99      0.99   1582467\n",
      "weighted avg       1.00      1.00      1.00   1582467\n",
      "\n",
      "\n",
      "Confusion Matrix: \n",
      " [[1383787       0]\n",
      " [   4315  194365]]\n",
      "\n",
      "Average ROC AUC score: \t 0.9674\n",
      "ROC AUC score std: \t\t 0.0009\n"
     ]
    },
    {
     "ename": "TypeError",
     "evalue": "'module' object is not callable",
     "output_type": "error",
     "traceback": [
      "\u001b[0;31m---------------------------------------------------------------------------\u001b[0m",
      "\u001b[0;31mTypeError\u001b[0m                                 Traceback (most recent call last)",
      "\u001b[0;32m<ipython-input-87-152ca8e845b2>\u001b[0m in \u001b[0;36m<module>\u001b[0;34m\u001b[0m\n\u001b[1;32m      2\u001b[0m \u001b[0mresult\u001b[0m \u001b[0;34m=\u001b[0m \u001b[0mprint_score\u001b[0m\u001b[0;34m(\u001b[0m\u001b[0mrf\u001b[0m\u001b[0;34m,\u001b[0m \u001b[0mX_train_rs\u001b[0m\u001b[0;34m,\u001b[0m \u001b[0my_train\u001b[0m\u001b[0;34m,\u001b[0m \u001b[0mX_test_rs\u001b[0m\u001b[0;34m,\u001b[0m \u001b[0my_test\u001b[0m\u001b[0;34m,\u001b[0m \u001b[0mtrain\u001b[0m\u001b[0;34m=\u001b[0m\u001b[0;32mTrue\u001b[0m\u001b[0;34m)\u001b[0m\u001b[0;34m\u001b[0m\u001b[0;34m\u001b[0m\u001b[0m\n\u001b[1;32m      3\u001b[0m \u001b[0mtoc\u001b[0m \u001b[0;34m=\u001b[0m \u001b[0mtime\u001b[0m\u001b[0;34m.\u001b[0m\u001b[0mtime\u001b[0m\u001b[0;34m(\u001b[0m\u001b[0;34m)\u001b[0m\u001b[0;34m\u001b[0m\u001b[0;34m\u001b[0m\u001b[0m\n\u001b[0;32m----> 4\u001b[0;31m \u001b[0mprint\u001b[0m\u001b[0;34m(\u001b[0m\u001b[0;34m'{}'\u001b[0m\u001b[0;34m.\u001b[0m\u001b[0mformat\u001b[0m\u001b[0;34m(\u001b[0m\u001b[0mtime\u001b[0m\u001b[0;34m.\u001b[0m\u001b[0mstrftime\u001b[0m\u001b[0;34m(\u001b[0m\u001b[0;34m\"%H:%M:%S\"\u001b[0m \u001b[0;34m,\u001b[0m \u001b[0;34m(\u001b[0m\u001b[0mtime\u001b[0m\u001b[0;34m(\u001b[0m\u001b[0;34m)\u001b[0m \u001b[0;34m-\u001b[0m \u001b[0mtic\u001b[0m\u001b[0;34m)\u001b[0m\u001b[0;34m/\u001b[0m\u001b[0;36m60\u001b[0m\u001b[0;34m)\u001b[0m\u001b[0;34m)\u001b[0m\u001b[0;34m)\u001b[0m\u001b[0;34m\u001b[0m\u001b[0;34m\u001b[0m\u001b[0m\n\u001b[0m",
      "\u001b[0;31mTypeError\u001b[0m: 'module' object is not callable"
     ]
    }
   ],
   "source": [
    "tic = time.time()\n",
    "result = print_score(rf, X_train_rs, y_train, X_test_rs, y_test, train=True)\n",
    "toc = time.time()\n",
    "print('{}'.format(time.strftime(\"%H:%M:%S\" , time.gmtime(toc - tic) )))"
   ]
  },
  {
   "cell_type": "code",
   "execution_count": 96,
   "metadata": {},
   "outputs": [
    {
     "name": "stdout",
     "output_type": "stream",
     "text": [
      "Test Result:\n",
      "\n",
      "Classification Report: \n",
      "               precision    recall  f1-score   support\n",
      "\n",
      "           0       0.98      1.00      0.99    592537\n",
      "           1       1.00      0.89      0.94     85664\n",
      "\n",
      "   micro avg       0.99      0.99      0.99    678201\n",
      "   macro avg       0.99      0.95      0.97    678201\n",
      "weighted avg       0.99      0.99      0.99    678201\n",
      "\n",
      "\n",
      "Confusion Matrix: \n",
      " [[592510     27]\n",
      " [  9165  76499]]\n",
      "\n",
      "00:00:05\n"
     ]
    }
   ],
   "source": [
    "tic = time.time()\n",
    "result = print_score(rf, X_train_rs, y_train, X_test_rs, y_test, train=False)\n",
    "toc = time.time()\n",
    "print('{}'.format(time.strftime(\"%H:%M:%S\" , time.gmtime(toc - tic) )))"
   ]
  },
  {
   "cell_type": "markdown",
   "metadata": {},
   "source": [
    "Ok, so it's not so bad but 0.89 recall compared to 0.98 is quite a drop - case of overfitting."
   ]
  },
  {
   "cell_type": "code",
   "execution_count": 101,
   "metadata": {
    "collapsed": true
   },
   "outputs": [
    {
     "name": "stdout",
     "output_type": "stream",
     "text": [
      "1 - total_rec_prncp - 0.21214452308021903\n",
      "2 - out_prncp_inv - 0.10418647041865667\n",
      "3 - out_prncp - 0.1023350181145195\n",
      "4 - funded_amnt - 0.10210679199288142\n",
      "5 - total_pymnt_inv - 0.0836580486199311\n",
      "6 - total_pymnt - 0.06846981176347607\n",
      "7 - loan_amnt - 0.046497628102473834\n",
      "8 - funded_amnt_inv - 0.03549714228328323\n",
      "9 - total_rec_int - 0.03156071491499139\n",
      "10 - installment - 0.02552180728822534\n",
      "11 - loan_to_income_ratio - 0.020034355483719186\n",
      "12 - int_rate - 0.013137283932071375\n",
      "13 - grade - 0.012269487459287319\n",
      "14 - term - 0.00572408059993798\n",
      "15 - annual_inc - 0.005223844517838035\n",
      "16 - dti - 0.0049027143344001125\n",
      "17 - bc_open_to_buy - 0.004664765750757198\n",
      "18 - avg_cur_bal - 0.004358770710691314\n",
      "19 - total_rev_hi_lim - 0.004323275763404475\n",
      "20 - tot_hi_cred_lim - 0.004305673386819057\n",
      "21 - total_bc_limit - 0.004221530726499235\n",
      "22 - mo_sin_old_rev_tl_op - 0.0041871562705145925\n",
      "23 - revol_bal - 0.004126871390342765\n",
      "24 - total_bal_ex_mort - 0.004122199965819009\n",
      "25 - revol_util - 0.004109377128144807\n",
      "26 - tot_cur_bal - 0.0040319896706015185\n",
      "27 - bc_util - 0.003973207220199991\n",
      "28 - mo_sin_old_il_acct - 0.003472000211838436\n",
      "29 - num_actv_rev_tl - 0.003338064614945801\n",
      "30 - mths_since_recent_bc - 0.0032064850873714337\n",
      "31 - total_il_high_credit_limit - 0.003100321183131683\n",
      "32 - total_acc - 0.003026812686294912\n",
      "33 - acc_open_past_24mths - 0.0029320379429972295\n",
      "34 - num_rev_accts - 0.002894421733686008\n",
      "35 - mo_sin_rcnt_tl - 0.0028330389098934023\n",
      "36 - mo_sin_rcnt_rev_tl_op - 0.002785186861315528\n",
      "37 - num_sats - 0.0027517852844402267\n",
      "38 - num_bc_tl - 0.002641607929269307\n",
      "39 - num_il_tl - 0.0026281300731715996\n",
      "40 - num_rev_tl_bal_gt_0 - 0.002580929608842235\n",
      "41 - initial_list_status - 0.0025161115780883638\n",
      "42 - mths_since_recent_inq - 0.0023131490663994667\n",
      "43 - open_acc - 0.002275608951800418\n",
      "44 - pct_tl_nvr_dlq - 0.002155357577787397\n",
      "45 - num_op_rev_tl - 0.0021426521159669896\n",
      "46 - percent_bc_gt_75 - 0.002102590139005462\n",
      "47 - num_bc_sats - 0.002036009923383638\n",
      "48 - mort_acc - 0.0020104934862880007\n",
      "49 - num_tl_op_past_12m - 0.0019490678608874684\n",
      "50 - num_actv_bc_tl - 0.0017890108697964432\n",
      "51 - emp_length - 0.0017355278097066801\n",
      "52 - disbursement_method - 0.0014790386718313117\n",
      "53 - hardship_flag - 0.0014579087790639626\n",
      "54 - inq_last_6mths - 0.0014092293569847633\n",
      "55 - tot_coll_amt - 0.001278138727363045\n",
      "56 - num_accts_ever_120_pd - 0.0010209189140482722\n",
      "57 - verification_status_Not Verified - 0.001015247345549707\n",
      "58 - pymnt_plan - 0.0009678404621785083\n",
      "59 - delinq_2yrs - 0.0009174975600919136\n",
      "60 - purpose_debt_consolidation - 0.0008078870938313711\n",
      "61 - verification_status_Verified - 0.0007588583313721147\n",
      "62 - pub_rec - 0.0007099135764950793\n",
      "63 - application_type - 0.0006778874842003202\n",
      "64 - purpose_credit_card - 0.0006323568064857864\n",
      "65 - home_ownership_RENT - 0.000575186373634358\n",
      "66 - verification_status_Source Verified - 0.0005440256408120296\n",
      "67 - pub_rec_bankruptcies - 0.0005324761611198318\n",
      "68 - home_ownership_MORTGAGE - 0.0004980919135741676\n",
      "69 - num_tl_90g_dpd_24m - 0.00045524284388195717\n",
      "70 - tax_liens - 0.0003943783740240022\n",
      "71 - home_ownership_OWN - 0.00037241481370570216\n",
      "72 - purpose_other - 0.00034509825534679564\n",
      "73 - purpose_home_improvement - 0.0002841614959722377\n",
      "74 - collections_12_mths_ex_med - 0.0002633414351888194\n",
      "75 - purpose_major_purchase - 0.00022450723925121962\n",
      "76 - purpose_small_business - 0.0002024756186461685\n",
      "77 - purpose_medical - 0.00017739745620001015\n",
      "78 - chargeoff_within_12_mths - 0.00016984821643932355\n",
      "79 - purpose_car - 0.0001581297455404803\n",
      "80 - purpose_house - 0.00014564601333971747\n",
      "81 - purpose_vacation - 0.000125280003060581\n",
      "82 - delinq_amnt - 0.00012370141456204887\n",
      "83 - purpose_moving - 0.00011573508980965666\n",
      "84 - acc_now_delinq - 8.097621690302354e-05\n",
      "85 - num_tl_30dpd - 6.519477210052457e-05\n",
      "86 - purpose_renewable_energy - 3.231297360814478e-05\n",
      "87 - purpose_wedding - 2.0819628161910205e-05\n",
      "88 - num_tl_120dpd_2m - 2.0094153491754132e-05\n",
      "89 - home_ownership_ANY - 1.2990080468320376e-05\n",
      "90 - purpose_educational - 8.44567051109448e-06\n",
      "91 - home_ownership_OTHER - 7.300923010951622e-06\n",
      "92 - home_ownership_NONE - 1.0619721252741926e-06\n"
     ]
    }
   ],
   "source": [
    "feature_labels = X_train.columns\n",
    "importances = rf.feature_importances_\n",
    "indices = np.argsort(importances)[::-1]\n",
    "\n",
    "\n",
    "for f in range(len(feature_labels)):\n",
    "    print('{} - {} - {}'.format(f + 1, feature_labels[indices[f]], importances[indices[f]]))\n",
    "    "
   ]
  },
  {
   "cell_type": "markdown",
   "metadata": {},
   "source": [
    "Seems like variables are ok. I will fit MLP Classifier to compare and decrease number of features for Random Forest to stop overfitting."
   ]
  },
  {
   "cell_type": "code",
   "execution_count": 40,
   "metadata": {
    "scrolled": true
   },
   "outputs": [],
   "source": [
    "from sklearn.neural_network import MLPClassifier"
   ]
  },
  {
   "cell_type": "code",
   "execution_count": 92,
   "metadata": {},
   "outputs": [],
   "source": [
    "# neural network classifier with few layers\n",
    "nn = MLPClassifier(hidden_layer_sizes=(5, 5, 5)\\\n",
    "                   , activation='relu', alpha=0.0001\\\n",
    "                   , learning_rate='adaptive', random_state=42)\n"
   ]
  },
  {
   "cell_type": "code",
   "execution_count": 93,
   "metadata": {
    "collapsed": true
   },
   "outputs": [
    {
     "name": "stdout",
     "output_type": "stream",
     "text": [
      "0.9935256124653258\n"
     ]
    }
   ],
   "source": [
    "nn.fit(X_train_rs, y_train)\n",
    "nn_predict = nn.predict(X_test_rs)\n",
    "print(roc_auc_score(nn_predict, y_test))"
   ]
  },
  {
   "cell_type": "code",
   "execution_count": 107,
   "metadata": {},
   "outputs": [
    {
     "name": "stdout",
     "output_type": "stream",
     "text": [
      "0.95641580777984\n"
     ]
    }
   ],
   "source": [
    "print(roc_auc_score(y_train, nn.predict(X_train_rs)))"
   ]
  },
  {
   "cell_type": "code",
   "execution_count": 104,
   "metadata": {},
   "outputs": [
    {
     "name": "stdout",
     "output_type": "stream",
     "text": [
      "0.9562347977198455\n"
     ]
    }
   ],
   "source": [
    "print(roc_auc_score(y_test, nn_predict))"
   ]
  },
  {
   "cell_type": "code",
   "execution_count": 95,
   "metadata": {},
   "outputs": [
    {
     "name": "stdout",
     "output_type": "stream",
     "text": [
      "              precision    recall  f1-score   support\n",
      "\n",
      "           0       0.99      1.00      0.99    592537\n",
      "           1       1.00      0.91      0.95     85664\n",
      "\n",
      "   micro avg       0.99      0.99      0.99    678201\n",
      "   macro avg       0.99      0.96      0.97    678201\n",
      "weighted avg       0.99      0.99      0.99    678201\n",
      "\n"
     ]
    }
   ],
   "source": [
    "print(classification_report(y_test, nn_predict))"
   ]
  },
  {
   "cell_type": "code",
   "execution_count": 98,
   "metadata": {},
   "outputs": [],
   "source": [
    "nn_predict_proba = nn.predict_proba(X_test_rs)\n",
    "nn_fpr, nn_tpr, _ = roc_curve(y_test, nn_predict_proba[:, 1])"
   ]
  },
  {
   "cell_type": "markdown",
   "metadata": {},
   "source": [
    "Results of MLP are quite similar to RF. Because RF has less parameters to optimize it should be easier (faster) to fine-tune."
   ]
  },
  {
   "cell_type": "code",
   "execution_count": 111,
   "metadata": {},
   "outputs": [
    {
     "data": {
      "text/plain": [
       "RandomForestClassifier(bootstrap=True, class_weight=None, criterion='gini',\n",
       "            max_depth=None, max_features=20, max_leaf_nodes=None,\n",
       "            min_impurity_decrease=0.0, min_impurity_split=None,\n",
       "            min_samples_leaf=1, min_samples_split=2,\n",
       "            min_weight_fraction_leaf=0.0, n_estimators=10, n_jobs=3,\n",
       "            oob_score=False, random_state=42, verbose=0, warm_start=False)"
      ]
     },
     "execution_count": 111,
     "metadata": {},
     "output_type": "execute_result"
    }
   ],
   "source": [
    "rf3 = RandomForestClassifier(n_estimators=10, random_state=42, max_features=20, n_jobs=3)\n",
    "rf3.fit(X_train_rs, y_train)"
   ]
  },
  {
   "cell_type": "code",
   "execution_count": 112,
   "metadata": {},
   "outputs": [
    {
     "name": "stdout",
     "output_type": "stream",
     "text": [
      "ROC AUC score 0.960 \n",
      "              precision    recall  f1-score   support\n",
      "\n",
      "           0       0.99      1.00      0.99    592537\n",
      "           1       1.00      0.92      0.96     85664\n",
      "\n",
      "   micro avg       0.99      0.99      0.99    678201\n",
      "   macro avg       0.99      0.96      0.98    678201\n",
      "weighted avg       0.99      0.99      0.99    678201\n",
      "\n"
     ]
    }
   ],
   "source": [
    "pred = rf3.predict(X_test_rs)\n",
    "print('ROC AUC score {:.3f} '.format(roc_auc_score(y_test, pred)))\n",
    "print(classification_report(y_test, pred))"
   ]
  },
  {
   "cell_type": "markdown",
   "metadata": {},
   "source": [
    "Hyperparameter tuning of Random Forest Classifier."
   ]
  },
  {
   "cell_type": "code",
   "execution_count": 42,
   "metadata": {},
   "outputs": [],
   "source": [
    "from sklearn.model_selection import GridSearchCV"
   ]
  },
  {
   "cell_type": "code",
   "execution_count": 43,
   "metadata": {},
   "outputs": [],
   "source": [
    "param_grid = [\n",
    "    {'n_estimators':[5, 10, 20], 'max_features':[10, 15, 20], 'max_depth':[5, 10, 15]\n",
    "    }\n",
    "]"
   ]
  },
  {
   "cell_type": "code",
   "execution_count": 61,
   "metadata": {},
   "outputs": [],
   "source": [
    "import time\n",
    "tic = time.time()"
   ]
  },
  {
   "cell_type": "code",
   "execution_count": 44,
   "metadata": {},
   "outputs": [],
   "source": [
    "tic = time.time()\n",
    "grid_RF = RandomForestClassifier()\n",
    "grid_search = GridSearchCV(grid_RF, param_grid, cv=3, n_jobs=2\n",
    "                           , scoring='roc_auc', return_train_score=True, pre_dispatch=2)\n",
    "grid_search.fit(X_train_rs, y_train)\n",
    "toc = time.time()"
   ]
  },
  {
   "cell_type": "code",
   "execution_count": 45,
   "metadata": {
    "scrolled": true
   },
   "outputs": [
    {
     "name": "stdout",
     "output_type": "stream",
     "text": [
      "01:44:32\n"
     ]
    }
   ],
   "source": [
    "print('{}'.format(time.strftime(\"%H:%M:%S\" , time.gmtime(toc - tic) )))"
   ]
  },
  {
   "cell_type": "code",
   "execution_count": 47,
   "metadata": {},
   "outputs": [
    {
     "name": "stdout",
     "output_type": "stream",
     "text": [
      "{'max_depth': 15, 'max_features': 20, 'n_estimators': 20}\n",
      "RandomForestClassifier(bootstrap=True, class_weight=None, criterion='gini',\n",
      "            max_depth=15, max_features=20, max_leaf_nodes=None,\n",
      "            min_impurity_decrease=0.0, min_impurity_split=None,\n",
      "            min_samples_leaf=1, min_samples_split=2,\n",
      "            min_weight_fraction_leaf=0.0, n_estimators=20, n_jobs=None,\n",
      "            oob_score=False, random_state=None, verbose=0,\n",
      "            warm_start=False)\n"
     ]
    }
   ],
   "source": [
    "print(grid_search.best_params_)\n",
    "print(grid_search.best_estimator_)"
   ]
  },
  {
   "cell_type": "code",
   "execution_count": 48,
   "metadata": {},
   "outputs": [
    {
     "name": "stdout",
     "output_type": "stream",
     "text": [
      "              precision    recall  f1-score   support\n",
      "\n",
      "           0       0.99      1.00      0.99    592537\n",
      "           1       1.00      0.91      0.96     85664\n",
      "\n",
      "   micro avg       0.99      0.99      0.99    678201\n",
      "   macro avg       0.99      0.96      0.97    678201\n",
      "weighted avg       0.99      0.99      0.99    678201\n",
      "\n",
      "[[592515     22]\n",
      " [  7302  78362]]\n"
     ]
    }
   ],
   "source": [
    "grid_pred = grid_search.best_estimator_.predict(X_test_rs)\n",
    "print(classification_report(y_test, grid_pred))\n",
    "print(confusion_matrix(y_test, grid_pred))"
   ]
  },
  {
   "cell_type": "code",
   "execution_count": 109,
   "metadata": {},
   "outputs": [
    {
     "name": "stdout",
     "output_type": "stream",
     "text": [
      "Train ROC AUC score after grid search is 0.959 \n"
     ]
    }
   ],
   "source": [
    "print('Train ROC AUC score after grid search is {:.3f} '.format(roc_auc_score(y_train, grid_search.best_estimator_.predict(X_train_rs))))"
   ]
  },
  {
   "cell_type": "code",
   "execution_count": 51,
   "metadata": {},
   "outputs": [
    {
     "name": "stdout",
     "output_type": "stream",
     "text": [
      "Test ROC AUC score after grid search is 0.957 \n"
     ]
    }
   ],
   "source": [
    "print('Test ROC AUC score after grid search is {:.3f} '.format(roc_auc_score(y_test, grid_pred)))"
   ]
  },
  {
   "cell_type": "code",
   "execution_count": 57,
   "metadata": {},
   "outputs": [],
   "source": [
    "grid_pred_proba = grid_search.best_estimator_.predict_proba(X_test_rs)"
   ]
  },
  {
   "cell_type": "code",
   "execution_count": 61,
   "metadata": {},
   "outputs": [
    {
     "data": {
      "text/plain": [
       "array([0, 1])"
      ]
     },
     "execution_count": 61,
     "metadata": {},
     "output_type": "execute_result"
    }
   ],
   "source": [
    "grid_search.best_estimator_.classes_"
   ]
  },
  {
   "cell_type": "code",
   "execution_count": 60,
   "metadata": {
    "scrolled": true
   },
   "outputs": [
    {
     "data": {
      "text/plain": [
       "array([[9.98322317e-01, 1.67768323e-03],\n",
       "       [9.88082027e-01, 1.19179728e-02],\n",
       "       [9.99855684e-01, 1.44315918e-04],\n",
       "       ...,\n",
       "       [0.00000000e+00, 1.00000000e+00],\n",
       "       [8.94296245e-02, 9.10570375e-01],\n",
       "       [9.85018496e-01, 1.49815044e-02]])"
      ]
     },
     "execution_count": 60,
     "metadata": {},
     "output_type": "execute_result"
    }
   ],
   "source": [
    "grid_pred_proba"
   ]
  },
  {
   "cell_type": "code",
   "execution_count": 70,
   "metadata": {},
   "outputs": [],
   "source": [
    "#pred_prob_rf3 = rf3.predict_proba(X_test_rs)\n",
    "fpr, tpr, _ = roc_curve(y_test, grid_pred_proba[:, 1], pos_label = 1, drop_intermediate=True)"
   ]
  },
  {
   "cell_type": "code",
   "execution_count": 91,
   "metadata": {
    "scrolled": true
   },
   "outputs": [
    {
     "data": {
      "image/png": "[encoded data removed]",
      "text/plain": [
       "<Figure size 432x288 with 1 Axes>"
      ]
     },
     "metadata": {
      "needs_background": "light"
     },
     "output_type": "display_data"
    }
   ],
   "source": [
    "plt.plot(rf1_fpr, rf1_tpr, label='rf1', color='green')\n",
    "plt.plot(fpr, tpr, label='rf4', color='red')\n",
    "\n",
    "plt.plot(np.arange(0, 1.1, 0.1), np.arange(0, 1.1, 0.1), label='random')\n",
    "plt.legend()\n",
    "plt.show()"
   ]
  },
  {
   "cell_type": "markdown",
   "metadata": {},
   "source": [
    "<a name='summary'></a>\n",
    "__6. Summary - Loan Defaults Prediction__"
   ]
  },
  {
   "cell_type": "markdown",
   "metadata": {},
   "source": [
    "_6.1 Introduction_  \n",
    "Lending Club is platform for connecting borrowers and investors, providing access to money for former and opportunity for profit for latter.  \n",
    "Task at hand involves creating model predicting probability of loan default and through it help investors avoid unnecessary risks."
   ]
  },
  {
   "cell_type": "markdown",
   "metadata": {},
   "source": [
    "_6.2 Dataset decription_  \n",
    "Provided dataset consisted of 2 260 668 observations and 145 variables. Target variable was \"loan type\", consisting of few descriptive categories, which transformed into two states indicated if loan defaulted or was fully paid. 12.57% of observations belonged to category \"default\", other 87.43% were \"fully paid\".  \n",
    "Out of 145 variables a few were direct indicators of loan status that were post-event features, thus were removed from dataset. "
   ]
  },
  {
   "cell_type": "code",
   "execution_count": 84,
   "metadata": {},
   "outputs": [
    {
     "data": {
      "image/png": "[encoded data removed]",
      "text/plain": [
       "<Figure size 432x288 with 1 Axes>"
      ]
     },
     "metadata": {},
     "output_type": "display_data"
    }
   ],
   "source": [
    "df.target.value_counts().plot.pie(explode=[0, 0.1], startangle=78, labels=['Fully Paid', 'Default'], fontsize=12, shadow=True)\n",
    "plt.title('Loan Conditions', fontsize=16)\n",
    "plt.ylabel('% of Loan Type', fontsize=14)\n",
    "plt.show()"
   ]
  },
  {
   "cell_type": "markdown",
   "metadata": {},
   "source": [
    "_6.3 Model comparison_  \n",
    "Base evaluation metric for models was ROC/AUC score - Receiver Operating Characterstic and Area Under Curve. Based on the fact that dataset was imbalanced, consisting of only 12.5% positive events, F1-Score and Recall were also taken into consideration in model selection.  \n",
    "\n",
    "In modeling process first used algorithm was Random Forest Classifier ('_rf1_'), which proved to be quite adequate - reached 0.949 ROC/AUC score, 0.89 recall and 0.94 F1-Score on test set, however on train data it had 0.989 ROC/AUC score indicating overfitting.  \n",
    "\n",
    "Second used algorithm was a Neural Network, reaching 0.956 ROC/AUC on both training and test sets - indicating great generalization capabilities. Recall for this model had value of 0.91 and F1-score - 0.95, both better than results of Random Forest.  \n",
    "\n",
    "Third used algorithm was again Random Forest Classifier, however this time with different hyperparameter values to combat overfitting, which were an effect of grid search. Model reached 0.957 ROC/AUC score on training set and 0.956 ROC/AUC score on test set which indicates a lot better generalization than first model and almost the same as Neural Network model. However model reached better values of Recall and F-1 score - 0.91 and 0.96 respectively, which indicates that it's best suited for this predictive task."
   ]
  },
  {
   "cell_type": "markdown",
   "metadata": {},
   "source": [
    "|  Model   | ROC/AUC | Recall | F1-Score |\n",
    "|----------|:-------:|:------:|:--------:|  \n",
    "| Random Forest | 0.949| 0.89| 0.94|\n",
    "|Neural Network |0.956 | 0.91 | 0.95|\n",
    "|2nd Random Forest| 0.956| 0.91 | 0.96 |"
   ]
  },
  {
   "cell_type": "markdown",
   "metadata": {},
   "source": [
    "Above table presents comparison of metrics for evaluated models on test set."
   ]
  },
  {
   "cell_type": "code",
   "execution_count": 112,
   "metadata": {
    "scrolled": true
   },
   "outputs": [
    {
     "data": {
      "image/png": "[encoded data removed]",
      "text/plain": [
       "<Figure size 432x288 with 1 Axes>"
      ]
     },
     "metadata": {
      "needs_background": "light"
     },
     "output_type": "display_data"
    }
   ],
   "source": [
    "plt.plot(rf1_fpr, rf1_tpr, label='rf1', color='green')\n",
    "plt.plot(nn_fpr, nn_tpr, label='nn', color='black')\n",
    "plt.plot(fpr, tpr, label='rf2', color='red')\n",
    "plt.plot(np.arange(0, 1.1, 0.1), np.arange(0, 1.1, 0.1), label='random')\n",
    "plt.title('ROC Curves for models')\n",
    "plt.xlabel('False Positive Rate')\n",
    "plt.ylabel('True Positive Rate')\n",
    "plt.legend(fontsize=13)\n",
    "plt.show()"
   ]
  },
  {
   "cell_type": "markdown",
   "metadata": {},
   "source": [
    "Above figure presents ROC Curves for tested models. Second Random Forest Classifier and Neural Network perform very closely."
   ]
  },
  {
   "cell_type": "code",
   "execution_count": null,
   "metadata": {},
   "outputs": [],
   "source": []
  },
  {
   "cell_type": "code",
   "execution_count": null,
   "metadata": {},
   "outputs": [],
   "source": []
  },
  {
   "cell_type": "code",
   "execution_count": null,
   "metadata": {},
   "outputs": [],
   "source": []
  },
  {
   "cell_type": "code",
   "execution_count": null,
   "metadata": {},
   "outputs": [],
   "source": []
  }
 ],
 "metadata": {
  "kernelspec": {
   "display_name": "Python 3",
   "language": "python",
   "name": "python3"
  },
  "language_info": {
   "codemirror_mode": {
    "name": "ipython",
    "version": 3
   },
   "file_extension": ".py",
   "mimetype": "text/x-python",
   "name": "python",
   "nbconvert_exporter": "python",
   "pygments_lexer": "ipython3",
   "version": "3.7.3"
  },
  "toc": {
   "base_numbering": 1,
   "nav_menu": {},
   "number_sections": true,
   "sideBar": true,
   "skip_h1_title": false,
   "title_cell": "Table of Contents",
   "title_sidebar": "Contents",
   "toc_cell": false,
   "toc_position": {},
   "toc_section_display": true,
   "toc_window_display": false
  }
 },
 "nbformat": 4,
 "nbformat_minor": 2
}
